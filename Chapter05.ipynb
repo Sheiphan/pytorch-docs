{
 "cells": [
  {
   "cell_type": "markdown",
   "metadata": {},
   "source": [
    "# Deep Learning with PyTorch Step-by-Step: A Beginner's Guide"
   ]
  },
  {
   "cell_type": "markdown",
   "metadata": {},
   "source": [
    "# Chapter 5"
   ]
  },
  {
   "cell_type": "code",
   "execution_count": 1,
   "metadata": {},
   "outputs": [
    {
     "name": "stderr",
     "output_type": "stream",
     "text": [
      "/tmp/ipykernel_4574/82325636.py:1: DeprecationWarning: Importing display from IPython.core.display is deprecated since IPython 7.14, please import from IPython display\n",
      "  from IPython.core.display import display, HTML\n"
     ]
    },
    {
     "data": {
      "text/html": [
       "<style>.container { width:80% !important; }</style>"
      ],
      "text/plain": [
       "<IPython.core.display.HTML object>"
      ]
     },
     "metadata": {},
     "output_type": "display_data"
    }
   ],
   "source": [
    "from IPython.core.display import display, HTML\n",
    "display(HTML(\"<style>.container { width:80% !important; }</style>\"))"
   ]
  },
  {
   "cell_type": "code",
   "execution_count": 2,
   "metadata": {},
   "outputs": [],
   "source": [
    "try:\n",
    "    import google.colab\n",
    "    import requests\n",
    "    url = 'https://raw.githubusercontent.com/dvgodoy/PyTorchStepByStep/master/config.py'\n",
    "    r = requests.get(url, allow_redirects=True)\n",
    "    open('config.py', 'wb').write(r.content)    \n",
    "except ModuleNotFoundError:\n",
    "    pass\n",
    "\n",
    "from config import *\n",
    "config_chapter5()\n",
    "# This is needed to render the plots in this chapter\n",
    "from plots.chapter5 import *"
   ]
  },
  {
   "cell_type": "code",
   "execution_count": 3,
   "metadata": {},
   "outputs": [],
   "source": [
    "import random\n",
    "import numpy as np\n",
    "from PIL import Image\n",
    "\n",
    "import torch\n",
    "import torch.optim as optim\n",
    "import torch.nn as nn\n",
    "import torch.nn.functional as F\n",
    "\n",
    "from torch.utils.data import DataLoader, Dataset\n",
    "from torchvision.transforms import Compose, Normalize\n",
    "\n",
    "from data_generation.image_classification import generate_dataset\n",
    "from helpers import index_splitter, make_balanced_sampler\n",
    "from stepbystep.v1 import StepByStep"
   ]
  },
  {
   "cell_type": "markdown",
   "metadata": {},
   "source": [
    "# Convolutions"
   ]
  },
  {
   "cell_type": "markdown",
   "metadata": {},
   "source": [
    "## Filter / Kernel"
   ]
  },
  {
   "cell_type": "markdown",
   "metadata": {},
   "source": [
    "![](./images/conv1.png)"
   ]
  },
  {
   "cell_type": "code",
   "execution_count": 4,
   "metadata": {},
   "outputs": [
    {
     "data": {
      "text/plain": [
       "(1, 1, 6, 6)"
      ]
     },
     "execution_count": 4,
     "metadata": {},
     "output_type": "execute_result"
    }
   ],
   "source": [
    "single = np.array(\n",
    "    [[[[5, 0, 8, 7, 8, 1],\n",
    "       [1, 9, 5, 0, 7, 7],\n",
    "       [6, 0, 2, 4, 6, 6],\n",
    "       [9, 7, 6, 6, 8, 4],\n",
    "       [8, 3, 8, 5, 1, 3],\n",
    "       [7, 2, 7, 0, 1, 0]]]]\n",
    ")\n",
    "single.shape"
   ]
  },
  {
   "cell_type": "code",
   "execution_count": 5,
   "metadata": {},
   "outputs": [
    {
     "data": {
      "text/plain": [
       "(1, 1, 3, 3)"
      ]
     },
     "execution_count": 5,
     "metadata": {},
     "output_type": "execute_result"
    }
   ],
   "source": [
    "identity = np.array(\n",
    "    [[[[0, 0, 0],\n",
    "       [0, 1, 0],\n",
    "       [0, 0, 0]]]]\n",
    ")\n",
    "identity.shape"
   ]
  },
  {
   "cell_type": "markdown",
   "metadata": {},
   "source": [
    "## Convolving"
   ]
  },
  {
   "cell_type": "markdown",
   "metadata": {},
   "source": [
    "![](./images/conv2.png)"
   ]
  },
  {
   "cell_type": "code",
   "execution_count": 6,
   "metadata": {},
   "outputs": [
    {
     "data": {
      "text/plain": [
       "np.int64(9)"
      ]
     },
     "execution_count": 6,
     "metadata": {},
     "output_type": "execute_result"
    }
   ],
   "source": [
    "region = single[:, :, 0:3, 0:3]\n",
    "filtered_region = region * identity\n",
    "total = filtered_region.sum()\n",
    "total"
   ]
  },
  {
   "cell_type": "markdown",
   "metadata": {},
   "source": [
    "![](./images/conv3.png)"
   ]
  },
  {
   "cell_type": "markdown",
   "metadata": {},
   "source": [
    "## Moving Around"
   ]
  },
  {
   "cell_type": "markdown",
   "metadata": {},
   "source": [
    "![](./images/stride1.png)"
   ]
  },
  {
   "cell_type": "code",
   "execution_count": 7,
   "metadata": {},
   "outputs": [],
   "source": [
    "new_region = single[:, :, 0:3, (0+1):(3+1)]"
   ]
  },
  {
   "cell_type": "markdown",
   "metadata": {},
   "source": [
    "![](./images/conv5.png)"
   ]
  },
  {
   "cell_type": "code",
   "execution_count": 8,
   "metadata": {},
   "outputs": [
    {
     "data": {
      "text/plain": [
       "np.int64(5)"
      ]
     },
     "execution_count": 8,
     "metadata": {},
     "output_type": "execute_result"
    }
   ],
   "source": [
    "new_filtered_region = new_region * identity\n",
    "new_total = new_filtered_region.sum()\n",
    "new_total"
   ]
  },
  {
   "cell_type": "markdown",
   "metadata": {},
   "source": [
    "![](./images/conv6.png)"
   ]
  },
  {
   "cell_type": "markdown",
   "metadata": {},
   "source": [
    "![](./images/conv7.png)"
   ]
  },
  {
   "cell_type": "code",
   "execution_count": 9,
   "metadata": {},
   "outputs": [],
   "source": [
    "last_horizontal_region = single[:, :, 0:3, (0+4):(3+4)]"
   ]
  },
  {
   "cell_type": "code",
   "execution_count": null,
   "metadata": {},
   "outputs": [
    {
     "ename": "ValueError",
     "evalue": "operands could not be broadcast together with shapes (1,1,3,2) (1,1,3,3) ",
     "output_type": "error",
     "traceback": [
      "\u001b[0;31m---------------------------------------------------------------------------\u001b[0m",
      "\u001b[0;31mValueError\u001b[0m                                Traceback (most recent call last)",
      "Cell \u001b[0;32mIn[10], line 1\u001b[0m\n\u001b[0;32m----> 1\u001b[0m \u001b[43mlast_horizontal_region\u001b[49m\u001b[43m \u001b[49m\u001b[38;5;241;43m*\u001b[39;49m\u001b[43m \u001b[49m\u001b[43midentity\u001b[49m\n",
      "\u001b[0;31mValueError\u001b[0m: operands could not be broadcast together with shapes (1,1,3,2) (1,1,3,3) "
     ]
    }
   ],
   "source": [
    "last_horizontal_region * identity"
   ]
  },
  {
   "cell_type": "markdown",
   "metadata": {},
   "source": [
    "## Shape"
   ]
  },
  {
   "cell_type": "markdown",
   "metadata": {},
   "source": [
    "![](./images/conv8.png)"
   ]
  },
  {
   "cell_type": "markdown",
   "metadata": {},
   "source": [
    "$$\n",
    "\\Large\n",
    "(h_i, w_i) * (h_f, w_f) = (h_i - (h_f - 1), w_i - (w_f - 1))\n",
    "$$"
   ]
  },
  {
   "cell_type": "markdown",
   "metadata": {},
   "source": [
    "$$\n",
    "\\Large\n",
    "(h_i, w_i) * f = (h_i - f + 1, w_i - f + 1)\n",
    "$$"
   ]
  },
  {
   "cell_type": "markdown",
   "metadata": {},
   "source": [
    "## Convolving in PyTorch"
   ]
  },
  {
   "cell_type": "code",
   "execution_count": 11,
   "metadata": {},
   "outputs": [],
   "source": [
    "image = torch.as_tensor(single).float()\n",
    "kernel_identity = torch.as_tensor(identity).float()"
   ]
  },
  {
   "cell_type": "code",
   "execution_count": 12,
   "metadata": {},
   "outputs": [
    {
     "data": {
      "text/plain": [
       "tensor([[[[9., 5., 0., 7.],\n",
       "          [0., 2., 4., 6.],\n",
       "          [7., 6., 6., 8.],\n",
       "          [3., 8., 5., 1.]]]])"
      ]
     },
     "execution_count": 12,
     "metadata": {},
     "output_type": "execute_result"
    }
   ],
   "source": [
    "convolved = F.conv2d(image, kernel_identity, stride=1)\n",
    "convolved"
   ]
  },
  {
   "cell_type": "code",
   "execution_count": 13,
   "metadata": {},
   "outputs": [
    {
     "data": {
      "text/plain": [
       "tensor([[[[ 1.3208, -2.7524,  2.5079,  0.9110],\n",
       "          [ 1.6718,  2.5096,  2.4029,  0.5617],\n",
       "          [ 0.2176, -1.1171,  1.3782, -0.4507],\n",
       "          [ 2.5312, -0.7747,  0.1681,  0.1180]]]],\n",
       "       grad_fn=<ConvolutionBackward0>)"
      ]
     },
     "execution_count": 13,
     "metadata": {},
     "output_type": "execute_result"
    }
   ],
   "source": [
    "conv = nn.Conv2d(in_channels=1, out_channels=1, kernel_size=3, stride=1)\n",
    "conv(image)"
   ]
  },
  {
   "cell_type": "code",
   "execution_count": 14,
   "metadata": {},
   "outputs": [
    {
     "data": {
      "text/plain": [
       "Parameter containing:\n",
       "tensor([[[[ 0.0694, -0.0153,  0.1177],\n",
       "          [-0.2221, -0.3034,  0.2526],\n",
       "          [ 0.2575, -0.0947,  0.0367]]]], requires_grad=True)"
      ]
     },
     "execution_count": 14,
     "metadata": {},
     "output_type": "execute_result"
    }
   ],
   "source": [
    "conv.weight"
   ]
  },
  {
   "cell_type": "code",
   "execution_count": 15,
   "metadata": {},
   "outputs": [
    {
     "data": {
      "text/plain": [
       "Parameter containing:\n",
       "tensor([[[[ 0.2028, -0.0562,  0.2172],\n",
       "          [-0.1900, -0.0600,  0.2171],\n",
       "          [ 0.0247, -0.0558,  0.2781]]],\n",
       "\n",
       "\n",
       "        [[[-0.0537, -0.2028,  0.1091],\n",
       "          [-0.1387,  0.2205,  0.1484],\n",
       "          [ 0.1874,  0.1685, -0.0650]]]], requires_grad=True)"
      ]
     },
     "execution_count": 15,
     "metadata": {},
     "output_type": "execute_result"
    }
   ],
   "source": [
    "conv_multiple = nn.Conv2d(in_channels=1, out_channels=2, kernel_size=3, stride=1)\n",
    "conv_multiple.weight"
   ]
  },
  {
   "cell_type": "code",
   "execution_count": 16,
   "metadata": {},
   "outputs": [
    {
     "data": {
      "text/plain": [
       "Parameter containing:\n",
       "tensor([0.1041], requires_grad=True)"
      ]
     },
     "execution_count": 16,
     "metadata": {},
     "output_type": "execute_result"
    }
   ],
   "source": [
    "conv.bias"
   ]
  },
  {
   "cell_type": "code",
   "execution_count": 17,
   "metadata": {},
   "outputs": [],
   "source": [
    "with torch.no_grad():\n",
    "    conv.weight[0] = kernel_identity\n",
    "    conv.bias[0] = 0"
   ]
  },
  {
   "cell_type": "code",
   "execution_count": 18,
   "metadata": {},
   "outputs": [
    {
     "data": {
      "text/plain": [
       "tensor([[[[9., 5., 0., 7.],\n",
       "          [0., 2., 4., 6.],\n",
       "          [7., 6., 6., 8.],\n",
       "          [3., 8., 5., 1.]]]], grad_fn=<ConvolutionBackward0>)"
      ]
     },
     "execution_count": 18,
     "metadata": {},
     "output_type": "execute_result"
    }
   ],
   "source": [
    "conv(image)"
   ]
  },
  {
   "cell_type": "markdown",
   "metadata": {},
   "source": [
    "## Striding"
   ]
  },
  {
   "cell_type": "markdown",
   "metadata": {},
   "source": [
    "![](./images/strider2.png)"
   ]
  },
  {
   "cell_type": "markdown",
   "metadata": {},
   "source": [
    "![](./images/strider3.png)"
   ]
  },
  {
   "cell_type": "markdown",
   "metadata": {},
   "source": [
    "$$\n",
    "\\Large\n",
    "(h_i, w_i) * f = \\left(\\frac{h_i - f + 1}{s}, \\frac{w_i - f + 1}{s}\\right)\n",
    "$$"
   ]
  },
  {
   "cell_type": "code",
   "execution_count": 19,
   "metadata": {},
   "outputs": [
    {
     "data": {
      "text/plain": [
       "tensor([[[[5., 8., 8.],\n",
       "          [6., 2., 6.],\n",
       "          [8., 8., 1.]]]])"
      ]
     },
     "execution_count": 19,
     "metadata": {},
     "output_type": "execute_result"
    }
   ],
   "source": [
    "convolved_stride2 = F.conv2d(image, kernel_identity, stride=2, padding=1)\n",
    "convolved_stride2"
   ]
  },
  {
   "cell_type": "markdown",
   "metadata": {},
   "source": [
    "## Padding"
   ]
  },
  {
   "cell_type": "markdown",
   "metadata": {},
   "source": [
    "![](./images/padding1.png)"
   ]
  },
  {
   "cell_type": "code",
   "execution_count": 20,
   "metadata": {},
   "outputs": [
    {
     "data": {
      "text/plain": [
       "tensor([[[[0., 0., 0., 0., 0., 0., 0., 0.],\n",
       "          [0., 5., 0., 8., 7., 8., 1., 0.],\n",
       "          [0., 1., 9., 5., 0., 7., 7., 0.],\n",
       "          [0., 6., 0., 2., 4., 6., 6., 0.],\n",
       "          [0., 9., 7., 6., 6., 8., 4., 0.],\n",
       "          [0., 8., 3., 8., 5., 1., 3., 0.],\n",
       "          [0., 7., 2., 7., 0., 1., 0., 0.],\n",
       "          [0., 0., 0., 0., 0., 0., 0., 0.]]]])"
      ]
     },
     "execution_count": 20,
     "metadata": {},
     "output_type": "execute_result"
    }
   ],
   "source": [
    "constant_padder = nn.ConstantPad2d(padding=1, value=0)\n",
    "constant_padder(image)"
   ]
  },
  {
   "cell_type": "code",
   "execution_count": 21,
   "metadata": {},
   "outputs": [
    {
     "data": {
      "text/plain": [
       "tensor([[[[0., 0., 0., 0., 0., 0., 0., 0.],\n",
       "          [0., 5., 0., 8., 7., 8., 1., 0.],\n",
       "          [0., 1., 9., 5., 0., 7., 7., 0.],\n",
       "          [0., 6., 0., 2., 4., 6., 6., 0.],\n",
       "          [0., 9., 7., 6., 6., 8., 4., 0.],\n",
       "          [0., 8., 3., 8., 5., 1., 3., 0.],\n",
       "          [0., 7., 2., 7., 0., 1., 0., 0.],\n",
       "          [0., 0., 0., 0., 0., 0., 0., 0.]]]])"
      ]
     },
     "execution_count": 21,
     "metadata": {},
     "output_type": "execute_result"
    }
   ],
   "source": [
    "padded = F.pad(image, pad=(1, 1, 1, 1), mode='constant', value=0)\n",
    "padded"
   ]
  },
  {
   "cell_type": "markdown",
   "metadata": {},
   "source": [
    "![](images/paddings.png)"
   ]
  },
  {
   "cell_type": "code",
   "execution_count": 22,
   "metadata": {},
   "outputs": [
    {
     "data": {
      "text/plain": [
       "tensor([[[[5., 5., 0., 8., 7., 8., 1., 1.],\n",
       "          [5., 5., 0., 8., 7., 8., 1., 1.],\n",
       "          [1., 1., 9., 5., 0., 7., 7., 7.],\n",
       "          [6., 6., 0., 2., 4., 6., 6., 6.],\n",
       "          [9., 9., 7., 6., 6., 8., 4., 4.],\n",
       "          [8., 8., 3., 8., 5., 1., 3., 3.],\n",
       "          [7., 7., 2., 7., 0., 1., 0., 0.],\n",
       "          [7., 7., 2., 7., 0., 1., 0., 0.]]]])"
      ]
     },
     "execution_count": 22,
     "metadata": {},
     "output_type": "execute_result"
    }
   ],
   "source": [
    "replication_padder = nn.ReplicationPad2d(padding=1)\n",
    "replication_padder(image)"
   ]
  },
  {
   "cell_type": "code",
   "execution_count": 23,
   "metadata": {},
   "outputs": [
    {
     "data": {
      "text/plain": [
       "tensor([[[[9., 1., 9., 5., 0., 7., 7., 7.],\n",
       "          [0., 5., 0., 8., 7., 8., 1., 8.],\n",
       "          [9., 1., 9., 5., 0., 7., 7., 7.],\n",
       "          [0., 6., 0., 2., 4., 6., 6., 6.],\n",
       "          [7., 9., 7., 6., 6., 8., 4., 8.],\n",
       "          [3., 8., 3., 8., 5., 1., 3., 1.],\n",
       "          [2., 7., 2., 7., 0., 1., 0., 1.],\n",
       "          [3., 8., 3., 8., 5., 1., 3., 1.]]]])"
      ]
     },
     "execution_count": 23,
     "metadata": {},
     "output_type": "execute_result"
    }
   ],
   "source": [
    "reflection_padder = nn.ReflectionPad2d(padding=1)\n",
    "reflection_padder(image)"
   ]
  },
  {
   "cell_type": "code",
   "execution_count": 24,
   "metadata": {},
   "outputs": [
    {
     "data": {
      "text/plain": [
       "tensor([[[[0., 7., 2., 7., 0., 1., 0., 7.],\n",
       "          [1., 5., 0., 8., 7., 8., 1., 5.],\n",
       "          [7., 1., 9., 5., 0., 7., 7., 1.],\n",
       "          [6., 6., 0., 2., 4., 6., 6., 6.],\n",
       "          [4., 9., 7., 6., 6., 8., 4., 9.],\n",
       "          [3., 8., 3., 8., 5., 1., 3., 8.],\n",
       "          [0., 7., 2., 7., 0., 1., 0., 7.],\n",
       "          [1., 5., 0., 8., 7., 8., 1., 5.]]]])"
      ]
     },
     "execution_count": 24,
     "metadata": {},
     "output_type": "execute_result"
    }
   ],
   "source": [
    "F.pad(image, pad=(1, 1, 1, 1), mode='circular')"
   ]
  },
  {
   "cell_type": "markdown",
   "metadata": {},
   "source": [
    "$$\n",
    "\\Large\n",
    "(h_i, w_i) * f = \\left(\\frac{(h_i + 2p) - f + 1}{s}, \\frac{(w_i + 2p) - f + 1}{s}\\right)\n",
    "$$"
   ]
  },
  {
   "cell_type": "markdown",
   "metadata": {},
   "source": [
    "## A REAL Filter"
   ]
  },
  {
   "cell_type": "code",
   "execution_count": 25,
   "metadata": {},
   "outputs": [
    {
     "data": {
      "text/plain": [
       "torch.Size([1, 1, 3, 3])"
      ]
     },
     "execution_count": 25,
     "metadata": {},
     "output_type": "execute_result"
    }
   ],
   "source": [
    "edge = np.array(\n",
    "    [[[[0, 1, 0],\n",
    "       [1, -4, 1],\n",
    "       [0, 1, 0]]]]\n",
    ")\n",
    "kernel_edge = torch.as_tensor(edge).float()\n",
    "kernel_edge.shape"
   ]
  },
  {
   "cell_type": "markdown",
   "metadata": {},
   "source": [
    "![](./images/padding2.png)"
   ]
  },
  {
   "cell_type": "markdown",
   "metadata": {},
   "source": [
    "![](./images/padding3.png)"
   ]
  },
  {
   "cell_type": "code",
   "execution_count": 26,
   "metadata": {},
   "outputs": [
    {
     "data": {
      "text/plain": [
       "tensor([[[[-19.,  22., -20., -12., -17.,  11.],\n",
       "          [ 16., -30.,  -1.,  23.,  -7., -14.],\n",
       "          [-14.,  24.,   7.,  -2.,   1.,  -7.],\n",
       "          [-15., -10.,  -1.,  -1., -15.,   1.],\n",
       "          [-13.,  13., -11.,  -5.,  13.,  -7.],\n",
       "          [-18.,   9., -18.,  13.,  -3.,   4.]]]])"
      ]
     },
     "execution_count": 26,
     "metadata": {},
     "output_type": "execute_result"
    }
   ],
   "source": [
    "padded = F.pad(image, (1, 1, 1, 1), mode='constant', value=0)\n",
    "conv_padded = F.conv2d(padded, kernel_edge, stride=1)\n",
    "conv_padded"
   ]
  },
  {
   "cell_type": "markdown",
   "metadata": {},
   "source": [
    "# Pooling"
   ]
  },
  {
   "cell_type": "markdown",
   "metadata": {},
   "source": [
    "![](./images/pooling1.png)"
   ]
  },
  {
   "cell_type": "code",
   "execution_count": 27,
   "metadata": {},
   "outputs": [
    {
     "data": {
      "text/plain": [
       "tensor([[[[22., 23., 11.],\n",
       "          [24.,  7.,  1.],\n",
       "          [13., 13., 13.]]]])"
      ]
     },
     "execution_count": 27,
     "metadata": {},
     "output_type": "execute_result"
    }
   ],
   "source": [
    "pooled = F.max_pool2d(conv_padded, kernel_size=2)\n",
    "pooled"
   ]
  },
  {
   "cell_type": "code",
   "execution_count": 28,
   "metadata": {},
   "outputs": [
    {
     "data": {
      "text/plain": [
       "tensor([[[[24.]]]])"
      ]
     },
     "execution_count": 28,
     "metadata": {},
     "output_type": "execute_result"
    }
   ],
   "source": [
    "maxpool4 = nn.MaxPool2d(kernel_size=4)\n",
    "pooled4 = maxpool4(conv_padded)\n",
    "pooled4"
   ]
  },
  {
   "cell_type": "code",
   "execution_count": 29,
   "metadata": {},
   "outputs": [
    {
     "data": {
      "text/plain": [
       "tensor([[[[24., 24., 23., 23.],\n",
       "          [24., 24., 23., 23.],\n",
       "          [24., 24., 13., 13.],\n",
       "          [13., 13., 13., 13.]]]])"
      ]
     },
     "execution_count": 29,
     "metadata": {},
     "output_type": "execute_result"
    }
   ],
   "source": [
    "F.max_pool2d(conv_padded, kernel_size=3, stride=1)"
   ]
  },
  {
   "cell_type": "markdown",
   "metadata": {},
   "source": [
    "# Flattening"
   ]
  },
  {
   "cell_type": "code",
   "execution_count": 30,
   "metadata": {},
   "outputs": [
    {
     "data": {
      "text/plain": [
       "tensor([[22., 23., 11., 24.,  7.,  1., 13., 13., 13.]])"
      ]
     },
     "execution_count": 30,
     "metadata": {},
     "output_type": "execute_result"
    }
   ],
   "source": [
    "flattened = nn.Flatten()(pooled)\n",
    "flattened"
   ]
  },
  {
   "cell_type": "code",
   "execution_count": 31,
   "metadata": {},
   "outputs": [
    {
     "data": {
      "text/plain": [
       "tensor([[22., 23., 11., 24.,  7.,  1., 13., 13., 13.]])"
      ]
     },
     "execution_count": 31,
     "metadata": {},
     "output_type": "execute_result"
    }
   ],
   "source": [
    "pooled.view(1, -1)"
   ]
  },
  {
   "cell_type": "markdown",
   "metadata": {},
   "source": [
    "# Typical Architecture"
   ]
  },
  {
   "cell_type": "markdown",
   "metadata": {},
   "source": [
    "## LeNet5"
   ]
  },
  {
   "cell_type": "markdown",
   "metadata": {},
   "source": [
    "![](images/architecture_lenet.png)\n",
    "\n",
    "*Source: Generated using Alexander Lenail's [NN-SVG](http://alexlenail.me/NN-SVG/) and adapted by the author. For more details, see LeCun, Y., et al (1998).  [Gradient-based learning applied to document recognition](http://yann.lecun.com/exdb/publis/pdf/lecun-01a.pdf). Proceedings of the IEEE,86(11), 2278–2324*"
   ]
  },
  {
   "cell_type": "code",
   "execution_count": 32,
   "metadata": {},
   "outputs": [],
   "source": [
    "lenet = nn.Sequential()\n",
    "\n",
    "# Featurizer\n",
    "# Block 1: 1@28x28 -> 6@28x28 -> 6@14x14\n",
    "lenet.add_module('C1', nn.Conv2d(in_channels=1, out_channels=6, kernel_size=5, padding=2))\n",
    "lenet.add_module('func1', nn.ReLU())\n",
    "lenet.add_module('S2', nn.MaxPool2d(kernel_size=2))\n",
    "# Block 2: 6@14x14 -> 16@10x10 -> 16@5x5\n",
    "lenet.add_module('C3', nn.Conv2d(in_channels=6, out_channels=16, kernel_size=5))\n",
    "lenet.add_module('func2', nn.ReLU())\n",
    "lenet.add_module('S4', nn.MaxPool2d(kernel_size=2))\n",
    "# Block 3: 16@5x5 -> 120@1x1\n",
    "lenet.add_module('C5', nn.Conv2d(in_channels=16, out_channels=120, kernel_size=5))\n",
    "lenet.add_module('func2', nn.ReLU())\n",
    "# Flattening\n",
    "lenet.add_module('flatten', nn.Flatten())\n",
    "\n",
    "# Classification\n",
    "# Hidden Layer\n",
    "lenet.add_module('F6', nn.Linear(in_features=120, out_features=84))\n",
    "lenet.add_module('func3', nn.ReLU())\n",
    "# Output Layer\n",
    "lenet.add_module('OUTPUT', nn.Linear(in_features=84, out_features=10))"
   ]
  },
  {
   "cell_type": "code",
   "execution_count": 33,
   "metadata": {},
   "outputs": [
    {
     "data": {
      "text/plain": [
       "==========================================================================================\n",
       "Layer (type:depth-idx)                   Output Shape              Param #\n",
       "==========================================================================================\n",
       "Sequential                               [1, 10]                   --\n",
       "├─Conv2d: 1-1                            [1, 6, 28, 28]            156\n",
       "├─ReLU: 1-2                              [1, 6, 28, 28]            --\n",
       "├─MaxPool2d: 1-3                         [1, 6, 14, 14]            --\n",
       "├─Conv2d: 1-4                            [1, 16, 10, 10]           2,416\n",
       "├─ReLU: 1-5                              [1, 16, 10, 10]           --\n",
       "├─MaxPool2d: 1-6                         [1, 16, 5, 5]             --\n",
       "├─Conv2d: 1-7                            [1, 120, 1, 1]            48,120\n",
       "├─Flatten: 1-8                           [1, 120]                  --\n",
       "├─Linear: 1-9                            [1, 84]                   10,164\n",
       "├─ReLU: 1-10                             [1, 84]                   --\n",
       "├─Linear: 1-11                           [1, 10]                   850\n",
       "==========================================================================================\n",
       "Total params: 61,706\n",
       "Trainable params: 61,706\n",
       "Non-trainable params: 0\n",
       "Total mult-adds (Units.MEGABYTES): 0.42\n",
       "==========================================================================================\n",
       "Input size (MB): 0.00\n",
       "Forward/backward pass size (MB): 0.05\n",
       "Params size (MB): 0.25\n",
       "Estimated Total Size (MB): 0.30\n",
       "=========================================================================================="
      ]
     },
     "execution_count": 33,
     "metadata": {},
     "output_type": "execute_result"
    }
   ],
   "source": [
    "from torchinfo import summary\n",
    "\n",
    "batch_size = 16\n",
    "summary(lenet, input_size=(1, 1, 28, 28))"
   ]
  },
  {
   "cell_type": "markdown",
   "metadata": {},
   "source": [
    "# A Multiclass Classification Problem"
   ]
  },
  {
   "cell_type": "markdown",
   "metadata": {},
   "source": [
    "## Data Generation"
   ]
  },
  {
   "cell_type": "code",
   "execution_count": 11,
   "metadata": {},
   "outputs": [],
   "source": [
    "images, labels = generate_dataset(img_size=10, n_images=1000, binary=False, seed=17)"
   ]
  },
  {
   "cell_type": "code",
   "execution_count": 12,
   "metadata": {},
   "outputs": [
    {
     "data": {
      "image/png": "[encoded data removed]",
      "text/plain": [
       "<Figure size 1500x450 with 30 Axes>"
      ]
     },
     "metadata": {},
     "output_type": "display_data"
    }
   ],
   "source": [
    "fig = plot_images(images, labels, n_plot=30)"
   ]
  },
  {
   "cell_type": "markdown",
   "metadata": {},
   "source": [
    "## Data Preparation"
   ]
  },
  {
   "cell_type": "code",
   "execution_count": 13,
   "metadata": {},
   "outputs": [],
   "source": [
    "class TransformedTensorDataset(Dataset):\n",
    "    def __init__(self, x, y, transform=None):\n",
    "        self.x = x\n",
    "        self.y = y\n",
    "        self.transform = transform\n",
    "        \n",
    "    def __getitem__(self, index):\n",
    "        x = self.x[index]\n",
    "        \n",
    "        if self.transform:\n",
    "            x = self.transform(x)\n",
    "        \n",
    "        return x, self.y[index]\n",
    "        \n",
    "    def __len__(self):\n",
    "        return len(self.x)"
   ]
  },
  {
   "cell_type": "code",
   "execution_count": 14,
   "metadata": {},
   "outputs": [
    {
     "data": {
      "text/plain": [
       "(array([[[  0,   0,   0,   0,   0,   0,   0,   0,   0,   0],\n",
       "         [  0,   0,   0,   0,   0,   0,   0,   0,   0,   0],\n",
       "         [  0,   0,   0,   0,   0,   0,   0,   0,   0,   0],\n",
       "         [  0,   0,   0,   0,   0,   0,   0,   0,   0,   0],\n",
       "         [  0,   0,   0,   0,   0,   0,   0,   0,   0,   0],\n",
       "         [  0,   0,   0,   0,   0,   0,   0,   0,   0,   0],\n",
       "         [  0,   0,   0,   0,   0,   0,   0,   0,   0,   0],\n",
       "         [  0,   0,   0,   0,   0,   0,   0,   0,   0,   0],\n",
       "         [255, 255, 255, 255, 255, 255, 255, 255, 255, 255],\n",
       "         [  0,   0,   0,   0,   0,   0,   0,   0,   0,   0]]], dtype=uint8),\n",
       " np.int64(0))"
      ]
     },
     "execution_count": 14,
     "metadata": {},
     "output_type": "execute_result"
    }
   ],
   "source": [
    "images[1], labels[1]"
   ]
  },
  {
   "cell_type": "code",
   "execution_count": 15,
   "metadata": {},
   "outputs": [],
   "source": [
    "# Builds tensors from numpy arrays BEFORE split\n",
    "# Modifies the scale of pixel values from [0, 255] to [0, 1]\n",
    "x_tensor = torch.as_tensor(images / 255).float()\n",
    "y_tensor = torch.as_tensor(labels).long()\n",
    "\n",
    "# Uses index_splitter to generate indices for training and\n",
    "# validation sets\n",
    "train_idx, val_idx = index_splitter(len(x_tensor), [80, 20])\n",
    "# Uses indices to perform the split\n",
    "x_train_tensor = x_tensor[train_idx]\n",
    "y_train_tensor = y_tensor[train_idx]\n",
    "x_val_tensor = x_tensor[val_idx]\n",
    "y_val_tensor = y_tensor[val_idx]\n",
    "\n",
    "# We're not doing any data augmentation now\n",
    "train_composer = Compose([Normalize(mean=(.5,), std=(.5,))])\n",
    "val_composer = Compose([Normalize(mean=(.5,), std=(.5,))])\n",
    "\n",
    "# Uses custom dataset to apply composed transforms to each set\n",
    "train_dataset = TransformedTensorDataset(x_train_tensor, y_train_tensor, transform=train_composer)\n",
    "val_dataset = TransformedTensorDataset(x_val_tensor, y_val_tensor, transform=val_composer)\n",
    "\n",
    "# Builds a weighted random sampler to handle imbalanced classes\n",
    "sampler = make_balanced_sampler(y_train_tensor)\n",
    "\n",
    "# Uses sampler in the training set to get a balanced data loader\n",
    "train_loader = DataLoader(dataset=train_dataset, batch_size=16, sampler=sampler)\n",
    "val_loader = DataLoader(dataset=val_dataset, batch_size=16)"
   ]
  },
  {
   "cell_type": "code",
   "execution_count": 16,
   "metadata": {},
   "outputs": [
    {
     "data": {
      "text/plain": [
       "50"
      ]
     },
     "execution_count": 16,
     "metadata": {},
     "output_type": "execute_result"
    }
   ],
   "source": [
    "len(train_loader)"
   ]
  },
  {
   "cell_type": "markdown",
   "metadata": {},
   "source": [
    "## Loss"
   ]
  },
  {
   "cell_type": "markdown",
   "metadata": {},
   "source": [
    "### Softmax"
   ]
  },
  {
   "cell_type": "markdown",
   "metadata": {},
   "source": [
    "$$\n",
    "\\Large\n",
    "\\begin{array}\n",
    "& z & = \\text{logit}(p) & = \\text{log odds ratio }(p) & = \\text{log}\\left(\\frac{p}{1-p}\\right)\n",
    "\\\\\n",
    "e^z & = e^{\\text{logit}(p)} & = \\text{odds ratio }(p) & = \\left(\\frac{p}{1-p}\\right)\n",
    "\\end{array}\n",
    "$$"
   ]
  },
  {
   "cell_type": "markdown",
   "metadata": {},
   "source": [
    "$$\n",
    "\\Large\n",
    "\\text{softmax}(z_i) = \\frac{e^{z_i}}{\\sum_{c=0}^{C-1}{e^{z_c}}}\n",
    "$$"
   ]
  },
  {
   "cell_type": "markdown",
   "metadata": {},
   "source": [
    "$$\n",
    "\\Large\n",
    "\\text{softmax}(z) = \\left[\\frac{e^{z_0}}{e^{z_0}+e^{z_1}+e^{z_2}},\\frac{e^{z_1}}{e^{z_0}+e^{z_1}+e^{z_2}},\\frac{e^{z_2}}{e^{z_0}+e^{z_1}+e^{z_2}}\\right]\n",
    "$$"
   ]
  },
  {
   "cell_type": "code",
   "execution_count": 17,
   "metadata": {},
   "outputs": [],
   "source": [
    "logits = torch.tensor([ 1.3863,  0.0000, -0.6931])"
   ]
  },
  {
   "cell_type": "code",
   "execution_count": 18,
   "metadata": {},
   "outputs": [
    {
     "data": {
      "text/plain": [
       "tensor([4.0000, 1.0000, 0.5000])"
      ]
     },
     "execution_count": 18,
     "metadata": {},
     "output_type": "execute_result"
    }
   ],
   "source": [
    "odds_ratios = torch.exp(logits)\n",
    "odds_ratios"
   ]
  },
  {
   "cell_type": "code",
   "execution_count": 19,
   "metadata": {},
   "outputs": [
    {
     "data": {
      "text/plain": [
       "tensor([0.7273, 0.1818, 0.0909])"
      ]
     },
     "execution_count": 19,
     "metadata": {},
     "output_type": "execute_result"
    }
   ],
   "source": [
    "softmaxed = odds_ratios / odds_ratios.sum()\n",
    "softmaxed"
   ]
  },
  {
   "cell_type": "code",
   "execution_count": 20,
   "metadata": {},
   "outputs": [
    {
     "data": {
      "text/plain": [
       "tensor(1.)"
      ]
     },
     "execution_count": 20,
     "metadata": {},
     "output_type": "execute_result"
    }
   ],
   "source": [
    "softmaxed.sum()"
   ]
  },
  {
   "cell_type": "code",
   "execution_count": 21,
   "metadata": {},
   "outputs": [
    {
     "data": {
      "text/plain": [
       "(tensor([0.7273, 0.1818, 0.0909]), tensor([0.7273, 0.1818, 0.0909]))"
      ]
     },
     "execution_count": 21,
     "metadata": {},
     "output_type": "execute_result"
    }
   ],
   "source": [
    "nn.Softmax(dim=-1)(logits), F.softmax(logits, dim=-1)"
   ]
  },
  {
   "cell_type": "markdown",
   "metadata": {},
   "source": [
    "### Negative Log Likelihood Loss"
   ]
  },
  {
   "cell_type": "markdown",
   "metadata": {},
   "source": [
    "$$\n",
    "\\Large\n",
    "\\texttt{BCE}(y)={-\\frac{1}{(N_{\\text{pos}}+N_{\\text{neg}})}\\Bigg[{\\sum_{i=1}^{N_{\\text{pos}}}{\\text{log}(\\text{P}(y_i=1))} + \\sum_{i=1}^{N_{\\text{neg}}}{\\text{log}(1 - \\text{P}(y_i=1))}}\\Bigg]}\n",
    "\\\\\n",
    "\\Large\n",
    "\\texttt{NLLLoss}(y)={-\\frac{1}{(N_0+N_1+N_2)}\\Bigg[{\\sum_{i=1}^{N_0}{\\text{log}(\\text{P}(y_i=0))} + \\sum_{i=1}^{N_1}{\\text{log}(\\text{P}(y_i=1))} + \\sum_{i=1}^{N_2}{\\text{log}(\\text{P}(y_i=2))}}\\Bigg]}\n",
    "\\\\\n",
    "\\Large \\texttt{NLLLoss}(y)={-\\frac{1}{(N_0+\\cdots+N_{C-1})}\\sum_{c=0}^{C-1}{\\sum_{i=1}^{N_c}{\\text{log}(\\text{P}(y_i=c))} }}\n",
    "$$"
   ]
  },
  {
   "cell_type": "code",
   "execution_count": 22,
   "metadata": {},
   "outputs": [],
   "source": [
    "sm = nn.Softmax(dim=-1)(logits)"
   ]
  },
  {
   "cell_type": "code",
   "execution_count": 23,
   "metadata": {},
   "outputs": [
    {
     "data": {
      "text/plain": [
       "tensor(1.)"
      ]
     },
     "execution_count": 23,
     "metadata": {},
     "output_type": "execute_result"
    }
   ],
   "source": [
    "sm.sum()"
   ]
  },
  {
   "cell_type": "code",
   "execution_count": 24,
   "metadata": {},
   "outputs": [],
   "source": [
    "sm = sm.numpy()"
   ]
  },
  {
   "cell_type": "code",
   "execution_count": 25,
   "metadata": {},
   "outputs": [
    {
     "data": {
      "text/plain": [
       "np.float64(4.605170185988092)"
      ]
     },
     "execution_count": 25,
     "metadata": {},
     "output_type": "execute_result"
    }
   ],
   "source": [
    "np.log(100) # natural log"
   ]
  },
  {
   "cell_type": "code",
   "execution_count": 26,
   "metadata": {},
   "outputs": [
    {
     "data": {
      "text/plain": [
       "array([-0.3184565, -1.7047564, -2.3978565], dtype=float32)"
      ]
     },
     "execution_count": 26,
     "metadata": {},
     "output_type": "execute_result"
    }
   ],
   "source": [
    "import math\n",
    "np.log(sm)"
   ]
  },
  {
   "cell_type": "code",
   "execution_count": 27,
   "metadata": {},
   "outputs": [
    {
     "data": {
      "text/plain": [
       "(tensor([-0.3185, -1.7048, -2.3979]), tensor([[-0.3185, -1.7048, -2.3979]]))"
      ]
     },
     "execution_count": 27,
     "metadata": {},
     "output_type": "execute_result"
    }
   ],
   "source": [
    "log_probs = F.log_softmax(logits, dim=-1)\n",
    "log_probs, log_probs.view(-1, 3)"
   ]
  },
  {
   "cell_type": "code",
   "execution_count": 28,
   "metadata": {},
   "outputs": [
    {
     "data": {
      "text/plain": [
       "tensor(-4.4211)"
      ]
     },
     "execution_count": 28,
     "metadata": {},
     "output_type": "execute_result"
    }
   ],
   "source": [
    "log_probs.sum()"
   ]
  },
  {
   "cell_type": "code",
   "execution_count": 29,
   "metadata": {},
   "outputs": [
    {
     "data": {
      "text/plain": [
       "tensor(2.3979)"
      ]
     },
     "execution_count": 29,
     "metadata": {},
     "output_type": "execute_result"
    }
   ],
   "source": [
    "label = torch.tensor([2])\n",
    "F.nll_loss(log_probs.view(-1, 3), label)"
   ]
  },
  {
   "cell_type": "code",
   "execution_count": 30,
   "metadata": {},
   "outputs": [
    {
     "name": "stdout",
     "output_type": "stream",
     "text": [
      "tensor([0])\n",
      "tensor([-2.3979])\n",
      "NLL Loss: 2.397900104522705\n"
     ]
    }
   ],
   "source": [
    "import torch\n",
    "\n",
    "# Sample data\n",
    "# y_pred: log-probabilities for each class for a single sample\n",
    "y_pred = torch.tensor([[-0.3185, -1.7048, -2.3979]])\n",
    "\n",
    "# y_true: true labels for each sample\n",
    "y_true = torch.tensor([2])\n",
    "\n",
    "# Function to calculate NLL Loss from log-probabilities\n",
    "def nll_loss(y_pred, y_true):\n",
    "    \"\"\"\n",
    "    Calculate the NLLLoss for multi-class classification using log-probabilities.\n",
    "\n",
    "    Parameters:\n",
    "    y_pred (torch.Tensor): Tensor of log-probabilities for each class (single row, repeated across samples).\n",
    "    y_true (torch.Tensor): Tensor of true labels. Shape should be (N,).\n",
    "\n",
    "    Returns:\n",
    "    float: The calculated NLLLoss.\n",
    "    \"\"\"\n",
    "    total_count = len(y_true)\n",
    "    # Repeat y_pred to match the shape of y_true if y_pred has only one row\n",
    "    if y_pred.size(0) == 1:\n",
    "        y_pred = y_pred.repeat(total_count, 1)\n",
    "    print(torch.arange(total_count))\n",
    "    # Extract the log-probabilities corresponding to the true class labels\n",
    "    log_probs = y_pred[torch.arange(total_count), y_true]\n",
    "    print(log_probs)\n",
    "    # Compute the final NLLLoss\n",
    "    nll_loss_value = -torch.sum(log_probs) / total_count\n",
    "    return nll_loss_value\n",
    "\n",
    "# Calculate NLL Loss for the sample data\n",
    "loss_value = nll_loss(y_pred, y_true)\n",
    "print(\"NLL Loss:\", loss_value.item())\n"
   ]
  },
  {
   "cell_type": "code",
   "execution_count": 31,
   "metadata": {},
   "outputs": [
    {
     "name": "stdout",
     "output_type": "stream",
     "text": [
      "5\n",
      "tensor([-0.3185, -0.3185, -0.3185, -0.1054, -0.1054])\n",
      "NLL Loss: 0.23326000571250916\n"
     ]
    }
   ],
   "source": [
    "import torch\n",
    "\n",
    "# Sample data\n",
    "# y_pred: log-probabilities for each sample and each class (assuming 3 classes here)\n",
    "y_pred = torch.tensor([\n",
    "    [-0.3185, -1.7048, -2.3979],  # Sample 1 log-probabilities\n",
    "    [-1.2039, -0.3185, -2.0794],  # Sample 2 log-probabilities\n",
    "    [-1.7048, -2.3979, -0.3185],  # Sample 3 log-probabilities\n",
    "    [-0.1054, -2.3026, -2.9957],  # Sample 4 log-probabilities\n",
    "    [-2.9957, -0.1054, -2.3026]   # Sample 5 log-probabilities\n",
    "])\n",
    "\n",
    "# y_true: true labels for each sample\n",
    "y_true = torch.tensor([0, 1, 2, 0, 1])\n",
    "\n",
    "# Function to calculate NLL Loss from log-probabilities\n",
    "def nll_loss(y_pred, y_true):\n",
    "    \"\"\"\n",
    "    Calculate the NLLLoss for multi-class classification using log-probabilities.\n",
    "\n",
    "    Parameters:\n",
    "    y_pred (torch.Tensor): Tensor of log-probabilities for each sample and each class.\n",
    "                           Shape should be (N, num_classes), where N is the number of samples.\n",
    "    y_true (torch.Tensor): Tensor of true labels. Shape should be (N,).\n",
    "\n",
    "    Returns:\n",
    "    float: The calculated NLLLoss.\n",
    "    \"\"\"\n",
    "    total_count = len(y_true)\n",
    "    print(total_count)\n",
    "    # Extract the log-probabilities corresponding to the true class labels\n",
    "    log_probs = y_pred[torch.arange(total_count), y_true]\n",
    "    print(log_probs)\n",
    "    # Compute the final NLLLoss\n",
    "    nll_loss_value = -torch.sum(log_probs) / total_count\n",
    "    return nll_loss_value\n",
    "\n",
    "# Calculate NLL Loss for the sample data\n",
    "loss_value = nll_loss(y_pred, y_true)\n",
    "print(\"NLL Loss:\", loss_value.item())"
   ]
  },
  {
   "cell_type": "code",
   "execution_count": 32,
   "metadata": {},
   "outputs": [
    {
     "data": {
      "text/plain": [
       "tensor(0.2333)"
      ]
     },
     "execution_count": 32,
     "metadata": {},
     "output_type": "execute_result"
    }
   ],
   "source": [
    "F.nll_loss(y_pred, y_true)"
   ]
  },
  {
   "cell_type": "code",
   "execution_count": 33,
   "metadata": {},
   "outputs": [
    {
     "data": {
      "text/plain": [
       "tensor([[-1.5229, -0.3146, -2.9600],\n",
       "        [-1.7934, -1.0044, -0.7607],\n",
       "        [-1.2513, -1.0136, -1.0471],\n",
       "        [-2.6799, -0.2219, -2.0367],\n",
       "        [-1.0728, -1.9098, -0.6737]])"
      ]
     },
     "execution_count": 33,
     "metadata": {},
     "output_type": "execute_result"
    }
   ],
   "source": [
    "torch.manual_seed(11)\n",
    "dummy_logits = torch.randn((5, 3))\n",
    "dummy_labels = torch.tensor([0, 0, 1, 2, 1]) \n",
    "dummy_log_probs = F.log_softmax(dummy_logits, dim=-1)\n",
    "dummy_log_probs"
   ]
  },
  {
   "cell_type": "code",
   "execution_count": 34,
   "metadata": {},
   "outputs": [
    {
     "data": {
      "text/plain": [
       "tensor([[ 0.7376,  1.9459, -0.6995],\n",
       "        [-1.3023, -0.5133, -0.2696],\n",
       "        [ 0.2462,  0.4839,  0.4504],\n",
       "        [-0.9568,  1.5012, -0.3136],\n",
       "        [-0.2343, -1.0713,  0.1648]])"
      ]
     },
     "execution_count": 34,
     "metadata": {},
     "output_type": "execute_result"
    }
   ],
   "source": [
    "dummy_logits"
   ]
  },
  {
   "cell_type": "code",
   "execution_count": 35,
   "metadata": {},
   "outputs": [
    {
     "data": {
      "text/plain": [
       "tensor(1.6553)"
      ]
     },
     "execution_count": 35,
     "metadata": {},
     "output_type": "execute_result"
    }
   ],
   "source": [
    "relevant_log_probs = torch.tensor([-1.5229, -1.7934, -1.0136, -2.0367, -1.9098])\n",
    "-relevant_log_probs.mean()"
   ]
  },
  {
   "cell_type": "code",
   "execution_count": 36,
   "metadata": {},
   "outputs": [
    {
     "data": {
      "text/plain": [
       "tensor(1.6553)"
      ]
     },
     "execution_count": 36,
     "metadata": {},
     "output_type": "execute_result"
    }
   ],
   "source": [
    "loss_fn = nn.NLLLoss()\n",
    "loss_fn(dummy_log_probs, dummy_labels)"
   ]
  },
  {
   "cell_type": "code",
   "execution_count": 37,
   "metadata": {},
   "outputs": [
    {
     "data": {
      "text/plain": [
       "tensor(1.7188)"
      ]
     },
     "execution_count": 37,
     "metadata": {},
     "output_type": "execute_result"
    }
   ],
   "source": [
    "loss_fn = nn.NLLLoss(weight=torch.tensor([1., 1., 2.]))\n",
    "loss_fn(dummy_log_probs, dummy_labels)"
   ]
  },
  {
   "cell_type": "code",
   "execution_count": 38,
   "metadata": {},
   "outputs": [
    {
     "data": {
      "text/plain": [
       "tensor(1.5599)"
      ]
     },
     "execution_count": 38,
     "metadata": {},
     "output_type": "execute_result"
    }
   ],
   "source": [
    "loss_fn = nn.NLLLoss(ignore_index=2)\n",
    "loss_fn(dummy_log_probs, dummy_labels)"
   ]
  },
  {
   "cell_type": "markdown",
   "metadata": {},
   "source": [
    "### Cross Entropy Loss"
   ]
  },
  {
   "cell_type": "code",
   "execution_count": 39,
   "metadata": {},
   "outputs": [
    {
     "data": {
      "text/plain": [
       "tensor(1.6553)"
      ]
     },
     "execution_count": 39,
     "metadata": {},
     "output_type": "execute_result"
    }
   ],
   "source": [
    "torch.manual_seed(11)\n",
    "dummy_logits = torch.randn((5, 3))\n",
    "dummy_labels = torch.tensor([0, 0, 1, 2, 1])\n",
    "\n",
    "loss_fn = nn.CrossEntropyLoss()\n",
    "loss_fn(dummy_logits, dummy_labels)"
   ]
  },
  {
   "cell_type": "markdown",
   "metadata": {},
   "source": [
    "## Model Configuration"
   ]
  },
  {
   "cell_type": "code",
   "execution_count": 40,
   "metadata": {},
   "outputs": [],
   "source": [
    "torch.manual_seed(13)\n",
    "model_cnn1 = nn.Sequential()\n",
    "\n",
    "# Featurizer\n",
    "# Block 1: 1@10x10 -> n_channels@8x8 -> n_channels@4x4\n",
    "n_channels = 1\n",
    "model_cnn1.add_module('conv1', nn.Conv2d(in_channels=1, out_channels=n_channels, kernel_size=3))\n",
    "model_cnn1.add_module('relu1', nn.ReLU())\n",
    "model_cnn1.add_module('maxp1', nn.MaxPool2d(kernel_size=2))\n",
    "# Flattening: n_channels * 4 * 4\n",
    "model_cnn1.add_module('flatten', nn.Flatten())"
   ]
  },
  {
   "cell_type": "code",
   "execution_count": 41,
   "metadata": {},
   "outputs": [],
   "source": [
    "# Classification\n",
    "# Hidden Layer\n",
    "model_cnn1.add_module('fc1', nn.Linear(in_features=n_channels*4*4, out_features=10))\n",
    "model_cnn1.add_module('relu2', nn.ReLU())\n",
    "# Output Layer\n",
    "model_cnn1.add_module('fc2', nn.Linear(in_features=10, out_features=3))"
   ]
  },
  {
   "cell_type": "markdown",
   "metadata": {},
   "source": [
    "![](images/classification_softmax.png)"
   ]
  },
  {
   "cell_type": "code",
   "execution_count": 42,
   "metadata": {},
   "outputs": [],
   "source": [
    "lr = 0.1\n",
    "multi_loss_fn = nn.CrossEntropyLoss(reduction='mean')\n",
    "optimizer_cnn1 = optim.SGD(model_cnn1.parameters(), lr=lr)"
   ]
  },
  {
   "cell_type": "code",
   "execution_count": 43,
   "metadata": {},
   "outputs": [
    {
     "name": "stdout",
     "output_type": "stream",
     "text": [
      "Sequential(\n",
      "  (conv1): Conv2d(1, 1, kernel_size=(3, 3), stride=(1, 1))\n",
      "  (relu1): ReLU()\n",
      "  (maxp1): MaxPool2d(kernel_size=2, stride=2, padding=0, dilation=1, ceil_mode=False)\n",
      "  (flatten): Flatten(start_dim=1, end_dim=-1)\n",
      "  (fc1): Linear(in_features=16, out_features=10, bias=True)\n",
      "  (relu2): ReLU()\n",
      "  (fc2): Linear(in_features=10, out_features=3, bias=True)\n",
      ")\n"
     ]
    }
   ],
   "source": [
    "print(model_cnn1)"
   ]
  },
  {
   "cell_type": "code",
   "execution_count": 44,
   "metadata": {},
   "outputs": [
    {
     "name": "stdout",
     "output_type": "stream",
     "text": [
      "conv1.weight\n",
      "conv1.bias\n",
      "fc1.weight\n",
      "fc1.bias\n",
      "fc2.weight\n",
      "fc2.bias\n"
     ]
    }
   ],
   "source": [
    "for param in model_cnn1.state_dict():\n",
    "    print(param)"
   ]
  },
  {
   "cell_type": "code",
   "execution_count": 45,
   "metadata": {},
   "outputs": [
    {
     "data": {
      "text/plain": [
       "tensor([[[[-0.2721, -0.0137,  0.2070],\n",
       "          [-0.3233, -0.3231,  0.0690],\n",
       "          [-0.1788,  0.2422,  0.3239]]]])"
      ]
     },
     "execution_count": 45,
     "metadata": {},
     "output_type": "execute_result"
    }
   ],
   "source": [
    "model_cnn1.state_dict()['conv1.weight']"
   ]
  },
  {
   "cell_type": "markdown",
   "metadata": {},
   "source": [
    "## Model Training"
   ]
  },
  {
   "cell_type": "code",
   "execution_count": 46,
   "metadata": {},
   "outputs": [],
   "source": [
    "sbs_cnn1 = StepByStep(model_cnn1, multi_loss_fn, optimizer_cnn1)\n",
    "sbs_cnn1.set_loaders(train_loader, val_loader)"
   ]
  },
  {
   "cell_type": "code",
   "execution_count": 47,
   "metadata": {},
   "outputs": [],
   "source": [
    "sbs_cnn1.train(20)"
   ]
  },
  {
   "cell_type": "code",
   "execution_count": 48,
   "metadata": {},
   "outputs": [
    {
     "data": {
      "image/png": "[encoded data removed]",
      "text/plain": [
       "<Figure size 1000x400 with 1 Axes>"
      ]
     },
     "metadata": {},
     "output_type": "display_data"
    }
   ],
   "source": [
    "fig = sbs_cnn1.plot_losses()"
   ]
  },
  {
   "cell_type": "markdown",
   "metadata": {},
   "source": [
    "## Visualizing Filters and More!"
   ]
  },
  {
   "cell_type": "code",
   "execution_count": 49,
   "metadata": {},
   "outputs": [],
   "source": [
    "@staticmethod\n",
    "def _visualize_tensors(axs, x, y=None, yhat=None, \n",
    "                       layer_name='', title=None):\n",
    "    # The number of images is the number of subplots in a row\n",
    "    n_images = len(axs)\n",
    "    # Gets max and min values for scaling the grayscale\n",
    "    minv, maxv = np.min(x[:n_images]), np.max(x[:n_images])\n",
    "    # For each image\n",
    "    for j, image in enumerate(x[:n_images]):\n",
    "        ax = axs[j]\n",
    "        # Sets title, labels, and removes ticks\n",
    "        if title is not None:\n",
    "            ax.set_title(f'{title} #{j}', fontsize=12)\n",
    "        shp = np.atleast_2d(image).shape\n",
    "        ax.set_ylabel(\n",
    "            f'{layer_name}\\n{shp[0]}x{shp[1]}',\n",
    "            rotation=0, labelpad=40\n",
    "        )\n",
    "        xlabel1 = '' if y is None else f'\\nLabel: {y[j]}'\n",
    "        xlabel2 = '' if yhat is None else f'\\nPredicted: {yhat[j]}'\n",
    "        xlabel = f'{xlabel1}{xlabel2}'\n",
    "        if len(xlabel):\n",
    "            ax.set_xlabel(xlabel, fontsize=12)\n",
    "        ax.set_xticks([])\n",
    "        ax.set_yticks([])\n",
    "\n",
    "        # Plots weight as an image\n",
    "        ax.imshow(\n",
    "            np.atleast_2d(image.squeeze()),\n",
    "            cmap='gray', \n",
    "            vmin=minv, \n",
    "            vmax=maxv\n",
    "        )\n",
    "    return\n",
    "\n",
    "setattr(StepByStep, '_visualize_tensors', _visualize_tensors)"
   ]
  },
  {
   "cell_type": "markdown",
   "metadata": {},
   "source": [
    "### Static Method"
   ]
  },
  {
   "cell_type": "code",
   "execution_count": 51,
   "metadata": {},
   "outputs": [],
   "source": [
    "class Cat(object):\n",
    "    def __init__(self, name):\n",
    "        self.name = name\n",
    "\n",
    "    @staticmethod\n",
    "    def meow():\n",
    "        print('Meow')\n",
    "    \n",
    "    def bark(self):\n",
    "        print('bark')"
   ]
  },
  {
   "cell_type": "code",
   "execution_count": 52,
   "metadata": {},
   "outputs": [
    {
     "name": "stdout",
     "output_type": "stream",
     "text": [
      "Meow\n"
     ]
    }
   ],
   "source": [
    "Cat.meow()"
   ]
  },
  {
   "cell_type": "code",
   "execution_count": 53,
   "metadata": {},
   "outputs": [
    {
     "ename": "TypeError",
     "evalue": "Cat.bark() missing 1 required positional argument: 'self'",
     "output_type": "error",
     "traceback": [
      "\u001b[0;31m---------------------------------------------------------------------------\u001b[0m",
      "\u001b[0;31mTypeError\u001b[0m                                 Traceback (most recent call last)",
      "Cell \u001b[0;32mIn[53], line 1\u001b[0m\n\u001b[0;32m----> 1\u001b[0m \u001b[43mCat\u001b[49m\u001b[38;5;241;43m.\u001b[39;49m\u001b[43mbark\u001b[49m\u001b[43m(\u001b[49m\u001b[43m)\u001b[49m\n",
      "\u001b[0;31mTypeError\u001b[0m: Cat.bark() missing 1 required positional argument: 'self'"
     ]
    }
   ],
   "source": [
    "Cat.bark()"
   ]
  },
  {
   "cell_type": "markdown",
   "metadata": {},
   "source": [
    "### Visualizing Filters"
   ]
  },
  {
   "cell_type": "code",
   "execution_count": 54,
   "metadata": {},
   "outputs": [
    {
     "data": {
      "text/plain": [
       "array([[[[-1.0064424 , -0.728578  ,  0.01474828],\n",
       "         [-0.9080989 , -1.0574524 ,  0.7594959 ],\n",
       "         [ 0.03291205,  0.95026946,  2.1044648 ]]]], dtype=float32)"
      ]
     },
     "execution_count": 54,
     "metadata": {},
     "output_type": "execute_result"
    }
   ],
   "source": [
    "weights_filter = model_cnn1.conv1.weight.detach().cpu().numpy()\n",
    "weights_filter"
   ]
  },
  {
   "cell_type": "code",
   "execution_count": 55,
   "metadata": {},
   "outputs": [],
   "source": [
    "def visualize_filters(self, layer_name, **kwargs):\n",
    "    try:\n",
    "        # Gets the layer object from the model\n",
    "        layer = self.model\n",
    "        for name in layer_name.split('.'):\n",
    "            layer = getattr(layer, name)\n",
    "        # We are only looking at filters for 2D convolutions\n",
    "        if isinstance(layer, nn.Conv2d):\n",
    "            # Takes the weight information\n",
    "            weights = layer.weight.data.cpu().numpy()\n",
    "            # weights -> (channels_out (filter), channels_in, H, W)\n",
    "            n_filters, n_channels, _, _ = weights.shape\n",
    "\n",
    "            # Builds a figure\n",
    "            size = (2 * n_channels + 2, 2 * n_filters)\n",
    "            fig, axes = plt.subplots(n_filters, n_channels, \n",
    "                                     figsize=size)\n",
    "            axes = np.atleast_2d(axes)\n",
    "            axes = axes.reshape(n_filters, n_channels)\n",
    "            # For each channel_out (filter)\n",
    "            for i in range(n_filters):    \n",
    "                StepByStep._visualize_tensors(\n",
    "                    axes[i, :],\n",
    "                    weights[i],\n",
    "                    layer_name=f'Filter #{i}', \n",
    "                    title='Channel'\n",
    "                )\n",
    "                    \n",
    "            for ax in axes.flat:\n",
    "                ax.label_outer()\n",
    "\n",
    "            fig.tight_layout()\n",
    "            return fig\n",
    "    except AttributeError:\n",
    "        return\n",
    "    \n",
    "setattr(StepByStep, 'visualize_filters', visualize_filters)"
   ]
  },
  {
   "cell_type": "code",
   "execution_count": 56,
   "metadata": {},
   "outputs": [
    {
     "data": {
      "image/png": "[encoded data removed]",
      "text/plain": [
       "<Figure size 400x200 with 1 Axes>"
      ]
     },
     "metadata": {},
     "output_type": "display_data"
    }
   ],
   "source": [
    "fig = sbs_cnn1.visualize_filters('conv1', cmap='gray')"
   ]
  },
  {
   "cell_type": "markdown",
   "metadata": {},
   "source": [
    "### Hooks"
   ]
  },
  {
   "cell_type": "code",
   "execution_count": 57,
   "metadata": {},
   "outputs": [],
   "source": [
    "dummy_model = nn.Linear(1, 1)\n",
    "\n",
    "dummy_list = []\n",
    "\n",
    "def dummy_hook(layer, inputs, outputs):\n",
    "    dummy_list.append((layer, inputs, outputs))"
   ]
  },
  {
   "cell_type": "code",
   "execution_count": 58,
   "metadata": {},
   "outputs": [
    {
     "data": {
      "text/plain": [
       "<torch.utils.hooks.RemovableHandle at 0x7fd397cec850>"
      ]
     },
     "execution_count": 58,
     "metadata": {},
     "output_type": "execute_result"
    }
   ],
   "source": [
    "dummy_handle = dummy_model.register_forward_hook(dummy_hook)\n",
    "dummy_handle"
   ]
  },
  {
   "cell_type": "code",
   "execution_count": 59,
   "metadata": {},
   "outputs": [
    {
     "data": {
      "text/plain": [
       "OrderedDict([('weight', tensor([[-0.5164]])), ('bias', tensor([-0.6817]))])"
      ]
     },
     "execution_count": 59,
     "metadata": {},
     "output_type": "execute_result"
    }
   ],
   "source": [
    "dummy_model.state_dict()"
   ]
  },
  {
   "cell_type": "code",
   "execution_count": 60,
   "metadata": {},
   "outputs": [
    {
     "data": {
      "text/plain": [
       "-0.8366199999999999"
      ]
     },
     "execution_count": 60,
     "metadata": {},
     "output_type": "execute_result"
    }
   ],
   "source": [
    "-0.5164 * 0.3 + -0.6817"
   ]
  },
  {
   "cell_type": "code",
   "execution_count": 61,
   "metadata": {},
   "outputs": [
    {
     "data": {
      "text/plain": [
       "tensor([-0.8366], grad_fn=<ViewBackward0>)"
      ]
     },
     "execution_count": 61,
     "metadata": {},
     "output_type": "execute_result"
    }
   ],
   "source": [
    "dummy_x = torch.tensor([0.3])\n",
    "dummy_model.forward(dummy_x)"
   ]
  },
  {
   "cell_type": "code",
   "execution_count": 62,
   "metadata": {},
   "outputs": [
    {
     "data": {
      "text/plain": [
       "[]"
      ]
     },
     "execution_count": 62,
     "metadata": {},
     "output_type": "execute_result"
    }
   ],
   "source": [
    "dummy_list"
   ]
  },
  {
   "cell_type": "code",
   "execution_count": 69,
   "metadata": {},
   "outputs": [
    {
     "data": {
      "text/plain": [
       "tensor([-0.8366], grad_fn=<ViewBackward0>)"
      ]
     },
     "execution_count": 69,
     "metadata": {},
     "output_type": "execute_result"
    }
   ],
   "source": [
    "dummy_model(dummy_x)"
   ]
  },
  {
   "cell_type": "code",
   "execution_count": 70,
   "metadata": {},
   "outputs": [
    {
     "data": {
      "text/plain": [
       "[(Linear(in_features=1, out_features=1, bias=True),\n",
       "  (tensor([0.3000]),),\n",
       "  tensor([-0.8366], grad_fn=<ViewBackward0>)),\n",
       " (Linear(in_features=1, out_features=1, bias=True),\n",
       "  (tensor([0.3000]),),\n",
       "  tensor([-0.8366], grad_fn=<ViewBackward0>))]"
      ]
     },
     "execution_count": 70,
     "metadata": {},
     "output_type": "execute_result"
    }
   ],
   "source": [
    "dummy_list"
   ]
  },
  {
   "cell_type": "code",
   "execution_count": 67,
   "metadata": {},
   "outputs": [],
   "source": [
    "dummy_handle.remove()"
   ]
  },
  {
   "cell_type": "code",
   "execution_count": 71,
   "metadata": {},
   "outputs": [],
   "source": [
    "from rich import print"
   ]
  },
  {
   "cell_type": "code",
   "execution_count": 81,
   "metadata": {},
   "outputs": [
    {
     "data": {
      "text/html": [
       "<pre style=\"white-space:pre;overflow-x:auto;line-height:normal;font-family:Menlo,'DejaVu Sans Mono',consolas,'Courier New',monospace\"><span style=\"font-weight: bold\">[</span>\n",
       "    <span style=\"font-weight: bold\">(</span>\n",
       "        <span style=\"color: #008000; text-decoration-color: #008000\">''</span>,\n",
       "        <span style=\"color: #800080; text-decoration-color: #800080; font-weight: bold\">Sequential</span><span style=\"font-weight: bold\">(</span>\n",
       "  <span style=\"font-weight: bold\">(</span>conv1<span style=\"font-weight: bold\">)</span>: <span style=\"color: #800080; text-decoration-color: #800080; font-weight: bold\">Conv2d</span><span style=\"font-weight: bold\">(</span><span style=\"color: #008080; text-decoration-color: #008080; font-weight: bold\">1</span>, <span style=\"color: #008080; text-decoration-color: #008080; font-weight: bold\">1</span>, <span style=\"color: #808000; text-decoration-color: #808000\">kernel_size</span>=<span style=\"font-weight: bold\">(</span><span style=\"color: #008080; text-decoration-color: #008080; font-weight: bold\">3</span>, <span style=\"color: #008080; text-decoration-color: #008080; font-weight: bold\">3</span><span style=\"font-weight: bold\">)</span>, <span style=\"color: #808000; text-decoration-color: #808000\">stride</span>=<span style=\"font-weight: bold\">(</span><span style=\"color: #008080; text-decoration-color: #008080; font-weight: bold\">1</span>, <span style=\"color: #008080; text-decoration-color: #008080; font-weight: bold\">1</span><span style=\"font-weight: bold\">))</span>\n",
       "  <span style=\"font-weight: bold\">(</span>relu1<span style=\"font-weight: bold\">)</span>: <span style=\"color: #800080; text-decoration-color: #800080; font-weight: bold\">ReLU</span><span style=\"font-weight: bold\">()</span>\n",
       "  <span style=\"font-weight: bold\">(</span>maxp1<span style=\"font-weight: bold\">)</span>: <span style=\"color: #800080; text-decoration-color: #800080; font-weight: bold\">MaxPool2d</span><span style=\"font-weight: bold\">(</span><span style=\"color: #808000; text-decoration-color: #808000\">kernel_size</span>=<span style=\"color: #008080; text-decoration-color: #008080; font-weight: bold\">2</span>, <span style=\"color: #808000; text-decoration-color: #808000\">stride</span>=<span style=\"color: #008080; text-decoration-color: #008080; font-weight: bold\">2</span>, <span style=\"color: #808000; text-decoration-color: #808000\">padding</span>=<span style=\"color: #008080; text-decoration-color: #008080; font-weight: bold\">0</span>, <span style=\"color: #808000; text-decoration-color: #808000\">dilation</span>=<span style=\"color: #008080; text-decoration-color: #008080; font-weight: bold\">1</span>, <span style=\"color: #808000; text-decoration-color: #808000\">ceil_mode</span>=<span style=\"color: #ff0000; text-decoration-color: #ff0000; font-style: italic\">False</span><span style=\"font-weight: bold\">)</span>\n",
       "  <span style=\"font-weight: bold\">(</span>flatten<span style=\"font-weight: bold\">)</span>: <span style=\"color: #800080; text-decoration-color: #800080; font-weight: bold\">Flatten</span><span style=\"font-weight: bold\">(</span><span style=\"color: #808000; text-decoration-color: #808000\">start_dim</span>=<span style=\"color: #008080; text-decoration-color: #008080; font-weight: bold\">1</span>, <span style=\"color: #808000; text-decoration-color: #808000\">end_dim</span>=<span style=\"color: #008080; text-decoration-color: #008080; font-weight: bold\">-1</span><span style=\"font-weight: bold\">)</span>\n",
       "  <span style=\"font-weight: bold\">(</span>fc1<span style=\"font-weight: bold\">)</span>: <span style=\"color: #800080; text-decoration-color: #800080; font-weight: bold\">Linear</span><span style=\"font-weight: bold\">(</span><span style=\"color: #808000; text-decoration-color: #808000\">in_features</span>=<span style=\"color: #008080; text-decoration-color: #008080; font-weight: bold\">16</span>, <span style=\"color: #808000; text-decoration-color: #808000\">out_features</span>=<span style=\"color: #008080; text-decoration-color: #008080; font-weight: bold\">10</span>, <span style=\"color: #808000; text-decoration-color: #808000\">bias</span>=<span style=\"color: #00ff00; text-decoration-color: #00ff00; font-style: italic\">True</span><span style=\"font-weight: bold\">)</span>\n",
       "  <span style=\"font-weight: bold\">(</span>relu2<span style=\"font-weight: bold\">)</span>: <span style=\"color: #800080; text-decoration-color: #800080; font-weight: bold\">ReLU</span><span style=\"font-weight: bold\">()</span>\n",
       "  <span style=\"font-weight: bold\">(</span>fc2<span style=\"font-weight: bold\">)</span>: <span style=\"color: #800080; text-decoration-color: #800080; font-weight: bold\">Linear</span><span style=\"font-weight: bold\">(</span><span style=\"color: #808000; text-decoration-color: #808000\">in_features</span>=<span style=\"color: #008080; text-decoration-color: #008080; font-weight: bold\">10</span>, <span style=\"color: #808000; text-decoration-color: #808000\">out_features</span>=<span style=\"color: #008080; text-decoration-color: #008080; font-weight: bold\">3</span>, <span style=\"color: #808000; text-decoration-color: #808000\">bias</span>=<span style=\"color: #00ff00; text-decoration-color: #00ff00; font-style: italic\">True</span><span style=\"font-weight: bold\">)</span>\n",
       "<span style=\"font-weight: bold\">)</span>\n",
       "    <span style=\"font-weight: bold\">)</span>,\n",
       "    <span style=\"font-weight: bold\">(</span><span style=\"color: #008000; text-decoration-color: #008000\">'conv1'</span>, <span style=\"color: #800080; text-decoration-color: #800080; font-weight: bold\">Conv2d</span><span style=\"font-weight: bold\">(</span><span style=\"color: #008080; text-decoration-color: #008080; font-weight: bold\">1</span>, <span style=\"color: #008080; text-decoration-color: #008080; font-weight: bold\">1</span>, <span style=\"color: #808000; text-decoration-color: #808000\">kernel_size</span>=<span style=\"font-weight: bold\">(</span><span style=\"color: #008080; text-decoration-color: #008080; font-weight: bold\">3</span>, <span style=\"color: #008080; text-decoration-color: #008080; font-weight: bold\">3</span><span style=\"font-weight: bold\">)</span>, <span style=\"color: #808000; text-decoration-color: #808000\">stride</span>=<span style=\"font-weight: bold\">(</span><span style=\"color: #008080; text-decoration-color: #008080; font-weight: bold\">1</span>, <span style=\"color: #008080; text-decoration-color: #008080; font-weight: bold\">1</span><span style=\"font-weight: bold\">)))</span>,\n",
       "    <span style=\"font-weight: bold\">(</span><span style=\"color: #008000; text-decoration-color: #008000\">'relu1'</span>, <span style=\"color: #800080; text-decoration-color: #800080; font-weight: bold\">ReLU</span><span style=\"font-weight: bold\">())</span>,\n",
       "    <span style=\"font-weight: bold\">(</span><span style=\"color: #008000; text-decoration-color: #008000\">'maxp1'</span>, <span style=\"color: #800080; text-decoration-color: #800080; font-weight: bold\">MaxPool2d</span><span style=\"font-weight: bold\">(</span><span style=\"color: #808000; text-decoration-color: #808000\">kernel_size</span>=<span style=\"color: #008080; text-decoration-color: #008080; font-weight: bold\">2</span>, <span style=\"color: #808000; text-decoration-color: #808000\">stride</span>=<span style=\"color: #008080; text-decoration-color: #008080; font-weight: bold\">2</span>, <span style=\"color: #808000; text-decoration-color: #808000\">padding</span>=<span style=\"color: #008080; text-decoration-color: #008080; font-weight: bold\">0</span>, <span style=\"color: #808000; text-decoration-color: #808000\">dilation</span>=<span style=\"color: #008080; text-decoration-color: #008080; font-weight: bold\">1</span>, <span style=\"color: #808000; text-decoration-color: #808000\">ceil_mode</span>=<span style=\"color: #ff0000; text-decoration-color: #ff0000; font-style: italic\">False</span><span style=\"font-weight: bold\">))</span>,\n",
       "    <span style=\"font-weight: bold\">(</span><span style=\"color: #008000; text-decoration-color: #008000\">'flatten'</span>, <span style=\"color: #800080; text-decoration-color: #800080; font-weight: bold\">Flatten</span><span style=\"font-weight: bold\">(</span><span style=\"color: #808000; text-decoration-color: #808000\">start_dim</span>=<span style=\"color: #008080; text-decoration-color: #008080; font-weight: bold\">1</span>, <span style=\"color: #808000; text-decoration-color: #808000\">end_dim</span>=<span style=\"color: #008080; text-decoration-color: #008080; font-weight: bold\">-1</span><span style=\"font-weight: bold\">))</span>,\n",
       "    <span style=\"font-weight: bold\">(</span><span style=\"color: #008000; text-decoration-color: #008000\">'fc1'</span>, <span style=\"color: #800080; text-decoration-color: #800080; font-weight: bold\">Linear</span><span style=\"font-weight: bold\">(</span><span style=\"color: #808000; text-decoration-color: #808000\">in_features</span>=<span style=\"color: #008080; text-decoration-color: #008080; font-weight: bold\">16</span>, <span style=\"color: #808000; text-decoration-color: #808000\">out_features</span>=<span style=\"color: #008080; text-decoration-color: #008080; font-weight: bold\">10</span>, <span style=\"color: #808000; text-decoration-color: #808000\">bias</span>=<span style=\"color: #00ff00; text-decoration-color: #00ff00; font-style: italic\">True</span><span style=\"font-weight: bold\">))</span>,\n",
       "    <span style=\"font-weight: bold\">(</span><span style=\"color: #008000; text-decoration-color: #008000\">'relu2'</span>, <span style=\"color: #800080; text-decoration-color: #800080; font-weight: bold\">ReLU</span><span style=\"font-weight: bold\">())</span>,\n",
       "    <span style=\"font-weight: bold\">(</span><span style=\"color: #008000; text-decoration-color: #008000\">'fc2'</span>, <span style=\"color: #800080; text-decoration-color: #800080; font-weight: bold\">Linear</span><span style=\"font-weight: bold\">(</span><span style=\"color: #808000; text-decoration-color: #808000\">in_features</span>=<span style=\"color: #008080; text-decoration-color: #008080; font-weight: bold\">10</span>, <span style=\"color: #808000; text-decoration-color: #808000\">out_features</span>=<span style=\"color: #008080; text-decoration-color: #008080; font-weight: bold\">3</span>, <span style=\"color: #808000; text-decoration-color: #808000\">bias</span>=<span style=\"color: #00ff00; text-decoration-color: #00ff00; font-style: italic\">True</span><span style=\"font-weight: bold\">))</span>\n",
       "<span style=\"font-weight: bold\">]</span>\n",
       "</pre>\n"
      ],
      "text/plain": [
       "\u001b[1m[\u001b[0m\n",
       "    \u001b[1m(\u001b[0m\n",
       "        \u001b[32m''\u001b[0m,\n",
       "        \u001b[1;35mSequential\u001b[0m\u001b[1m(\u001b[0m\n",
       "  \u001b[1m(\u001b[0mconv1\u001b[1m)\u001b[0m: \u001b[1;35mConv2d\u001b[0m\u001b[1m(\u001b[0m\u001b[1;36m1\u001b[0m, \u001b[1;36m1\u001b[0m, \u001b[33mkernel_size\u001b[0m=\u001b[1m(\u001b[0m\u001b[1;36m3\u001b[0m, \u001b[1;36m3\u001b[0m\u001b[1m)\u001b[0m, \u001b[33mstride\u001b[0m=\u001b[1m(\u001b[0m\u001b[1;36m1\u001b[0m, \u001b[1;36m1\u001b[0m\u001b[1m)\u001b[0m\u001b[1m)\u001b[0m\n",
       "  \u001b[1m(\u001b[0mrelu1\u001b[1m)\u001b[0m: \u001b[1;35mReLU\u001b[0m\u001b[1m(\u001b[0m\u001b[1m)\u001b[0m\n",
       "  \u001b[1m(\u001b[0mmaxp1\u001b[1m)\u001b[0m: \u001b[1;35mMaxPool2d\u001b[0m\u001b[1m(\u001b[0m\u001b[33mkernel_size\u001b[0m=\u001b[1;36m2\u001b[0m, \u001b[33mstride\u001b[0m=\u001b[1;36m2\u001b[0m, \u001b[33mpadding\u001b[0m=\u001b[1;36m0\u001b[0m, \u001b[33mdilation\u001b[0m=\u001b[1;36m1\u001b[0m, \u001b[33mceil_mode\u001b[0m=\u001b[3;91mFalse\u001b[0m\u001b[1m)\u001b[0m\n",
       "  \u001b[1m(\u001b[0mflatten\u001b[1m)\u001b[0m: \u001b[1;35mFlatten\u001b[0m\u001b[1m(\u001b[0m\u001b[33mstart_dim\u001b[0m=\u001b[1;36m1\u001b[0m, \u001b[33mend_dim\u001b[0m=\u001b[1;36m-1\u001b[0m\u001b[1m)\u001b[0m\n",
       "  \u001b[1m(\u001b[0mfc1\u001b[1m)\u001b[0m: \u001b[1;35mLinear\u001b[0m\u001b[1m(\u001b[0m\u001b[33min_features\u001b[0m=\u001b[1;36m16\u001b[0m, \u001b[33mout_features\u001b[0m=\u001b[1;36m10\u001b[0m, \u001b[33mbias\u001b[0m=\u001b[3;92mTrue\u001b[0m\u001b[1m)\u001b[0m\n",
       "  \u001b[1m(\u001b[0mrelu2\u001b[1m)\u001b[0m: \u001b[1;35mReLU\u001b[0m\u001b[1m(\u001b[0m\u001b[1m)\u001b[0m\n",
       "  \u001b[1m(\u001b[0mfc2\u001b[1m)\u001b[0m: \u001b[1;35mLinear\u001b[0m\u001b[1m(\u001b[0m\u001b[33min_features\u001b[0m=\u001b[1;36m10\u001b[0m, \u001b[33mout_features\u001b[0m=\u001b[1;36m3\u001b[0m, \u001b[33mbias\u001b[0m=\u001b[3;92mTrue\u001b[0m\u001b[1m)\u001b[0m\n",
       "\u001b[1m)\u001b[0m\n",
       "    \u001b[1m)\u001b[0m,\n",
       "    \u001b[1m(\u001b[0m\u001b[32m'conv1'\u001b[0m, \u001b[1;35mConv2d\u001b[0m\u001b[1m(\u001b[0m\u001b[1;36m1\u001b[0m, \u001b[1;36m1\u001b[0m, \u001b[33mkernel_size\u001b[0m=\u001b[1m(\u001b[0m\u001b[1;36m3\u001b[0m, \u001b[1;36m3\u001b[0m\u001b[1m)\u001b[0m, \u001b[33mstride\u001b[0m=\u001b[1m(\u001b[0m\u001b[1;36m1\u001b[0m, \u001b[1;36m1\u001b[0m\u001b[1m)\u001b[0m\u001b[1m)\u001b[0m\u001b[1m)\u001b[0m,\n",
       "    \u001b[1m(\u001b[0m\u001b[32m'relu1'\u001b[0m, \u001b[1;35mReLU\u001b[0m\u001b[1m(\u001b[0m\u001b[1m)\u001b[0m\u001b[1m)\u001b[0m,\n",
       "    \u001b[1m(\u001b[0m\u001b[32m'maxp1'\u001b[0m, \u001b[1;35mMaxPool2d\u001b[0m\u001b[1m(\u001b[0m\u001b[33mkernel_size\u001b[0m=\u001b[1;36m2\u001b[0m, \u001b[33mstride\u001b[0m=\u001b[1;36m2\u001b[0m, \u001b[33mpadding\u001b[0m=\u001b[1;36m0\u001b[0m, \u001b[33mdilation\u001b[0m=\u001b[1;36m1\u001b[0m, \u001b[33mceil_mode\u001b[0m=\u001b[3;91mFalse\u001b[0m\u001b[1m)\u001b[0m\u001b[1m)\u001b[0m,\n",
       "    \u001b[1m(\u001b[0m\u001b[32m'flatten'\u001b[0m, \u001b[1;35mFlatten\u001b[0m\u001b[1m(\u001b[0m\u001b[33mstart_dim\u001b[0m=\u001b[1;36m1\u001b[0m, \u001b[33mend_dim\u001b[0m=\u001b[1;36m-1\u001b[0m\u001b[1m)\u001b[0m\u001b[1m)\u001b[0m,\n",
       "    \u001b[1m(\u001b[0m\u001b[32m'fc1'\u001b[0m, \u001b[1;35mLinear\u001b[0m\u001b[1m(\u001b[0m\u001b[33min_features\u001b[0m=\u001b[1;36m16\u001b[0m, \u001b[33mout_features\u001b[0m=\u001b[1;36m10\u001b[0m, \u001b[33mbias\u001b[0m=\u001b[3;92mTrue\u001b[0m\u001b[1m)\u001b[0m\u001b[1m)\u001b[0m,\n",
       "    \u001b[1m(\u001b[0m\u001b[32m'relu2'\u001b[0m, \u001b[1;35mReLU\u001b[0m\u001b[1m(\u001b[0m\u001b[1m)\u001b[0m\u001b[1m)\u001b[0m,\n",
       "    \u001b[1m(\u001b[0m\u001b[32m'fc2'\u001b[0m, \u001b[1;35mLinear\u001b[0m\u001b[1m(\u001b[0m\u001b[33min_features\u001b[0m=\u001b[1;36m10\u001b[0m, \u001b[33mout_features\u001b[0m=\u001b[1;36m3\u001b[0m, \u001b[33mbias\u001b[0m=\u001b[3;92mTrue\u001b[0m\u001b[1m)\u001b[0m\u001b[1m)\u001b[0m\n",
       "\u001b[1m]\u001b[0m\n"
      ]
     },
     "metadata": {},
     "output_type": "display_data"
    }
   ],
   "source": [
    "modules = list(sbs_cnn1.model.named_modules())\n",
    "print(modules)"
   ]
  },
  {
   "cell_type": "code",
   "execution_count": 82,
   "metadata": {},
   "outputs": [
    {
     "data": {
      "text/html": [
       "<pre style=\"white-space:pre;overflow-x:auto;line-height:normal;font-family:Menlo,'DejaVu Sans Mono',consolas,'Courier New',monospace\"><span style=\"font-weight: bold\">[</span>\n",
       "    <span style=\"font-weight: bold\">(</span><span style=\"color: #008000; text-decoration-color: #008000\">'conv1'</span>, <span style=\"color: #800080; text-decoration-color: #800080; font-weight: bold\">Conv2d</span><span style=\"font-weight: bold\">(</span><span style=\"color: #008080; text-decoration-color: #008080; font-weight: bold\">1</span>, <span style=\"color: #008080; text-decoration-color: #008080; font-weight: bold\">1</span>, <span style=\"color: #808000; text-decoration-color: #808000\">kernel_size</span>=<span style=\"font-weight: bold\">(</span><span style=\"color: #008080; text-decoration-color: #008080; font-weight: bold\">3</span>, <span style=\"color: #008080; text-decoration-color: #008080; font-weight: bold\">3</span><span style=\"font-weight: bold\">)</span>, <span style=\"color: #808000; text-decoration-color: #808000\">stride</span>=<span style=\"font-weight: bold\">(</span><span style=\"color: #008080; text-decoration-color: #008080; font-weight: bold\">1</span>, <span style=\"color: #008080; text-decoration-color: #008080; font-weight: bold\">1</span><span style=\"font-weight: bold\">)))</span>,\n",
       "    <span style=\"font-weight: bold\">(</span><span style=\"color: #008000; text-decoration-color: #008000\">'relu1'</span>, <span style=\"color: #800080; text-decoration-color: #800080; font-weight: bold\">ReLU</span><span style=\"font-weight: bold\">())</span>,\n",
       "    <span style=\"font-weight: bold\">(</span><span style=\"color: #008000; text-decoration-color: #008000\">'maxp1'</span>, <span style=\"color: #800080; text-decoration-color: #800080; font-weight: bold\">MaxPool2d</span><span style=\"font-weight: bold\">(</span><span style=\"color: #808000; text-decoration-color: #808000\">kernel_size</span>=<span style=\"color: #008080; text-decoration-color: #008080; font-weight: bold\">2</span>, <span style=\"color: #808000; text-decoration-color: #808000\">stride</span>=<span style=\"color: #008080; text-decoration-color: #008080; font-weight: bold\">2</span>, <span style=\"color: #808000; text-decoration-color: #808000\">padding</span>=<span style=\"color: #008080; text-decoration-color: #008080; font-weight: bold\">0</span>, <span style=\"color: #808000; text-decoration-color: #808000\">dilation</span>=<span style=\"color: #008080; text-decoration-color: #008080; font-weight: bold\">1</span>, <span style=\"color: #808000; text-decoration-color: #808000\">ceil_mode</span>=<span style=\"color: #ff0000; text-decoration-color: #ff0000; font-style: italic\">False</span><span style=\"font-weight: bold\">))</span>,\n",
       "    <span style=\"font-weight: bold\">(</span><span style=\"color: #008000; text-decoration-color: #008000\">'flatten'</span>, <span style=\"color: #800080; text-decoration-color: #800080; font-weight: bold\">Flatten</span><span style=\"font-weight: bold\">(</span><span style=\"color: #808000; text-decoration-color: #808000\">start_dim</span>=<span style=\"color: #008080; text-decoration-color: #008080; font-weight: bold\">1</span>, <span style=\"color: #808000; text-decoration-color: #808000\">end_dim</span>=<span style=\"color: #008080; text-decoration-color: #008080; font-weight: bold\">-1</span><span style=\"font-weight: bold\">))</span>,\n",
       "    <span style=\"font-weight: bold\">(</span><span style=\"color: #008000; text-decoration-color: #008000\">'fc1'</span>, <span style=\"color: #800080; text-decoration-color: #800080; font-weight: bold\">Linear</span><span style=\"font-weight: bold\">(</span><span style=\"color: #808000; text-decoration-color: #808000\">in_features</span>=<span style=\"color: #008080; text-decoration-color: #008080; font-weight: bold\">16</span>, <span style=\"color: #808000; text-decoration-color: #808000\">out_features</span>=<span style=\"color: #008080; text-decoration-color: #008080; font-weight: bold\">10</span>, <span style=\"color: #808000; text-decoration-color: #808000\">bias</span>=<span style=\"color: #00ff00; text-decoration-color: #00ff00; font-style: italic\">True</span><span style=\"font-weight: bold\">))</span>,\n",
       "    <span style=\"font-weight: bold\">(</span><span style=\"color: #008000; text-decoration-color: #008000\">'relu2'</span>, <span style=\"color: #800080; text-decoration-color: #800080; font-weight: bold\">ReLU</span><span style=\"font-weight: bold\">())</span>,\n",
       "    <span style=\"font-weight: bold\">(</span><span style=\"color: #008000; text-decoration-color: #008000\">'fc2'</span>, <span style=\"color: #800080; text-decoration-color: #800080; font-weight: bold\">Linear</span><span style=\"font-weight: bold\">(</span><span style=\"color: #808000; text-decoration-color: #808000\">in_features</span>=<span style=\"color: #008080; text-decoration-color: #008080; font-weight: bold\">10</span>, <span style=\"color: #808000; text-decoration-color: #808000\">out_features</span>=<span style=\"color: #008080; text-decoration-color: #008080; font-weight: bold\">3</span>, <span style=\"color: #808000; text-decoration-color: #808000\">bias</span>=<span style=\"color: #00ff00; text-decoration-color: #00ff00; font-style: italic\">True</span><span style=\"font-weight: bold\">))</span>\n",
       "<span style=\"font-weight: bold\">]</span>\n",
       "</pre>\n"
      ],
      "text/plain": [
       "\u001b[1m[\u001b[0m\n",
       "    \u001b[1m(\u001b[0m\u001b[32m'conv1'\u001b[0m, \u001b[1;35mConv2d\u001b[0m\u001b[1m(\u001b[0m\u001b[1;36m1\u001b[0m, \u001b[1;36m1\u001b[0m, \u001b[33mkernel_size\u001b[0m=\u001b[1m(\u001b[0m\u001b[1;36m3\u001b[0m, \u001b[1;36m3\u001b[0m\u001b[1m)\u001b[0m, \u001b[33mstride\u001b[0m=\u001b[1m(\u001b[0m\u001b[1;36m1\u001b[0m, \u001b[1;36m1\u001b[0m\u001b[1m)\u001b[0m\u001b[1m)\u001b[0m\u001b[1m)\u001b[0m,\n",
       "    \u001b[1m(\u001b[0m\u001b[32m'relu1'\u001b[0m, \u001b[1;35mReLU\u001b[0m\u001b[1m(\u001b[0m\u001b[1m)\u001b[0m\u001b[1m)\u001b[0m,\n",
       "    \u001b[1m(\u001b[0m\u001b[32m'maxp1'\u001b[0m, \u001b[1;35mMaxPool2d\u001b[0m\u001b[1m(\u001b[0m\u001b[33mkernel_size\u001b[0m=\u001b[1;36m2\u001b[0m, \u001b[33mstride\u001b[0m=\u001b[1;36m2\u001b[0m, \u001b[33mpadding\u001b[0m=\u001b[1;36m0\u001b[0m, \u001b[33mdilation\u001b[0m=\u001b[1;36m1\u001b[0m, \u001b[33mceil_mode\u001b[0m=\u001b[3;91mFalse\u001b[0m\u001b[1m)\u001b[0m\u001b[1m)\u001b[0m,\n",
       "    \u001b[1m(\u001b[0m\u001b[32m'flatten'\u001b[0m, \u001b[1;35mFlatten\u001b[0m\u001b[1m(\u001b[0m\u001b[33mstart_dim\u001b[0m=\u001b[1;36m1\u001b[0m, \u001b[33mend_dim\u001b[0m=\u001b[1;36m-1\u001b[0m\u001b[1m)\u001b[0m\u001b[1m)\u001b[0m,\n",
       "    \u001b[1m(\u001b[0m\u001b[32m'fc1'\u001b[0m, \u001b[1;35mLinear\u001b[0m\u001b[1m(\u001b[0m\u001b[33min_features\u001b[0m=\u001b[1;36m16\u001b[0m, \u001b[33mout_features\u001b[0m=\u001b[1;36m10\u001b[0m, \u001b[33mbias\u001b[0m=\u001b[3;92mTrue\u001b[0m\u001b[1m)\u001b[0m\u001b[1m)\u001b[0m,\n",
       "    \u001b[1m(\u001b[0m\u001b[32m'relu2'\u001b[0m, \u001b[1;35mReLU\u001b[0m\u001b[1m(\u001b[0m\u001b[1m)\u001b[0m\u001b[1m)\u001b[0m,\n",
       "    \u001b[1m(\u001b[0m\u001b[32m'fc2'\u001b[0m, \u001b[1;35mLinear\u001b[0m\u001b[1m(\u001b[0m\u001b[33min_features\u001b[0m=\u001b[1;36m10\u001b[0m, \u001b[33mout_features\u001b[0m=\u001b[1;36m3\u001b[0m, \u001b[33mbias\u001b[0m=\u001b[3;92mTrue\u001b[0m\u001b[1m)\u001b[0m\u001b[1m)\u001b[0m\n",
       "\u001b[1m]\u001b[0m\n"
      ]
     },
     "metadata": {},
     "output_type": "display_data"
    }
   ],
   "source": [
    "print(modules[1:])"
   ]
  },
  {
   "cell_type": "code",
   "execution_count": 83,
   "metadata": {},
   "outputs": [
    {
     "data": {
      "text/html": [
       "<pre style=\"white-space:pre;overflow-x:auto;line-height:normal;font-family:Menlo,'DejaVu Sans Mono',consolas,'Courier New',monospace\"><span style=\"font-weight: bold\">{</span>\n",
       "    <span style=\"color: #800080; text-decoration-color: #800080; font-weight: bold\">Conv2d</span><span style=\"font-weight: bold\">(</span><span style=\"color: #008080; text-decoration-color: #008080; font-weight: bold\">1</span>, <span style=\"color: #008080; text-decoration-color: #008080; font-weight: bold\">1</span>, <span style=\"color: #808000; text-decoration-color: #808000\">kernel_size</span>=<span style=\"font-weight: bold\">(</span><span style=\"color: #008080; text-decoration-color: #008080; font-weight: bold\">3</span>, <span style=\"color: #008080; text-decoration-color: #008080; font-weight: bold\">3</span><span style=\"font-weight: bold\">)</span>, <span style=\"color: #808000; text-decoration-color: #808000\">stride</span>=<span style=\"font-weight: bold\">(</span><span style=\"color: #008080; text-decoration-color: #008080; font-weight: bold\">1</span>, <span style=\"color: #008080; text-decoration-color: #008080; font-weight: bold\">1</span><span style=\"font-weight: bold\">))</span>: <span style=\"color: #008000; text-decoration-color: #008000\">'conv1'</span>,\n",
       "    <span style=\"color: #800080; text-decoration-color: #800080; font-weight: bold\">ReLU</span><span style=\"font-weight: bold\">()</span>: <span style=\"color: #008000; text-decoration-color: #008000\">'relu1'</span>,\n",
       "    <span style=\"color: #800080; text-decoration-color: #800080; font-weight: bold\">MaxPool2d</span><span style=\"font-weight: bold\">(</span><span style=\"color: #808000; text-decoration-color: #808000\">kernel_size</span>=<span style=\"color: #008080; text-decoration-color: #008080; font-weight: bold\">2</span>, <span style=\"color: #808000; text-decoration-color: #808000\">stride</span>=<span style=\"color: #008080; text-decoration-color: #008080; font-weight: bold\">2</span>, <span style=\"color: #808000; text-decoration-color: #808000\">padding</span>=<span style=\"color: #008080; text-decoration-color: #008080; font-weight: bold\">0</span>, <span style=\"color: #808000; text-decoration-color: #808000\">dilation</span>=<span style=\"color: #008080; text-decoration-color: #008080; font-weight: bold\">1</span>, <span style=\"color: #808000; text-decoration-color: #808000\">ceil_mode</span>=<span style=\"color: #ff0000; text-decoration-color: #ff0000; font-style: italic\">False</span><span style=\"font-weight: bold\">)</span>: <span style=\"color: #008000; text-decoration-color: #008000\">'maxp1'</span>,\n",
       "    <span style=\"color: #800080; text-decoration-color: #800080; font-weight: bold\">Flatten</span><span style=\"font-weight: bold\">(</span><span style=\"color: #808000; text-decoration-color: #808000\">start_dim</span>=<span style=\"color: #008080; text-decoration-color: #008080; font-weight: bold\">1</span>, <span style=\"color: #808000; text-decoration-color: #808000\">end_dim</span>=<span style=\"color: #008080; text-decoration-color: #008080; font-weight: bold\">-1</span><span style=\"font-weight: bold\">)</span>: <span style=\"color: #008000; text-decoration-color: #008000\">'flatten'</span>,\n",
       "    <span style=\"color: #800080; text-decoration-color: #800080; font-weight: bold\">Linear</span><span style=\"font-weight: bold\">(</span><span style=\"color: #808000; text-decoration-color: #808000\">in_features</span>=<span style=\"color: #008080; text-decoration-color: #008080; font-weight: bold\">16</span>, <span style=\"color: #808000; text-decoration-color: #808000\">out_features</span>=<span style=\"color: #008080; text-decoration-color: #008080; font-weight: bold\">10</span>, <span style=\"color: #808000; text-decoration-color: #808000\">bias</span>=<span style=\"color: #00ff00; text-decoration-color: #00ff00; font-style: italic\">True</span><span style=\"font-weight: bold\">)</span>: <span style=\"color: #008000; text-decoration-color: #008000\">'fc1'</span>,\n",
       "    <span style=\"color: #800080; text-decoration-color: #800080; font-weight: bold\">ReLU</span><span style=\"font-weight: bold\">()</span>: <span style=\"color: #008000; text-decoration-color: #008000\">'relu2'</span>,\n",
       "    <span style=\"color: #800080; text-decoration-color: #800080; font-weight: bold\">Linear</span><span style=\"font-weight: bold\">(</span><span style=\"color: #808000; text-decoration-color: #808000\">in_features</span>=<span style=\"color: #008080; text-decoration-color: #008080; font-weight: bold\">10</span>, <span style=\"color: #808000; text-decoration-color: #808000\">out_features</span>=<span style=\"color: #008080; text-decoration-color: #008080; font-weight: bold\">3</span>, <span style=\"color: #808000; text-decoration-color: #808000\">bias</span>=<span style=\"color: #00ff00; text-decoration-color: #00ff00; font-style: italic\">True</span><span style=\"font-weight: bold\">)</span>: <span style=\"color: #008000; text-decoration-color: #008000\">'fc2'</span>\n",
       "<span style=\"font-weight: bold\">}</span>\n",
       "</pre>\n"
      ],
      "text/plain": [
       "\u001b[1m{\u001b[0m\n",
       "    \u001b[1;35mConv2d\u001b[0m\u001b[1m(\u001b[0m\u001b[1;36m1\u001b[0m, \u001b[1;36m1\u001b[0m, \u001b[33mkernel_size\u001b[0m=\u001b[1m(\u001b[0m\u001b[1;36m3\u001b[0m, \u001b[1;36m3\u001b[0m\u001b[1m)\u001b[0m, \u001b[33mstride\u001b[0m=\u001b[1m(\u001b[0m\u001b[1;36m1\u001b[0m, \u001b[1;36m1\u001b[0m\u001b[1m)\u001b[0m\u001b[1m)\u001b[0m: \u001b[32m'conv1'\u001b[0m,\n",
       "    \u001b[1;35mReLU\u001b[0m\u001b[1m(\u001b[0m\u001b[1m)\u001b[0m: \u001b[32m'relu1'\u001b[0m,\n",
       "    \u001b[1;35mMaxPool2d\u001b[0m\u001b[1m(\u001b[0m\u001b[33mkernel_size\u001b[0m=\u001b[1;36m2\u001b[0m, \u001b[33mstride\u001b[0m=\u001b[1;36m2\u001b[0m, \u001b[33mpadding\u001b[0m=\u001b[1;36m0\u001b[0m, \u001b[33mdilation\u001b[0m=\u001b[1;36m1\u001b[0m, \u001b[33mceil_mode\u001b[0m=\u001b[3;91mFalse\u001b[0m\u001b[1m)\u001b[0m: \u001b[32m'maxp1'\u001b[0m,\n",
       "    \u001b[1;35mFlatten\u001b[0m\u001b[1m(\u001b[0m\u001b[33mstart_dim\u001b[0m=\u001b[1;36m1\u001b[0m, \u001b[33mend_dim\u001b[0m=\u001b[1;36m-1\u001b[0m\u001b[1m)\u001b[0m: \u001b[32m'flatten'\u001b[0m,\n",
       "    \u001b[1;35mLinear\u001b[0m\u001b[1m(\u001b[0m\u001b[33min_features\u001b[0m=\u001b[1;36m16\u001b[0m, \u001b[33mout_features\u001b[0m=\u001b[1;36m10\u001b[0m, \u001b[33mbias\u001b[0m=\u001b[3;92mTrue\u001b[0m\u001b[1m)\u001b[0m: \u001b[32m'fc1'\u001b[0m,\n",
       "    \u001b[1;35mReLU\u001b[0m\u001b[1m(\u001b[0m\u001b[1m)\u001b[0m: \u001b[32m'relu2'\u001b[0m,\n",
       "    \u001b[1;35mLinear\u001b[0m\u001b[1m(\u001b[0m\u001b[33min_features\u001b[0m=\u001b[1;36m10\u001b[0m, \u001b[33mout_features\u001b[0m=\u001b[1;36m3\u001b[0m, \u001b[33mbias\u001b[0m=\u001b[3;92mTrue\u001b[0m\u001b[1m)\u001b[0m: \u001b[32m'fc2'\u001b[0m\n",
       "\u001b[1m}\u001b[0m\n"
      ]
     },
     "metadata": {},
     "output_type": "display_data"
    }
   ],
   "source": [
    "layer_names = {layer: name for name, layer in modules[1:]}\n",
    "print(layer_names)"
   ]
  },
  {
   "cell_type": "code",
   "execution_count": 84,
   "metadata": {},
   "outputs": [],
   "source": [
    "visualization = {}\n",
    "\n",
    "def hook_fn(layer, inputs, outputs):\n",
    "    name = layer_names[layer]\n",
    "    visualization[name] = outputs.detach().cpu().numpy()"
   ]
  },
  {
   "cell_type": "code",
   "execution_count": 85,
   "metadata": {},
   "outputs": [
    {
     "data": {
      "text/html": [
       "<pre style=\"white-space:pre;overflow-x:auto;line-height:normal;font-family:Menlo,'DejaVu Sans Mono',consolas,'Courier New',monospace\"><span style=\"font-weight: bold\">{}</span>\n",
       "</pre>\n"
      ],
      "text/plain": [
       "\u001b[1m{\u001b[0m\u001b[1m}\u001b[0m\n"
      ]
     },
     "metadata": {},
     "output_type": "display_data"
    }
   ],
   "source": [
    "print(visualization)"
   ]
  },
  {
   "cell_type": "code",
   "execution_count": 86,
   "metadata": {},
   "outputs": [],
   "source": [
    "layers_to_hook = ['conv1', 'relu1', 'maxp1', 'flatten', 'fc1', 'relu2', 'fc2']\n",
    "\n",
    "handles = {}\n",
    "\n",
    "for name, layer in modules:\n",
    "    if name in layers_to_hook:\n",
    "        handles[name] = layer.register_forward_hook(hook_fn)"
   ]
  },
  {
   "cell_type": "code",
   "execution_count": 87,
   "metadata": {},
   "outputs": [
    {
     "data": {
      "text/html": [
       "<pre style=\"white-space:pre;overflow-x:auto;line-height:normal;font-family:Menlo,'DejaVu Sans Mono',consolas,'Courier New',monospace\"><span style=\"font-weight: bold\">{</span>\n",
       "    <span style=\"color: #008000; text-decoration-color: #008000\">'conv1'</span>: <span style=\"font-weight: bold\">&lt;</span><span style=\"color: #ff00ff; text-decoration-color: #ff00ff; font-weight: bold\">torch.utils.hooks.RemovableHandle</span><span style=\"color: #000000; text-decoration-color: #000000\"> object at </span><span style=\"color: #008080; text-decoration-color: #008080; font-weight: bold\">0x7fd397f48210</span><span style=\"color: #000000; text-decoration-color: #000000\">&gt;,</span>\n",
       "<span style=\"color: #000000; text-decoration-color: #000000\">    </span><span style=\"color: #008000; text-decoration-color: #008000\">'relu1'</span><span style=\"color: #000000; text-decoration-color: #000000\">: &lt;torch.utils.hooks.RemovableHandle object at </span><span style=\"color: #008080; text-decoration-color: #008080; font-weight: bold\">0x7fd391a23790</span><span style=\"color: #000000; text-decoration-color: #000000\">&gt;,</span>\n",
       "<span style=\"color: #000000; text-decoration-color: #000000\">    </span><span style=\"color: #008000; text-decoration-color: #008000\">'maxp1'</span><span style=\"color: #000000; text-decoration-color: #000000\">: &lt;torch.utils.hooks.RemovableHandle object at </span><span style=\"color: #008080; text-decoration-color: #008080; font-weight: bold\">0x7fd391a23810</span><span style=\"color: #000000; text-decoration-color: #000000\">&gt;,</span>\n",
       "<span style=\"color: #000000; text-decoration-color: #000000\">    </span><span style=\"color: #008000; text-decoration-color: #008000\">'flatten'</span><span style=\"color: #000000; text-decoration-color: #000000\">: &lt;torch.utils.hooks.RemovableHandle object at </span><span style=\"color: #008080; text-decoration-color: #008080; font-weight: bold\">0x7fd39162c390</span><span style=\"color: #000000; text-decoration-color: #000000\">&gt;,</span>\n",
       "<span style=\"color: #000000; text-decoration-color: #000000\">    </span><span style=\"color: #008000; text-decoration-color: #008000\">'fc1'</span><span style=\"color: #000000; text-decoration-color: #000000\">: &lt;torch.utils.hooks.RemovableHandle object at </span><span style=\"color: #008080; text-decoration-color: #008080; font-weight: bold\">0x7fd391a2bdd0</span><span style=\"color: #000000; text-decoration-color: #000000\">&gt;,</span>\n",
       "<span style=\"color: #000000; text-decoration-color: #000000\">    </span><span style=\"color: #008000; text-decoration-color: #008000\">'relu2'</span><span style=\"color: #000000; text-decoration-color: #000000\">: &lt;torch.utils.hooks.RemovableHandle object at </span><span style=\"color: #008080; text-decoration-color: #008080; font-weight: bold\">0x7fd391de2a90</span><span style=\"color: #000000; text-decoration-color: #000000\">&gt;,</span>\n",
       "<span style=\"color: #000000; text-decoration-color: #000000\">    </span><span style=\"color: #008000; text-decoration-color: #008000\">'fc2'</span><span style=\"color: #000000; text-decoration-color: #000000\">: &lt;torch.utils.hooks.RemovableHandle object at </span><span style=\"color: #008080; text-decoration-color: #008080; font-weight: bold\">0x7fd391c33f90</span><span style=\"font-weight: bold\">&gt;</span>\n",
       "<span style=\"font-weight: bold\">}</span>\n",
       "</pre>\n"
      ],
      "text/plain": [
       "\u001b[1m{\u001b[0m\n",
       "    \u001b[32m'conv1'\u001b[0m: \u001b[1m<\u001b[0m\u001b[1;95mtorch.utils.hooks.RemovableHandle\u001b[0m\u001b[39m object at \u001b[0m\u001b[1;36m0x7fd397f48210\u001b[0m\u001b[39m>,\u001b[0m\n",
       "\u001b[39m    \u001b[0m\u001b[32m'relu1'\u001b[0m\u001b[39m: <torch.utils.hooks.RemovableHandle object at \u001b[0m\u001b[1;36m0x7fd391a23790\u001b[0m\u001b[39m>,\u001b[0m\n",
       "\u001b[39m    \u001b[0m\u001b[32m'maxp1'\u001b[0m\u001b[39m: <torch.utils.hooks.RemovableHandle object at \u001b[0m\u001b[1;36m0x7fd391a23810\u001b[0m\u001b[39m>,\u001b[0m\n",
       "\u001b[39m    \u001b[0m\u001b[32m'flatten'\u001b[0m\u001b[39m: <torch.utils.hooks.RemovableHandle object at \u001b[0m\u001b[1;36m0x7fd39162c390\u001b[0m\u001b[39m>,\u001b[0m\n",
       "\u001b[39m    \u001b[0m\u001b[32m'fc1'\u001b[0m\u001b[39m: <torch.utils.hooks.RemovableHandle object at \u001b[0m\u001b[1;36m0x7fd391a2bdd0\u001b[0m\u001b[39m>,\u001b[0m\n",
       "\u001b[39m    \u001b[0m\u001b[32m'relu2'\u001b[0m\u001b[39m: <torch.utils.hooks.RemovableHandle object at \u001b[0m\u001b[1;36m0x7fd391de2a90\u001b[0m\u001b[39m>,\u001b[0m\n",
       "\u001b[39m    \u001b[0m\u001b[32m'fc2'\u001b[0m\u001b[39m: <torch.utils.hooks.RemovableHandle object at \u001b[0m\u001b[1;36m0x7fd391c33f90\u001b[0m\u001b[1m>\u001b[0m\n",
       "\u001b[1m}\u001b[0m\n"
      ]
     },
     "metadata": {},
     "output_type": "display_data"
    }
   ],
   "source": [
    "print(handles)"
   ]
  },
  {
   "cell_type": "code",
   "execution_count": 88,
   "metadata": {},
   "outputs": [],
   "source": [
    "images_batch, labels_batch = next(iter(val_loader))\n",
    "logits = sbs_cnn1.predict(images_batch)"
   ]
  },
  {
   "cell_type": "code",
   "execution_count": 90,
   "metadata": {},
   "outputs": [
    {
     "data": {
      "text/html": [
       "<pre style=\"white-space:pre;overflow-x:auto;line-height:normal;font-family:Menlo,'DejaVu Sans Mono',consolas,'Courier New',monospace\"><span style=\"font-weight: bold\">{</span>\n",
       "    <span style=\"color: #008000; text-decoration-color: #008000\">'conv1'</span>: <span style=\"color: #800080; text-decoration-color: #800080; font-weight: bold\">array</span><span style=\"font-weight: bold\">([[[[</span><span style=\"color: #008080; text-decoration-color: #008080; font-weight: bold\">-0.09818196</span>, <span style=\"color: #008080; text-decoration-color: #008080; font-weight: bold\">-0.06868529</span>, <span style=\"color: #008080; text-decoration-color: #008080; font-weight: bold\">-0.03634596</span>, <span style=\"color: #808000; text-decoration-color: #808000\">...</span>, <span style=\"color: #008080; text-decoration-color: #008080; font-weight: bold\">-0.03235793</span>,\n",
       "          <span style=\"color: #008080; text-decoration-color: #008080; font-weight: bold\">-0.09818196</span>, <span style=\"color: #008080; text-decoration-color: #008080; font-weight: bold\">-0.09818196</span><span style=\"font-weight: bold\">]</span>,\n",
       "         <span style=\"font-weight: bold\">[</span><span style=\"color: #008080; text-decoration-color: #008080; font-weight: bold\">-0.09818196</span>, <span style=\"color: #008080; text-decoration-color: #008080; font-weight: bold\">-0.09818196</span>, <span style=\"color: #008080; text-decoration-color: #008080; font-weight: bold\">-0.06868529</span>, <span style=\"color: #808000; text-decoration-color: #808000\">...</span>, <span style=\"color: #008080; text-decoration-color: #008080; font-weight: bold\">-0.01384091</span>,\n",
       "          <span style=\"color: #008080; text-decoration-color: #008080; font-weight: bold\">-0.03235793</span>, <span style=\"color: #008080; text-decoration-color: #008080; font-weight: bold\">-0.09818196</span><span style=\"font-weight: bold\">]</span>,\n",
       "         <span style=\"font-weight: bold\">[</span><span style=\"color: #008080; text-decoration-color: #008080; font-weight: bold\">-0.09818196</span>, <span style=\"color: #008080; text-decoration-color: #008080; font-weight: bold\">-0.09818196</span>, <span style=\"color: #008080; text-decoration-color: #008080; font-weight: bold\">-0.09818196</span>, <span style=\"color: #808000; text-decoration-color: #808000\">...</span>, <span style=\"color: #008080; text-decoration-color: #008080; font-weight: bold\">-0.01704192</span>,\n",
       "          <span style=\"color: #008080; text-decoration-color: #008080; font-weight: bold\">-0.01384091</span>, <span style=\"color: #008080; text-decoration-color: #008080; font-weight: bold\">-0.03235793</span><span style=\"font-weight: bold\">]</span>,\n",
       "         <span style=\"color: #808000; text-decoration-color: #808000\">...</span>,\n",
       "         <span style=\"font-weight: bold\">[</span><span style=\"color: #008080; text-decoration-color: #008080; font-weight: bold\">-0.09818196</span>, <span style=\"color: #008080; text-decoration-color: #008080; font-weight: bold\">-0.09818196</span>, <span style=\"color: #008080; text-decoration-color: #008080; font-weight: bold\">-0.09818196</span>, <span style=\"color: #808000; text-decoration-color: #808000\">...</span>, <span style=\"color: #008080; text-decoration-color: #008080; font-weight: bold\">-0.09818196</span>,\n",
       "          <span style=\"color: #008080; text-decoration-color: #008080; font-weight: bold\">-0.06868529</span>, <span style=\"color: #008080; text-decoration-color: #008080; font-weight: bold\">-0.03634596</span><span style=\"font-weight: bold\">]</span>,\n",
       "         <span style=\"font-weight: bold\">[</span><span style=\"color: #008080; text-decoration-color: #008080; font-weight: bold\">-0.09818196</span>, <span style=\"color: #008080; text-decoration-color: #008080; font-weight: bold\">-0.09818196</span>, <span style=\"color: #008080; text-decoration-color: #008080; font-weight: bold\">-0.09818196</span>, <span style=\"color: #808000; text-decoration-color: #808000\">...</span>, <span style=\"color: #008080; text-decoration-color: #008080; font-weight: bold\">-0.09818196</span>,\n",
       "          <span style=\"color: #008080; text-decoration-color: #008080; font-weight: bold\">-0.09818196</span>, <span style=\"color: #008080; text-decoration-color: #008080; font-weight: bold\">-0.06868529</span><span style=\"font-weight: bold\">]</span>,\n",
       "         <span style=\"font-weight: bold\">[</span><span style=\"color: #008080; text-decoration-color: #008080; font-weight: bold\">-0.09818196</span>, <span style=\"color: #008080; text-decoration-color: #008080; font-weight: bold\">-0.09818196</span>, <span style=\"color: #008080; text-decoration-color: #008080; font-weight: bold\">-0.09818196</span>, <span style=\"color: #808000; text-decoration-color: #808000\">...</span>, <span style=\"color: #008080; text-decoration-color: #008080; font-weight: bold\">-0.09818196</span>,\n",
       "          <span style=\"color: #008080; text-decoration-color: #008080; font-weight: bold\">-0.09818196</span>, <span style=\"color: #008080; text-decoration-color: #008080; font-weight: bold\">-0.09818196</span><span style=\"font-weight: bold\">]]]</span>,\n",
       "\n",
       "\n",
       "       <span style=\"font-weight: bold\">[[[</span><span style=\"color: #008080; text-decoration-color: #008080; font-weight: bold\">-0.09818196</span>, <span style=\"color: #008080; text-decoration-color: #008080; font-weight: bold\">-0.09818196</span>, <span style=\"color: #008080; text-decoration-color: #008080; font-weight: bold\">-0.09818196</span>, <span style=\"color: #808000; text-decoration-color: #808000\">...</span>, <span style=\"color: #008080; text-decoration-color: #008080; font-weight: bold\">-0.01704192</span>,\n",
       "          <span style=\"color: #008080; text-decoration-color: #008080; font-weight: bold\">-0.01384091</span>, <span style=\"color: #008080; text-decoration-color: #008080; font-weight: bold\">-0.03235793</span><span style=\"font-weight: bold\">]</span>,\n",
       "         <span style=\"font-weight: bold\">[</span><span style=\"color: #008080; text-decoration-color: #008080; font-weight: bold\">-0.09818196</span>, <span style=\"color: #008080; text-decoration-color: #008080; font-weight: bold\">-0.09818196</span>, <span style=\"color: #008080; text-decoration-color: #008080; font-weight: bold\">-0.09818196</span>, <span style=\"color: #808000; text-decoration-color: #808000\">...</span>, <span style=\"color: #008080; text-decoration-color: #008080; font-weight: bold\">-0.03634596</span>,\n",
       "          <span style=\"color: #008080; text-decoration-color: #008080; font-weight: bold\">-0.01704192</span>, <span style=\"color: #008080; text-decoration-color: #008080; font-weight: bold\">-0.01384091</span><span style=\"font-weight: bold\">]</span>,\n",
       "         <span style=\"font-weight: bold\">[</span><span style=\"color: #008080; text-decoration-color: #008080; font-weight: bold\">-0.09818196</span>, <span style=\"color: #008080; text-decoration-color: #008080; font-weight: bold\">-0.09818196</span>, <span style=\"color: #008080; text-decoration-color: #008080; font-weight: bold\">-0.09818196</span>, <span style=\"color: #808000; text-decoration-color: #808000\">...</span>, <span style=\"color: #008080; text-decoration-color: #008080; font-weight: bold\">-0.06868529</span>,\n",
       "          <span style=\"color: #008080; text-decoration-color: #008080; font-weight: bold\">-0.03634596</span>, <span style=\"color: #008080; text-decoration-color: #008080; font-weight: bold\">-0.01704192</span><span style=\"font-weight: bold\">]</span>,\n",
       "         <span style=\"color: #808000; text-decoration-color: #808000\">...</span>,\n",
       "         <span style=\"font-weight: bold\">[</span><span style=\"color: #008080; text-decoration-color: #008080; font-weight: bold\">-0.09818196</span>, <span style=\"color: #008080; text-decoration-color: #008080; font-weight: bold\">-0.09818196</span>, <span style=\"color: #008080; text-decoration-color: #008080; font-weight: bold\">-0.09818196</span>, <span style=\"color: #808000; text-decoration-color: #808000\">...</span>, <span style=\"color: #008080; text-decoration-color: #008080; font-weight: bold\">-0.09818196</span>,\n",
       "          <span style=\"color: #008080; text-decoration-color: #008080; font-weight: bold\">-0.09818196</span>, <span style=\"color: #008080; text-decoration-color: #008080; font-weight: bold\">-0.09818196</span><span style=\"font-weight: bold\">]</span>,\n",
       "         <span style=\"font-weight: bold\">[</span><span style=\"color: #008080; text-decoration-color: #008080; font-weight: bold\">-0.09818196</span>, <span style=\"color: #008080; text-decoration-color: #008080; font-weight: bold\">-0.09818196</span>, <span style=\"color: #008080; text-decoration-color: #008080; font-weight: bold\">-0.09818196</span>, <span style=\"color: #808000; text-decoration-color: #808000\">...</span>, <span style=\"color: #008080; text-decoration-color: #008080; font-weight: bold\">-0.09818196</span>,\n",
       "          <span style=\"color: #008080; text-decoration-color: #008080; font-weight: bold\">-0.09818196</span>, <span style=\"color: #008080; text-decoration-color: #008080; font-weight: bold\">-0.09818196</span><span style=\"font-weight: bold\">]</span>,\n",
       "         <span style=\"font-weight: bold\">[</span><span style=\"color: #008080; text-decoration-color: #008080; font-weight: bold\">-0.09818196</span>, <span style=\"color: #008080; text-decoration-color: #008080; font-weight: bold\">-0.09818196</span>, <span style=\"color: #008080; text-decoration-color: #008080; font-weight: bold\">-0.09818196</span>, <span style=\"color: #808000; text-decoration-color: #808000\">...</span>, <span style=\"color: #008080; text-decoration-color: #008080; font-weight: bold\">-0.09818196</span>,\n",
       "          <span style=\"color: #008080; text-decoration-color: #008080; font-weight: bold\">-0.09818196</span>, <span style=\"color: #008080; text-decoration-color: #008080; font-weight: bold\">-0.09818196</span><span style=\"font-weight: bold\">]]]</span>,\n",
       "\n",
       "\n",
       "       <span style=\"font-weight: bold\">[[[</span><span style=\"color: #008080; text-decoration-color: #008080; font-weight: bold\">-0.09818196</span>, <span style=\"color: #008080; text-decoration-color: #008080; font-weight: bold\">-0.09818196</span>, <span style=\"color: #008080; text-decoration-color: #008080; font-weight: bold\">-0.09818196</span>, <span style=\"color: #808000; text-decoration-color: #808000\">...</span>, <span style=\"color: #008080; text-decoration-color: #008080; font-weight: bold\">-0.09818196</span>,\n",
       "          <span style=\"color: #008080; text-decoration-color: #008080; font-weight: bold\">-0.09818196</span>, <span style=\"color: #008080; text-decoration-color: #008080; font-weight: bold\">-0.06868529</span><span style=\"font-weight: bold\">]</span>,\n",
       "         <span style=\"font-weight: bold\">[</span><span style=\"color: #008080; text-decoration-color: #008080; font-weight: bold\">-0.09818196</span>, <span style=\"color: #008080; text-decoration-color: #008080; font-weight: bold\">-0.09818196</span>, <span style=\"color: #008080; text-decoration-color: #008080; font-weight: bold\">-0.09818196</span>, <span style=\"color: #808000; text-decoration-color: #808000\">...</span>, <span style=\"color: #008080; text-decoration-color: #008080; font-weight: bold\">-0.09818196</span>,\n",
       "          <span style=\"color: #008080; text-decoration-color: #008080; font-weight: bold\">-0.09818196</span>, <span style=\"color: #008080; text-decoration-color: #008080; font-weight: bold\">-0.09818196</span><span style=\"font-weight: bold\">]</span>,\n",
       "         <span style=\"font-weight: bold\">[</span><span style=\"color: #008080; text-decoration-color: #008080; font-weight: bold\">-0.09818196</span>, <span style=\"color: #008080; text-decoration-color: #008080; font-weight: bold\">-0.09818196</span>, <span style=\"color: #008080; text-decoration-color: #008080; font-weight: bold\">-0.09818196</span>, <span style=\"color: #808000; text-decoration-color: #808000\">...</span>, <span style=\"color: #008080; text-decoration-color: #008080; font-weight: bold\">-0.09818196</span>,\n",
       "          <span style=\"color: #008080; text-decoration-color: #008080; font-weight: bold\">-0.09818196</span>, <span style=\"color: #008080; text-decoration-color: #008080; font-weight: bold\">-0.09818196</span><span style=\"font-weight: bold\">]</span>,\n",
       "         <span style=\"color: #808000; text-decoration-color: #808000\">...</span>,\n",
       "         <span style=\"font-weight: bold\">[</span><span style=\"color: #008080; text-decoration-color: #008080; font-weight: bold\">-0.09818196</span>, <span style=\"color: #008080; text-decoration-color: #008080; font-weight: bold\">-0.09818196</span>, <span style=\"color: #008080; text-decoration-color: #008080; font-weight: bold\">-0.09818196</span>, <span style=\"color: #808000; text-decoration-color: #808000\">...</span>, <span style=\"color: #008080; text-decoration-color: #008080; font-weight: bold\">-0.09818196</span>,\n",
       "          <span style=\"color: #008080; text-decoration-color: #008080; font-weight: bold\">-0.09818196</span>, <span style=\"color: #008080; text-decoration-color: #008080; font-weight: bold\">-0.09818196</span><span style=\"font-weight: bold\">]</span>,\n",
       "         <span style=\"font-weight: bold\">[</span><span style=\"color: #008080; text-decoration-color: #008080; font-weight: bold\">-0.09818196</span>, <span style=\"color: #008080; text-decoration-color: #008080; font-weight: bold\">-0.09818196</span>, <span style=\"color: #008080; text-decoration-color: #008080; font-weight: bold\">-0.09818196</span>, <span style=\"color: #808000; text-decoration-color: #808000\">...</span>, <span style=\"color: #008080; text-decoration-color: #008080; font-weight: bold\">-0.09818196</span>,\n",
       "          <span style=\"color: #008080; text-decoration-color: #008080; font-weight: bold\">-0.09818196</span>, <span style=\"color: #008080; text-decoration-color: #008080; font-weight: bold\">-0.09818196</span><span style=\"font-weight: bold\">]</span>,\n",
       "         <span style=\"font-weight: bold\">[</span><span style=\"color: #008080; text-decoration-color: #008080; font-weight: bold\">-0.09818196</span>, <span style=\"color: #008080; text-decoration-color: #008080; font-weight: bold\">-0.09818196</span>, <span style=\"color: #008080; text-decoration-color: #008080; font-weight: bold\">-0.09818196</span>, <span style=\"color: #808000; text-decoration-color: #808000\">...</span>, <span style=\"color: #008080; text-decoration-color: #008080; font-weight: bold\">-0.09818196</span>,\n",
       "          <span style=\"color: #008080; text-decoration-color: #008080; font-weight: bold\">-0.09818196</span>, <span style=\"color: #008080; text-decoration-color: #008080; font-weight: bold\">-0.09818196</span><span style=\"font-weight: bold\">]]]</span>,\n",
       "\n",
       "\n",
       "       <span style=\"color: #808000; text-decoration-color: #808000\">...</span>,\n",
       "\n",
       "\n",
       "       <span style=\"font-weight: bold\">[[[</span><span style=\"color: #008080; text-decoration-color: #008080; font-weight: bold\">-0.09818196</span>, <span style=\"color: #008080; text-decoration-color: #008080; font-weight: bold\">-0.09818196</span>, <span style=\"color: #008080; text-decoration-color: #008080; font-weight: bold\">-0.09818196</span>, <span style=\"color: #808000; text-decoration-color: #808000\">...</span>, <span style=\"color: #008080; text-decoration-color: #008080; font-weight: bold\">-0.09818196</span>,\n",
       "           <span style=\"color: #008080; text-decoration-color: #008080; font-weight: bold\">4.1107473</span> ,  <span style=\"color: #008080; text-decoration-color: #008080; font-weight: bold\">3.321349</span>  <span style=\"font-weight: bold\">]</span>,\n",
       "         <span style=\"font-weight: bold\">[</span><span style=\"color: #008080; text-decoration-color: #008080; font-weight: bold\">-0.09818196</span>, <span style=\"color: #008080; text-decoration-color: #008080; font-weight: bold\">-0.09818196</span>, <span style=\"color: #008080; text-decoration-color: #008080; font-weight: bold\">-0.09818196</span>, <span style=\"color: #808000; text-decoration-color: #808000\">...</span>,  <span style=\"color: #008080; text-decoration-color: #008080; font-weight: bold\">4.1107473</span> ,\n",
       "           <span style=\"color: #008080; text-decoration-color: #008080; font-weight: bold\">3.321349</span>  , <span style=\"color: #008080; text-decoration-color: #008080; font-weight: bold\">-2.117766</span>  <span style=\"font-weight: bold\">]</span>,\n",
       "         <span style=\"font-weight: bold\">[</span><span style=\"color: #008080; text-decoration-color: #008080; font-weight: bold\">-0.09818196</span>, <span style=\"color: #008080; text-decoration-color: #008080; font-weight: bold\">-0.09818196</span>, <span style=\"color: #008080; text-decoration-color: #008080; font-weight: bold\">-0.09818196</span>, <span style=\"color: #808000; text-decoration-color: #808000\">...</span>,  <span style=\"color: #008080; text-decoration-color: #008080; font-weight: bold\">3.321349</span>  ,\n",
       "          <span style=\"color: #008080; text-decoration-color: #008080; font-weight: bold\">-2.117766</span>  , <span style=\"color: #008080; text-decoration-color: #008080; font-weight: bold\">-3.3715358</span> <span style=\"font-weight: bold\">]</span>,\n",
       "         <span style=\"color: #808000; text-decoration-color: #808000\">...</span>,\n",
       "         <span style=\"font-weight: bold\">[</span><span style=\"color: #008080; text-decoration-color: #008080; font-weight: bold\">-0.09818196</span>,  <span style=\"color: #008080; text-decoration-color: #008080; font-weight: bold\">4.1107473</span> ,  <span style=\"color: #008080; text-decoration-color: #008080; font-weight: bold\">3.321349</span>  , <span style=\"color: #808000; text-decoration-color: #808000\">...</span>, <span style=\"color: #008080; text-decoration-color: #008080; font-weight: bold\">-2.1110668</span> ,\n",
       "          <span style=\"color: #008080; text-decoration-color: #008080; font-weight: bold\">-0.09818196</span>, <span style=\"color: #008080; text-decoration-color: #008080; font-weight: bold\">-0.09818196</span><span style=\"font-weight: bold\">]</span>,\n",
       "         <span style=\"font-weight: bold\">[</span> <span style=\"color: #008080; text-decoration-color: #008080; font-weight: bold\">4.1107473</span> ,  <span style=\"color: #008080; text-decoration-color: #008080; font-weight: bold\">3.321349</span>  , <span style=\"color: #008080; text-decoration-color: #008080; font-weight: bold\">-2.117766</span>  , <span style=\"color: #808000; text-decoration-color: #808000\">...</span>, <span style=\"color: #008080; text-decoration-color: #008080; font-weight: bold\">-0.09818196</span>,\n",
       "          <span style=\"color: #008080; text-decoration-color: #008080; font-weight: bold\">-0.09818196</span>, <span style=\"color: #008080; text-decoration-color: #008080; font-weight: bold\">-0.09818196</span><span style=\"font-weight: bold\">]</span>,\n",
       "         <span style=\"font-weight: bold\">[</span> <span style=\"color: #008080; text-decoration-color: #008080; font-weight: bold\">3.321349</span>  , <span style=\"color: #008080; text-decoration-color: #008080; font-weight: bold\">-2.117766</span>  , <span style=\"color: #008080; text-decoration-color: #008080; font-weight: bold\">-3.3715358</span> , <span style=\"color: #808000; text-decoration-color: #808000\">...</span>, <span style=\"color: #008080; text-decoration-color: #008080; font-weight: bold\">-0.09818196</span>,\n",
       "          <span style=\"color: #008080; text-decoration-color: #008080; font-weight: bold\">-0.09818196</span>, <span style=\"color: #008080; text-decoration-color: #008080; font-weight: bold\">-0.09818196</span><span style=\"font-weight: bold\">]]]</span>,\n",
       "\n",
       "\n",
       "       <span style=\"font-weight: bold\">[[[</span><span style=\"color: #008080; text-decoration-color: #008080; font-weight: bold\">-0.09818196</span>, <span style=\"color: #008080; text-decoration-color: #008080; font-weight: bold\">-0.09818196</span>, <span style=\"color: #008080; text-decoration-color: #008080; font-weight: bold\">-0.09818196</span>, <span style=\"color: #808000; text-decoration-color: #808000\">...</span>, <span style=\"color: #008080; text-decoration-color: #008080; font-weight: bold\">-0.06868529</span>,\n",
       "          <span style=\"color: #008080; text-decoration-color: #008080; font-weight: bold\">-0.03634596</span>, <span style=\"color: #008080; text-decoration-color: #008080; font-weight: bold\">-0.01704192</span><span style=\"font-weight: bold\">]</span>,\n",
       "         <span style=\"font-weight: bold\">[</span><span style=\"color: #008080; text-decoration-color: #008080; font-weight: bold\">-0.09818196</span>, <span style=\"color: #008080; text-decoration-color: #008080; font-weight: bold\">-0.09818196</span>, <span style=\"color: #008080; text-decoration-color: #008080; font-weight: bold\">-0.09818196</span>, <span style=\"color: #808000; text-decoration-color: #808000\">...</span>, <span style=\"color: #008080; text-decoration-color: #008080; font-weight: bold\">-0.09818196</span>,\n",
       "          <span style=\"color: #008080; text-decoration-color: #008080; font-weight: bold\">-0.06868529</span>, <span style=\"color: #008080; text-decoration-color: #008080; font-weight: bold\">-0.03634596</span><span style=\"font-weight: bold\">]</span>,\n",
       "         <span style=\"font-weight: bold\">[</span><span style=\"color: #008080; text-decoration-color: #008080; font-weight: bold\">-0.09818196</span>, <span style=\"color: #008080; text-decoration-color: #008080; font-weight: bold\">-0.09818196</span>, <span style=\"color: #008080; text-decoration-color: #008080; font-weight: bold\">-0.09818196</span>, <span style=\"color: #808000; text-decoration-color: #808000\">...</span>, <span style=\"color: #008080; text-decoration-color: #008080; font-weight: bold\">-0.09818196</span>,\n",
       "          <span style=\"color: #008080; text-decoration-color: #008080; font-weight: bold\">-0.09818196</span>, <span style=\"color: #008080; text-decoration-color: #008080; font-weight: bold\">-0.06868529</span><span style=\"font-weight: bold\">]</span>,\n",
       "         <span style=\"color: #808000; text-decoration-color: #808000\">...</span>,\n",
       "         <span style=\"font-weight: bold\">[</span><span style=\"color: #008080; text-decoration-color: #008080; font-weight: bold\">-0.09818196</span>, <span style=\"color: #008080; text-decoration-color: #008080; font-weight: bold\">-0.09818196</span>, <span style=\"color: #008080; text-decoration-color: #008080; font-weight: bold\">-0.09818196</span>, <span style=\"color: #808000; text-decoration-color: #808000\">...</span>, <span style=\"color: #008080; text-decoration-color: #008080; font-weight: bold\">-0.09818196</span>,\n",
       "          <span style=\"color: #008080; text-decoration-color: #008080; font-weight: bold\">-0.09818196</span>, <span style=\"color: #008080; text-decoration-color: #008080; font-weight: bold\">-0.09818196</span><span style=\"font-weight: bold\">]</span>,\n",
       "         <span style=\"font-weight: bold\">[</span><span style=\"color: #008080; text-decoration-color: #008080; font-weight: bold\">-0.09818196</span>, <span style=\"color: #008080; text-decoration-color: #008080; font-weight: bold\">-0.09818196</span>, <span style=\"color: #008080; text-decoration-color: #008080; font-weight: bold\">-0.09818196</span>, <span style=\"color: #808000; text-decoration-color: #808000\">...</span>, <span style=\"color: #008080; text-decoration-color: #008080; font-weight: bold\">-0.09818196</span>,\n",
       "          <span style=\"color: #008080; text-decoration-color: #008080; font-weight: bold\">-0.09818196</span>, <span style=\"color: #008080; text-decoration-color: #008080; font-weight: bold\">-0.09818196</span><span style=\"font-weight: bold\">]</span>,\n",
       "         <span style=\"font-weight: bold\">[</span><span style=\"color: #008080; text-decoration-color: #008080; font-weight: bold\">-0.09818196</span>, <span style=\"color: #008080; text-decoration-color: #008080; font-weight: bold\">-0.09818196</span>, <span style=\"color: #008080; text-decoration-color: #008080; font-weight: bold\">-0.09818196</span>, <span style=\"color: #808000; text-decoration-color: #808000\">...</span>, <span style=\"color: #008080; text-decoration-color: #008080; font-weight: bold\">-0.09818196</span>,\n",
       "          <span style=\"color: #008080; text-decoration-color: #008080; font-weight: bold\">-0.09818196</span>, <span style=\"color: #008080; text-decoration-color: #008080; font-weight: bold\">-0.09818196</span><span style=\"font-weight: bold\">]]]</span>,\n",
       "\n",
       "\n",
       "       <span style=\"font-weight: bold\">[[[</span><span style=\"color: #008080; text-decoration-color: #008080; font-weight: bold\">-0.09818196</span>, <span style=\"color: #008080; text-decoration-color: #008080; font-weight: bold\">-0.09818196</span>, <span style=\"color: #008080; text-decoration-color: #008080; font-weight: bold\">-0.09818196</span>, <span style=\"color: #808000; text-decoration-color: #808000\">...</span>, <span style=\"color: #008080; text-decoration-color: #008080; font-weight: bold\">-0.09818196</span>,\n",
       "          <span style=\"color: #008080; text-decoration-color: #008080; font-weight: bold\">-0.09818196</span>, <span style=\"color: #008080; text-decoration-color: #008080; font-weight: bold\">-0.09818196</span><span style=\"font-weight: bold\">]</span>,\n",
       "         <span style=\"font-weight: bold\">[</span><span style=\"color: #008080; text-decoration-color: #008080; font-weight: bold\">-0.09818196</span>, <span style=\"color: #008080; text-decoration-color: #008080; font-weight: bold\">-0.09818196</span>, <span style=\"color: #008080; text-decoration-color: #008080; font-weight: bold\">-0.09818196</span>, <span style=\"color: #808000; text-decoration-color: #808000\">...</span>, <span style=\"color: #008080; text-decoration-color: #008080; font-weight: bold\">-0.09818196</span>,\n",
       "          <span style=\"color: #008080; text-decoration-color: #008080; font-weight: bold\">-0.09818196</span>, <span style=\"color: #008080; text-decoration-color: #008080; font-weight: bold\">-0.09818196</span><span style=\"font-weight: bold\">]</span>,\n",
       "         <span style=\"font-weight: bold\">[</span><span style=\"color: #008080; text-decoration-color: #008080; font-weight: bold\">-0.09818196</span>, <span style=\"color: #008080; text-decoration-color: #008080; font-weight: bold\">-0.09818196</span>, <span style=\"color: #008080; text-decoration-color: #008080; font-weight: bold\">-0.09818196</span>, <span style=\"color: #808000; text-decoration-color: #808000\">...</span>, <span style=\"color: #008080; text-decoration-color: #008080; font-weight: bold\">-0.09818196</span>,\n",
       "          <span style=\"color: #008080; text-decoration-color: #008080; font-weight: bold\">-0.09818196</span>, <span style=\"color: #008080; text-decoration-color: #008080; font-weight: bold\">-0.09818196</span><span style=\"font-weight: bold\">]</span>,\n",
       "         <span style=\"color: #808000; text-decoration-color: #808000\">...</span>,\n",
       "         <span style=\"font-weight: bold\">[</span> <span style=\"color: #008080; text-decoration-color: #008080; font-weight: bold\">6.0771103</span> ,  <span style=\"color: #008080; text-decoration-color: #008080; font-weight: bold\">6.0771103</span> ,  <span style=\"color: #008080; text-decoration-color: #008080; font-weight: bold\">6.0771103</span> , <span style=\"color: #808000; text-decoration-color: #808000\">...</span>,  <span style=\"color: #008080; text-decoration-color: #008080; font-weight: bold\">6.0771103</span> ,\n",
       "           <span style=\"color: #008080; text-decoration-color: #008080; font-weight: bold\">6.0771103</span> ,  <span style=\"color: #008080; text-decoration-color: #008080; font-weight: bold\">6.0771103</span> <span style=\"font-weight: bold\">]</span>,\n",
       "         <span style=\"font-weight: bold\">[</span><span style=\"color: #008080; text-decoration-color: #008080; font-weight: bold\">-2.5102928</span> , <span style=\"color: #008080; text-decoration-color: #008080; font-weight: bold\">-2.5102928</span> , <span style=\"color: #008080; text-decoration-color: #008080; font-weight: bold\">-2.5102928</span> , <span style=\"color: #808000; text-decoration-color: #808000\">...</span>, <span style=\"color: #008080; text-decoration-color: #008080; font-weight: bold\">-2.5102928</span> ,\n",
       "          <span style=\"color: #008080; text-decoration-color: #008080; font-weight: bold\">-2.5102928</span> , <span style=\"color: #008080; text-decoration-color: #008080; font-weight: bold\">-2.5102928</span> <span style=\"font-weight: bold\">]</span>,\n",
       "         <span style=\"font-weight: bold\">[</span><span style=\"color: #008080; text-decoration-color: #008080; font-weight: bold\">-3.538726</span>  , <span style=\"color: #008080; text-decoration-color: #008080; font-weight: bold\">-3.538726</span>  , <span style=\"color: #008080; text-decoration-color: #008080; font-weight: bold\">-3.538726</span>  , <span style=\"color: #808000; text-decoration-color: #808000\">...</span>, <span style=\"color: #008080; text-decoration-color: #008080; font-weight: bold\">-3.538726</span>  ,\n",
       "          <span style=\"color: #008080; text-decoration-color: #008080; font-weight: bold\">-3.538726</span>  , <span style=\"color: #008080; text-decoration-color: #008080; font-weight: bold\">-3.538726</span>  <span style=\"font-weight: bold\">]]]]</span>, <span style=\"color: #808000; text-decoration-color: #808000\">dtype</span>=<span style=\"color: #800080; text-decoration-color: #800080\">float32</span><span style=\"font-weight: bold\">)</span>,\n",
       "    <span style=\"color: #008000; text-decoration-color: #008000\">'relu1'</span>: <span style=\"color: #800080; text-decoration-color: #800080; font-weight: bold\">array</span><span style=\"font-weight: bold\">([[[[</span><span style=\"color: #008080; text-decoration-color: #008080; font-weight: bold\">0</span>.       , <span style=\"color: #008080; text-decoration-color: #008080; font-weight: bold\">0</span>.       , <span style=\"color: #008080; text-decoration-color: #008080; font-weight: bold\">0</span>.       , <span style=\"color: #808000; text-decoration-color: #808000\">...</span>, <span style=\"color: #008080; text-decoration-color: #008080; font-weight: bold\">0</span>.       , <span style=\"color: #008080; text-decoration-color: #008080; font-weight: bold\">0</span>.       ,\n",
       "          <span style=\"color: #008080; text-decoration-color: #008080; font-weight: bold\">0</span>.       <span style=\"font-weight: bold\">]</span>,\n",
       "         <span style=\"font-weight: bold\">[</span><span style=\"color: #008080; text-decoration-color: #008080; font-weight: bold\">0</span>.       , <span style=\"color: #008080; text-decoration-color: #008080; font-weight: bold\">0</span>.       , <span style=\"color: #008080; text-decoration-color: #008080; font-weight: bold\">0</span>.       , <span style=\"color: #808000; text-decoration-color: #808000\">...</span>, <span style=\"color: #008080; text-decoration-color: #008080; font-weight: bold\">0</span>.       , <span style=\"color: #008080; text-decoration-color: #008080; font-weight: bold\">0</span>.       ,\n",
       "          <span style=\"color: #008080; text-decoration-color: #008080; font-weight: bold\">0</span>.       <span style=\"font-weight: bold\">]</span>,\n",
       "         <span style=\"font-weight: bold\">[</span><span style=\"color: #008080; text-decoration-color: #008080; font-weight: bold\">0</span>.       , <span style=\"color: #008080; text-decoration-color: #008080; font-weight: bold\">0</span>.       , <span style=\"color: #008080; text-decoration-color: #008080; font-weight: bold\">0</span>.       , <span style=\"color: #808000; text-decoration-color: #808000\">...</span>, <span style=\"color: #008080; text-decoration-color: #008080; font-weight: bold\">0</span>.       , <span style=\"color: #008080; text-decoration-color: #008080; font-weight: bold\">0</span>.       ,\n",
       "          <span style=\"color: #008080; text-decoration-color: #008080; font-weight: bold\">0</span>.       <span style=\"font-weight: bold\">]</span>,\n",
       "         <span style=\"color: #808000; text-decoration-color: #808000\">...</span>,\n",
       "         <span style=\"font-weight: bold\">[</span><span style=\"color: #008080; text-decoration-color: #008080; font-weight: bold\">0</span>.       , <span style=\"color: #008080; text-decoration-color: #008080; font-weight: bold\">0</span>.       , <span style=\"color: #008080; text-decoration-color: #008080; font-weight: bold\">0</span>.       , <span style=\"color: #808000; text-decoration-color: #808000\">...</span>, <span style=\"color: #008080; text-decoration-color: #008080; font-weight: bold\">0</span>.       , <span style=\"color: #008080; text-decoration-color: #008080; font-weight: bold\">0</span>.       ,\n",
       "          <span style=\"color: #008080; text-decoration-color: #008080; font-weight: bold\">0</span>.       <span style=\"font-weight: bold\">]</span>,\n",
       "         <span style=\"font-weight: bold\">[</span><span style=\"color: #008080; text-decoration-color: #008080; font-weight: bold\">0</span>.       , <span style=\"color: #008080; text-decoration-color: #008080; font-weight: bold\">0</span>.       , <span style=\"color: #008080; text-decoration-color: #008080; font-weight: bold\">0</span>.       , <span style=\"color: #808000; text-decoration-color: #808000\">...</span>, <span style=\"color: #008080; text-decoration-color: #008080; font-weight: bold\">0</span>.       , <span style=\"color: #008080; text-decoration-color: #008080; font-weight: bold\">0</span>.       ,\n",
       "          <span style=\"color: #008080; text-decoration-color: #008080; font-weight: bold\">0</span>.       <span style=\"font-weight: bold\">]</span>,\n",
       "         <span style=\"font-weight: bold\">[</span><span style=\"color: #008080; text-decoration-color: #008080; font-weight: bold\">0</span>.       , <span style=\"color: #008080; text-decoration-color: #008080; font-weight: bold\">0</span>.       , <span style=\"color: #008080; text-decoration-color: #008080; font-weight: bold\">0</span>.       , <span style=\"color: #808000; text-decoration-color: #808000\">...</span>, <span style=\"color: #008080; text-decoration-color: #008080; font-weight: bold\">0</span>.       , <span style=\"color: #008080; text-decoration-color: #008080; font-weight: bold\">0</span>.       ,\n",
       "          <span style=\"color: #008080; text-decoration-color: #008080; font-weight: bold\">0</span>.       <span style=\"font-weight: bold\">]]]</span>,\n",
       "\n",
       "\n",
       "       <span style=\"font-weight: bold\">[[[</span><span style=\"color: #008080; text-decoration-color: #008080; font-weight: bold\">0</span>.       , <span style=\"color: #008080; text-decoration-color: #008080; font-weight: bold\">0</span>.       , <span style=\"color: #008080; text-decoration-color: #008080; font-weight: bold\">0</span>.       , <span style=\"color: #808000; text-decoration-color: #808000\">...</span>, <span style=\"color: #008080; text-decoration-color: #008080; font-weight: bold\">0</span>.       , <span style=\"color: #008080; text-decoration-color: #008080; font-weight: bold\">0</span>.       ,\n",
       "          <span style=\"color: #008080; text-decoration-color: #008080; font-weight: bold\">0</span>.       <span style=\"font-weight: bold\">]</span>,\n",
       "         <span style=\"font-weight: bold\">[</span><span style=\"color: #008080; text-decoration-color: #008080; font-weight: bold\">0</span>.       , <span style=\"color: #008080; text-decoration-color: #008080; font-weight: bold\">0</span>.       , <span style=\"color: #008080; text-decoration-color: #008080; font-weight: bold\">0</span>.       , <span style=\"color: #808000; text-decoration-color: #808000\">...</span>, <span style=\"color: #008080; text-decoration-color: #008080; font-weight: bold\">0</span>.       , <span style=\"color: #008080; text-decoration-color: #008080; font-weight: bold\">0</span>.       ,\n",
       "          <span style=\"color: #008080; text-decoration-color: #008080; font-weight: bold\">0</span>.       <span style=\"font-weight: bold\">]</span>,\n",
       "         <span style=\"font-weight: bold\">[</span><span style=\"color: #008080; text-decoration-color: #008080; font-weight: bold\">0</span>.       , <span style=\"color: #008080; text-decoration-color: #008080; font-weight: bold\">0</span>.       , <span style=\"color: #008080; text-decoration-color: #008080; font-weight: bold\">0</span>.       , <span style=\"color: #808000; text-decoration-color: #808000\">...</span>, <span style=\"color: #008080; text-decoration-color: #008080; font-weight: bold\">0</span>.       , <span style=\"color: #008080; text-decoration-color: #008080; font-weight: bold\">0</span>.       ,\n",
       "          <span style=\"color: #008080; text-decoration-color: #008080; font-weight: bold\">0</span>.       <span style=\"font-weight: bold\">]</span>,\n",
       "         <span style=\"color: #808000; text-decoration-color: #808000\">...</span>,\n",
       "         <span style=\"font-weight: bold\">[</span><span style=\"color: #008080; text-decoration-color: #008080; font-weight: bold\">0</span>.       , <span style=\"color: #008080; text-decoration-color: #008080; font-weight: bold\">0</span>.       , <span style=\"color: #008080; text-decoration-color: #008080; font-weight: bold\">0</span>.       , <span style=\"color: #808000; text-decoration-color: #808000\">...</span>, <span style=\"color: #008080; text-decoration-color: #008080; font-weight: bold\">0</span>.       , <span style=\"color: #008080; text-decoration-color: #008080; font-weight: bold\">0</span>.       ,\n",
       "          <span style=\"color: #008080; text-decoration-color: #008080; font-weight: bold\">0</span>.       <span style=\"font-weight: bold\">]</span>,\n",
       "         <span style=\"font-weight: bold\">[</span><span style=\"color: #008080; text-decoration-color: #008080; font-weight: bold\">0</span>.       , <span style=\"color: #008080; text-decoration-color: #008080; font-weight: bold\">0</span>.       , <span style=\"color: #008080; text-decoration-color: #008080; font-weight: bold\">0</span>.       , <span style=\"color: #808000; text-decoration-color: #808000\">...</span>, <span style=\"color: #008080; text-decoration-color: #008080; font-weight: bold\">0</span>.       , <span style=\"color: #008080; text-decoration-color: #008080; font-weight: bold\">0</span>.       ,\n",
       "          <span style=\"color: #008080; text-decoration-color: #008080; font-weight: bold\">0</span>.       <span style=\"font-weight: bold\">]</span>,\n",
       "         <span style=\"font-weight: bold\">[</span><span style=\"color: #008080; text-decoration-color: #008080; font-weight: bold\">0</span>.       , <span style=\"color: #008080; text-decoration-color: #008080; font-weight: bold\">0</span>.       , <span style=\"color: #008080; text-decoration-color: #008080; font-weight: bold\">0</span>.       , <span style=\"color: #808000; text-decoration-color: #808000\">...</span>, <span style=\"color: #008080; text-decoration-color: #008080; font-weight: bold\">0</span>.       , <span style=\"color: #008080; text-decoration-color: #008080; font-weight: bold\">0</span>.       ,\n",
       "          <span style=\"color: #008080; text-decoration-color: #008080; font-weight: bold\">0</span>.       <span style=\"font-weight: bold\">]]]</span>,\n",
       "\n",
       "\n",
       "       <span style=\"font-weight: bold\">[[[</span><span style=\"color: #008080; text-decoration-color: #008080; font-weight: bold\">0</span>.       , <span style=\"color: #008080; text-decoration-color: #008080; font-weight: bold\">0</span>.       , <span style=\"color: #008080; text-decoration-color: #008080; font-weight: bold\">0</span>.       , <span style=\"color: #808000; text-decoration-color: #808000\">...</span>, <span style=\"color: #008080; text-decoration-color: #008080; font-weight: bold\">0</span>.       , <span style=\"color: #008080; text-decoration-color: #008080; font-weight: bold\">0</span>.       ,\n",
       "          <span style=\"color: #008080; text-decoration-color: #008080; font-weight: bold\">0</span>.       <span style=\"font-weight: bold\">]</span>,\n",
       "         <span style=\"font-weight: bold\">[</span><span style=\"color: #008080; text-decoration-color: #008080; font-weight: bold\">0</span>.       , <span style=\"color: #008080; text-decoration-color: #008080; font-weight: bold\">0</span>.       , <span style=\"color: #008080; text-decoration-color: #008080; font-weight: bold\">0</span>.       , <span style=\"color: #808000; text-decoration-color: #808000\">...</span>, <span style=\"color: #008080; text-decoration-color: #008080; font-weight: bold\">0</span>.       , <span style=\"color: #008080; text-decoration-color: #008080; font-weight: bold\">0</span>.       ,\n",
       "          <span style=\"color: #008080; text-decoration-color: #008080; font-weight: bold\">0</span>.       <span style=\"font-weight: bold\">]</span>,\n",
       "         <span style=\"font-weight: bold\">[</span><span style=\"color: #008080; text-decoration-color: #008080; font-weight: bold\">0</span>.       , <span style=\"color: #008080; text-decoration-color: #008080; font-weight: bold\">0</span>.       , <span style=\"color: #008080; text-decoration-color: #008080; font-weight: bold\">0</span>.       , <span style=\"color: #808000; text-decoration-color: #808000\">...</span>, <span style=\"color: #008080; text-decoration-color: #008080; font-weight: bold\">0</span>.       , <span style=\"color: #008080; text-decoration-color: #008080; font-weight: bold\">0</span>.       ,\n",
       "          <span style=\"color: #008080; text-decoration-color: #008080; font-weight: bold\">0</span>.       <span style=\"font-weight: bold\">]</span>,\n",
       "         <span style=\"color: #808000; text-decoration-color: #808000\">...</span>,\n",
       "         <span style=\"font-weight: bold\">[</span><span style=\"color: #008080; text-decoration-color: #008080; font-weight: bold\">0</span>.       , <span style=\"color: #008080; text-decoration-color: #008080; font-weight: bold\">0</span>.       , <span style=\"color: #008080; text-decoration-color: #008080; font-weight: bold\">0</span>.       , <span style=\"color: #808000; text-decoration-color: #808000\">...</span>, <span style=\"color: #008080; text-decoration-color: #008080; font-weight: bold\">0</span>.       , <span style=\"color: #008080; text-decoration-color: #008080; font-weight: bold\">0</span>.       ,\n",
       "          <span style=\"color: #008080; text-decoration-color: #008080; font-weight: bold\">0</span>.       <span style=\"font-weight: bold\">]</span>,\n",
       "         <span style=\"font-weight: bold\">[</span><span style=\"color: #008080; text-decoration-color: #008080; font-weight: bold\">0</span>.       , <span style=\"color: #008080; text-decoration-color: #008080; font-weight: bold\">0</span>.       , <span style=\"color: #008080; text-decoration-color: #008080; font-weight: bold\">0</span>.       , <span style=\"color: #808000; text-decoration-color: #808000\">...</span>, <span style=\"color: #008080; text-decoration-color: #008080; font-weight: bold\">0</span>.       , <span style=\"color: #008080; text-decoration-color: #008080; font-weight: bold\">0</span>.       ,\n",
       "          <span style=\"color: #008080; text-decoration-color: #008080; font-weight: bold\">0</span>.       <span style=\"font-weight: bold\">]</span>,\n",
       "         <span style=\"font-weight: bold\">[</span><span style=\"color: #008080; text-decoration-color: #008080; font-weight: bold\">0</span>.       , <span style=\"color: #008080; text-decoration-color: #008080; font-weight: bold\">0</span>.       , <span style=\"color: #008080; text-decoration-color: #008080; font-weight: bold\">0</span>.       , <span style=\"color: #808000; text-decoration-color: #808000\">...</span>, <span style=\"color: #008080; text-decoration-color: #008080; font-weight: bold\">0</span>.       , <span style=\"color: #008080; text-decoration-color: #008080; font-weight: bold\">0</span>.       ,\n",
       "          <span style=\"color: #008080; text-decoration-color: #008080; font-weight: bold\">0</span>.       <span style=\"font-weight: bold\">]]]</span>,\n",
       "\n",
       "\n",
       "       <span style=\"color: #808000; text-decoration-color: #808000\">...</span>,\n",
       "\n",
       "\n",
       "       <span style=\"font-weight: bold\">[[[</span><span style=\"color: #008080; text-decoration-color: #008080; font-weight: bold\">0</span>.       , <span style=\"color: #008080; text-decoration-color: #008080; font-weight: bold\">0</span>.       , <span style=\"color: #008080; text-decoration-color: #008080; font-weight: bold\">0</span>.       , <span style=\"color: #808000; text-decoration-color: #808000\">...</span>, <span style=\"color: #008080; text-decoration-color: #008080; font-weight: bold\">0</span>.       , <span style=\"color: #008080; text-decoration-color: #008080; font-weight: bold\">4.1107473</span>,\n",
       "          <span style=\"color: #008080; text-decoration-color: #008080; font-weight: bold\">3.321349</span> <span style=\"font-weight: bold\">]</span>,\n",
       "         <span style=\"font-weight: bold\">[</span><span style=\"color: #008080; text-decoration-color: #008080; font-weight: bold\">0</span>.       , <span style=\"color: #008080; text-decoration-color: #008080; font-weight: bold\">0</span>.       , <span style=\"color: #008080; text-decoration-color: #008080; font-weight: bold\">0</span>.       , <span style=\"color: #808000; text-decoration-color: #808000\">...</span>, <span style=\"color: #008080; text-decoration-color: #008080; font-weight: bold\">4.1107473</span>, <span style=\"color: #008080; text-decoration-color: #008080; font-weight: bold\">3.321349</span> ,\n",
       "          <span style=\"color: #008080; text-decoration-color: #008080; font-weight: bold\">0</span>.       <span style=\"font-weight: bold\">]</span>,\n",
       "         <span style=\"font-weight: bold\">[</span><span style=\"color: #008080; text-decoration-color: #008080; font-weight: bold\">0</span>.       , <span style=\"color: #008080; text-decoration-color: #008080; font-weight: bold\">0</span>.       , <span style=\"color: #008080; text-decoration-color: #008080; font-weight: bold\">0</span>.       , <span style=\"color: #808000; text-decoration-color: #808000\">...</span>, <span style=\"color: #008080; text-decoration-color: #008080; font-weight: bold\">3.321349</span> , <span style=\"color: #008080; text-decoration-color: #008080; font-weight: bold\">0</span>.       ,\n",
       "          <span style=\"color: #008080; text-decoration-color: #008080; font-weight: bold\">0</span>.       <span style=\"font-weight: bold\">]</span>,\n",
       "         <span style=\"color: #808000; text-decoration-color: #808000\">...</span>,\n",
       "         <span style=\"font-weight: bold\">[</span><span style=\"color: #008080; text-decoration-color: #008080; font-weight: bold\">0</span>.       , <span style=\"color: #008080; text-decoration-color: #008080; font-weight: bold\">4.1107473</span>, <span style=\"color: #008080; text-decoration-color: #008080; font-weight: bold\">3.321349</span> , <span style=\"color: #808000; text-decoration-color: #808000\">...</span>, <span style=\"color: #008080; text-decoration-color: #008080; font-weight: bold\">0</span>.       , <span style=\"color: #008080; text-decoration-color: #008080; font-weight: bold\">0</span>.       ,\n",
       "          <span style=\"color: #008080; text-decoration-color: #008080; font-weight: bold\">0</span>.       <span style=\"font-weight: bold\">]</span>,\n",
       "         <span style=\"font-weight: bold\">[</span><span style=\"color: #008080; text-decoration-color: #008080; font-weight: bold\">4.1107473</span>, <span style=\"color: #008080; text-decoration-color: #008080; font-weight: bold\">3.321349</span> , <span style=\"color: #008080; text-decoration-color: #008080; font-weight: bold\">0</span>.       , <span style=\"color: #808000; text-decoration-color: #808000\">...</span>, <span style=\"color: #008080; text-decoration-color: #008080; font-weight: bold\">0</span>.       , <span style=\"color: #008080; text-decoration-color: #008080; font-weight: bold\">0</span>.       ,\n",
       "          <span style=\"color: #008080; text-decoration-color: #008080; font-weight: bold\">0</span>.       <span style=\"font-weight: bold\">]</span>,\n",
       "         <span style=\"font-weight: bold\">[</span><span style=\"color: #008080; text-decoration-color: #008080; font-weight: bold\">3.321349</span> , <span style=\"color: #008080; text-decoration-color: #008080; font-weight: bold\">0</span>.       , <span style=\"color: #008080; text-decoration-color: #008080; font-weight: bold\">0</span>.       , <span style=\"color: #808000; text-decoration-color: #808000\">...</span>, <span style=\"color: #008080; text-decoration-color: #008080; font-weight: bold\">0</span>.       , <span style=\"color: #008080; text-decoration-color: #008080; font-weight: bold\">0</span>.       ,\n",
       "          <span style=\"color: #008080; text-decoration-color: #008080; font-weight: bold\">0</span>.       <span style=\"font-weight: bold\">]]]</span>,\n",
       "\n",
       "\n",
       "       <span style=\"font-weight: bold\">[[[</span><span style=\"color: #008080; text-decoration-color: #008080; font-weight: bold\">0</span>.       , <span style=\"color: #008080; text-decoration-color: #008080; font-weight: bold\">0</span>.       , <span style=\"color: #008080; text-decoration-color: #008080; font-weight: bold\">0</span>.       , <span style=\"color: #808000; text-decoration-color: #808000\">...</span>, <span style=\"color: #008080; text-decoration-color: #008080; font-weight: bold\">0</span>.       , <span style=\"color: #008080; text-decoration-color: #008080; font-weight: bold\">0</span>.       ,\n",
       "          <span style=\"color: #008080; text-decoration-color: #008080; font-weight: bold\">0</span>.       <span style=\"font-weight: bold\">]</span>,\n",
       "         <span style=\"font-weight: bold\">[</span><span style=\"color: #008080; text-decoration-color: #008080; font-weight: bold\">0</span>.       , <span style=\"color: #008080; text-decoration-color: #008080; font-weight: bold\">0</span>.       , <span style=\"color: #008080; text-decoration-color: #008080; font-weight: bold\">0</span>.       , <span style=\"color: #808000; text-decoration-color: #808000\">...</span>, <span style=\"color: #008080; text-decoration-color: #008080; font-weight: bold\">0</span>.       , <span style=\"color: #008080; text-decoration-color: #008080; font-weight: bold\">0</span>.       ,\n",
       "          <span style=\"color: #008080; text-decoration-color: #008080; font-weight: bold\">0</span>.       <span style=\"font-weight: bold\">]</span>,\n",
       "         <span style=\"font-weight: bold\">[</span><span style=\"color: #008080; text-decoration-color: #008080; font-weight: bold\">0</span>.       , <span style=\"color: #008080; text-decoration-color: #008080; font-weight: bold\">0</span>.       , <span style=\"color: #008080; text-decoration-color: #008080; font-weight: bold\">0</span>.       , <span style=\"color: #808000; text-decoration-color: #808000\">...</span>, <span style=\"color: #008080; text-decoration-color: #008080; font-weight: bold\">0</span>.       , <span style=\"color: #008080; text-decoration-color: #008080; font-weight: bold\">0</span>.       ,\n",
       "          <span style=\"color: #008080; text-decoration-color: #008080; font-weight: bold\">0</span>.       <span style=\"font-weight: bold\">]</span>,\n",
       "         <span style=\"color: #808000; text-decoration-color: #808000\">...</span>,\n",
       "         <span style=\"font-weight: bold\">[</span><span style=\"color: #008080; text-decoration-color: #008080; font-weight: bold\">0</span>.       , <span style=\"color: #008080; text-decoration-color: #008080; font-weight: bold\">0</span>.       , <span style=\"color: #008080; text-decoration-color: #008080; font-weight: bold\">0</span>.       , <span style=\"color: #808000; text-decoration-color: #808000\">...</span>, <span style=\"color: #008080; text-decoration-color: #008080; font-weight: bold\">0</span>.       , <span style=\"color: #008080; text-decoration-color: #008080; font-weight: bold\">0</span>.       ,\n",
       "          <span style=\"color: #008080; text-decoration-color: #008080; font-weight: bold\">0</span>.       <span style=\"font-weight: bold\">]</span>,\n",
       "         <span style=\"font-weight: bold\">[</span><span style=\"color: #008080; text-decoration-color: #008080; font-weight: bold\">0</span>.       , <span style=\"color: #008080; text-decoration-color: #008080; font-weight: bold\">0</span>.       , <span style=\"color: #008080; text-decoration-color: #008080; font-weight: bold\">0</span>.       , <span style=\"color: #808000; text-decoration-color: #808000\">...</span>, <span style=\"color: #008080; text-decoration-color: #008080; font-weight: bold\">0</span>.       , <span style=\"color: #008080; text-decoration-color: #008080; font-weight: bold\">0</span>.       ,\n",
       "          <span style=\"color: #008080; text-decoration-color: #008080; font-weight: bold\">0</span>.       <span style=\"font-weight: bold\">]</span>,\n",
       "         <span style=\"font-weight: bold\">[</span><span style=\"color: #008080; text-decoration-color: #008080; font-weight: bold\">0</span>.       , <span style=\"color: #008080; text-decoration-color: #008080; font-weight: bold\">0</span>.       , <span style=\"color: #008080; text-decoration-color: #008080; font-weight: bold\">0</span>.       , <span style=\"color: #808000; text-decoration-color: #808000\">...</span>, <span style=\"color: #008080; text-decoration-color: #008080; font-weight: bold\">0</span>.       , <span style=\"color: #008080; text-decoration-color: #008080; font-weight: bold\">0</span>.       ,\n",
       "          <span style=\"color: #008080; text-decoration-color: #008080; font-weight: bold\">0</span>.       <span style=\"font-weight: bold\">]]]</span>,\n",
       "\n",
       "\n",
       "       <span style=\"font-weight: bold\">[[[</span><span style=\"color: #008080; text-decoration-color: #008080; font-weight: bold\">0</span>.       , <span style=\"color: #008080; text-decoration-color: #008080; font-weight: bold\">0</span>.       , <span style=\"color: #008080; text-decoration-color: #008080; font-weight: bold\">0</span>.       , <span style=\"color: #808000; text-decoration-color: #808000\">...</span>, <span style=\"color: #008080; text-decoration-color: #008080; font-weight: bold\">0</span>.       , <span style=\"color: #008080; text-decoration-color: #008080; font-weight: bold\">0</span>.       ,\n",
       "          <span style=\"color: #008080; text-decoration-color: #008080; font-weight: bold\">0</span>.       <span style=\"font-weight: bold\">]</span>,\n",
       "         <span style=\"font-weight: bold\">[</span><span style=\"color: #008080; text-decoration-color: #008080; font-weight: bold\">0</span>.       , <span style=\"color: #008080; text-decoration-color: #008080; font-weight: bold\">0</span>.       , <span style=\"color: #008080; text-decoration-color: #008080; font-weight: bold\">0</span>.       , <span style=\"color: #808000; text-decoration-color: #808000\">...</span>, <span style=\"color: #008080; text-decoration-color: #008080; font-weight: bold\">0</span>.       , <span style=\"color: #008080; text-decoration-color: #008080; font-weight: bold\">0</span>.       ,\n",
       "          <span style=\"color: #008080; text-decoration-color: #008080; font-weight: bold\">0</span>.       <span style=\"font-weight: bold\">]</span>,\n",
       "         <span style=\"font-weight: bold\">[</span><span style=\"color: #008080; text-decoration-color: #008080; font-weight: bold\">0</span>.       , <span style=\"color: #008080; text-decoration-color: #008080; font-weight: bold\">0</span>.       , <span style=\"color: #008080; text-decoration-color: #008080; font-weight: bold\">0</span>.       , <span style=\"color: #808000; text-decoration-color: #808000\">...</span>, <span style=\"color: #008080; text-decoration-color: #008080; font-weight: bold\">0</span>.       , <span style=\"color: #008080; text-decoration-color: #008080; font-weight: bold\">0</span>.       ,\n",
       "          <span style=\"color: #008080; text-decoration-color: #008080; font-weight: bold\">0</span>.       <span style=\"font-weight: bold\">]</span>,\n",
       "         <span style=\"color: #808000; text-decoration-color: #808000\">...</span>,\n",
       "         <span style=\"font-weight: bold\">[</span><span style=\"color: #008080; text-decoration-color: #008080; font-weight: bold\">6.0771103</span>, <span style=\"color: #008080; text-decoration-color: #008080; font-weight: bold\">6.0771103</span>, <span style=\"color: #008080; text-decoration-color: #008080; font-weight: bold\">6.0771103</span>, <span style=\"color: #808000; text-decoration-color: #808000\">...</span>, <span style=\"color: #008080; text-decoration-color: #008080; font-weight: bold\">6.0771103</span>, <span style=\"color: #008080; text-decoration-color: #008080; font-weight: bold\">6.0771103</span>,\n",
       "          <span style=\"color: #008080; text-decoration-color: #008080; font-weight: bold\">6.0771103</span><span style=\"font-weight: bold\">]</span>,\n",
       "         <span style=\"font-weight: bold\">[</span><span style=\"color: #008080; text-decoration-color: #008080; font-weight: bold\">0</span>.       , <span style=\"color: #008080; text-decoration-color: #008080; font-weight: bold\">0</span>.       , <span style=\"color: #008080; text-decoration-color: #008080; font-weight: bold\">0</span>.       , <span style=\"color: #808000; text-decoration-color: #808000\">...</span>, <span style=\"color: #008080; text-decoration-color: #008080; font-weight: bold\">0</span>.       , <span style=\"color: #008080; text-decoration-color: #008080; font-weight: bold\">0</span>.       ,\n",
       "          <span style=\"color: #008080; text-decoration-color: #008080; font-weight: bold\">0</span>.       <span style=\"font-weight: bold\">]</span>,\n",
       "         <span style=\"font-weight: bold\">[</span><span style=\"color: #008080; text-decoration-color: #008080; font-weight: bold\">0</span>.       , <span style=\"color: #008080; text-decoration-color: #008080; font-weight: bold\">0</span>.       , <span style=\"color: #008080; text-decoration-color: #008080; font-weight: bold\">0</span>.       , <span style=\"color: #808000; text-decoration-color: #808000\">...</span>, <span style=\"color: #008080; text-decoration-color: #008080; font-weight: bold\">0</span>.       , <span style=\"color: #008080; text-decoration-color: #008080; font-weight: bold\">0</span>.       ,\n",
       "          <span style=\"color: #008080; text-decoration-color: #008080; font-weight: bold\">0</span>.       <span style=\"font-weight: bold\">]]]]</span>, <span style=\"color: #808000; text-decoration-color: #808000\">dtype</span>=<span style=\"color: #800080; text-decoration-color: #800080\">float32</span><span style=\"font-weight: bold\">)</span>,\n",
       "    <span style=\"color: #008000; text-decoration-color: #008000\">'maxp1'</span>: <span style=\"color: #800080; text-decoration-color: #800080; font-weight: bold\">array</span><span style=\"font-weight: bold\">([[[[</span><span style=\"color: #008080; text-decoration-color: #008080; font-weight: bold\">0</span>.       , <span style=\"color: #008080; text-decoration-color: #008080; font-weight: bold\">0</span>.       , <span style=\"color: #008080; text-decoration-color: #008080; font-weight: bold\">0</span>.       , <span style=\"color: #008080; text-decoration-color: #008080; font-weight: bold\">0</span>.       <span style=\"font-weight: bold\">]</span>,\n",
       "         <span style=\"font-weight: bold\">[</span><span style=\"color: #008080; text-decoration-color: #008080; font-weight: bold\">0</span>.       , <span style=\"color: #008080; text-decoration-color: #008080; font-weight: bold\">0</span>.       , <span style=\"color: #008080; text-decoration-color: #008080; font-weight: bold\">0</span>.       , <span style=\"color: #008080; text-decoration-color: #008080; font-weight: bold\">0</span>.       <span style=\"font-weight: bold\">]</span>,\n",
       "         <span style=\"font-weight: bold\">[</span><span style=\"color: #008080; text-decoration-color: #008080; font-weight: bold\">0</span>.       , <span style=\"color: #008080; text-decoration-color: #008080; font-weight: bold\">0</span>.       , <span style=\"color: #008080; text-decoration-color: #008080; font-weight: bold\">0</span>.       , <span style=\"color: #008080; text-decoration-color: #008080; font-weight: bold\">0</span>.       <span style=\"font-weight: bold\">]</span>,\n",
       "         <span style=\"font-weight: bold\">[</span><span style=\"color: #008080; text-decoration-color: #008080; font-weight: bold\">0</span>.       , <span style=\"color: #008080; text-decoration-color: #008080; font-weight: bold\">0</span>.       , <span style=\"color: #008080; text-decoration-color: #008080; font-weight: bold\">0</span>.       , <span style=\"color: #008080; text-decoration-color: #008080; font-weight: bold\">0</span>.       <span style=\"font-weight: bold\">]]]</span>,\n",
       "\n",
       "\n",
       "       <span style=\"font-weight: bold\">[[[</span><span style=\"color: #008080; text-decoration-color: #008080; font-weight: bold\">0</span>.       , <span style=\"color: #008080; text-decoration-color: #008080; font-weight: bold\">0</span>.       , <span style=\"color: #008080; text-decoration-color: #008080; font-weight: bold\">0</span>.       , <span style=\"color: #008080; text-decoration-color: #008080; font-weight: bold\">0</span>.       <span style=\"font-weight: bold\">]</span>,\n",
       "         <span style=\"font-weight: bold\">[</span><span style=\"color: #008080; text-decoration-color: #008080; font-weight: bold\">0</span>.       , <span style=\"color: #008080; text-decoration-color: #008080; font-weight: bold\">0</span>.       , <span style=\"color: #008080; text-decoration-color: #008080; font-weight: bold\">0</span>.       , <span style=\"color: #008080; text-decoration-color: #008080; font-weight: bold\">0</span>.       <span style=\"font-weight: bold\">]</span>,\n",
       "         <span style=\"font-weight: bold\">[</span><span style=\"color: #008080; text-decoration-color: #008080; font-weight: bold\">0</span>.       , <span style=\"color: #008080; text-decoration-color: #008080; font-weight: bold\">0</span>.       , <span style=\"color: #008080; text-decoration-color: #008080; font-weight: bold\">0</span>.       , <span style=\"color: #008080; text-decoration-color: #008080; font-weight: bold\">0</span>.       <span style=\"font-weight: bold\">]</span>,\n",
       "         <span style=\"font-weight: bold\">[</span><span style=\"color: #008080; text-decoration-color: #008080; font-weight: bold\">0</span>.       , <span style=\"color: #008080; text-decoration-color: #008080; font-weight: bold\">0</span>.       , <span style=\"color: #008080; text-decoration-color: #008080; font-weight: bold\">0</span>.       , <span style=\"color: #008080; text-decoration-color: #008080; font-weight: bold\">0</span>.       <span style=\"font-weight: bold\">]]]</span>,\n",
       "\n",
       "\n",
       "       <span style=\"font-weight: bold\">[[[</span><span style=\"color: #008080; text-decoration-color: #008080; font-weight: bold\">0</span>.       , <span style=\"color: #008080; text-decoration-color: #008080; font-weight: bold\">0</span>.       , <span style=\"color: #008080; text-decoration-color: #008080; font-weight: bold\">0</span>.       , <span style=\"color: #008080; text-decoration-color: #008080; font-weight: bold\">0</span>.       <span style=\"font-weight: bold\">]</span>,\n",
       "         <span style=\"font-weight: bold\">[</span><span style=\"color: #008080; text-decoration-color: #008080; font-weight: bold\">0</span>.       , <span style=\"color: #008080; text-decoration-color: #008080; font-weight: bold\">0</span>.       , <span style=\"color: #008080; text-decoration-color: #008080; font-weight: bold\">0</span>.       , <span style=\"color: #008080; text-decoration-color: #008080; font-weight: bold\">0</span>.       <span style=\"font-weight: bold\">]</span>,\n",
       "         <span style=\"font-weight: bold\">[</span><span style=\"color: #008080; text-decoration-color: #008080; font-weight: bold\">0</span>.       , <span style=\"color: #008080; text-decoration-color: #008080; font-weight: bold\">0</span>.       , <span style=\"color: #008080; text-decoration-color: #008080; font-weight: bold\">0</span>.       , <span style=\"color: #008080; text-decoration-color: #008080; font-weight: bold\">0</span>.       <span style=\"font-weight: bold\">]</span>,\n",
       "         <span style=\"font-weight: bold\">[</span><span style=\"color: #008080; text-decoration-color: #008080; font-weight: bold\">0</span>.       , <span style=\"color: #008080; text-decoration-color: #008080; font-weight: bold\">0</span>.       , <span style=\"color: #008080; text-decoration-color: #008080; font-weight: bold\">0</span>.       , <span style=\"color: #008080; text-decoration-color: #008080; font-weight: bold\">0</span>.       <span style=\"font-weight: bold\">]]]</span>,\n",
       "\n",
       "\n",
       "       <span style=\"font-weight: bold\">[[[</span><span style=\"color: #008080; text-decoration-color: #008080; font-weight: bold\">0</span>.       , <span style=\"color: #008080; text-decoration-color: #008080; font-weight: bold\">5.659236</span> , <span style=\"color: #008080; text-decoration-color: #008080; font-weight: bold\">0</span>.       , <span style=\"color: #008080; text-decoration-color: #008080; font-weight: bold\">0</span>.       <span style=\"font-weight: bold\">]</span>,\n",
       "         <span style=\"font-weight: bold\">[</span><span style=\"color: #008080; text-decoration-color: #008080; font-weight: bold\">0</span>.       , <span style=\"color: #008080; text-decoration-color: #008080; font-weight: bold\">5.659236</span> , <span style=\"color: #008080; text-decoration-color: #008080; font-weight: bold\">0</span>.       , <span style=\"color: #008080; text-decoration-color: #008080; font-weight: bold\">0</span>.       <span style=\"font-weight: bold\">]</span>,\n",
       "         <span style=\"font-weight: bold\">[</span><span style=\"color: #008080; text-decoration-color: #008080; font-weight: bold\">0</span>.       , <span style=\"color: #008080; text-decoration-color: #008080; font-weight: bold\">5.659236</span> , <span style=\"color: #008080; text-decoration-color: #008080; font-weight: bold\">0</span>.       , <span style=\"color: #008080; text-decoration-color: #008080; font-weight: bold\">0</span>.       <span style=\"font-weight: bold\">]</span>,\n",
       "         <span style=\"font-weight: bold\">[</span><span style=\"color: #008080; text-decoration-color: #008080; font-weight: bold\">0</span>.       , <span style=\"color: #008080; text-decoration-color: #008080; font-weight: bold\">5.659236</span> , <span style=\"color: #008080; text-decoration-color: #008080; font-weight: bold\">0</span>.       , <span style=\"color: #008080; text-decoration-color: #008080; font-weight: bold\">0</span>.       <span style=\"font-weight: bold\">]]]</span>,\n",
       "\n",
       "\n",
       "       <span style=\"font-weight: bold\">[[[</span><span style=\"color: #008080; text-decoration-color: #008080; font-weight: bold\">0</span>.       , <span style=\"color: #008080; text-decoration-color: #008080; font-weight: bold\">0</span>.       , <span style=\"color: #008080; text-decoration-color: #008080; font-weight: bold\">5.659236</span> , <span style=\"color: #008080; text-decoration-color: #008080; font-weight: bold\">0</span>.       <span style=\"font-weight: bold\">]</span>,\n",
       "         <span style=\"font-weight: bold\">[</span><span style=\"color: #008080; text-decoration-color: #008080; font-weight: bold\">0</span>.       , <span style=\"color: #008080; text-decoration-color: #008080; font-weight: bold\">0</span>.       , <span style=\"color: #008080; text-decoration-color: #008080; font-weight: bold\">5.659236</span> , <span style=\"color: #008080; text-decoration-color: #008080; font-weight: bold\">0</span>.       <span style=\"font-weight: bold\">]</span>,\n",
       "         <span style=\"font-weight: bold\">[</span><span style=\"color: #008080; text-decoration-color: #008080; font-weight: bold\">0</span>.       , <span style=\"color: #008080; text-decoration-color: #008080; font-weight: bold\">0</span>.       , <span style=\"color: #008080; text-decoration-color: #008080; font-weight: bold\">5.659236</span> , <span style=\"color: #008080; text-decoration-color: #008080; font-weight: bold\">0</span>.       <span style=\"font-weight: bold\">]</span>,\n",
       "         <span style=\"font-weight: bold\">[</span><span style=\"color: #008080; text-decoration-color: #008080; font-weight: bold\">0</span>.       , <span style=\"color: #008080; text-decoration-color: #008080; font-weight: bold\">0</span>.       , <span style=\"color: #008080; text-decoration-color: #008080; font-weight: bold\">5.659236</span> , <span style=\"color: #008080; text-decoration-color: #008080; font-weight: bold\">0</span>.       <span style=\"font-weight: bold\">]]]</span>,\n",
       "\n",
       "\n",
       "       <span style=\"font-weight: bold\">[[[</span><span style=\"color: #008080; text-decoration-color: #008080; font-weight: bold\">0</span>.       , <span style=\"color: #008080; text-decoration-color: #008080; font-weight: bold\">5.659236</span> , <span style=\"color: #008080; text-decoration-color: #008080; font-weight: bold\">0</span>.       , <span style=\"color: #008080; text-decoration-color: #008080; font-weight: bold\">0</span>.       <span style=\"font-weight: bold\">]</span>,\n",
       "         <span style=\"font-weight: bold\">[</span><span style=\"color: #008080; text-decoration-color: #008080; font-weight: bold\">0</span>.       , <span style=\"color: #008080; text-decoration-color: #008080; font-weight: bold\">5.659236</span> , <span style=\"color: #008080; text-decoration-color: #008080; font-weight: bold\">0</span>.       , <span style=\"color: #008080; text-decoration-color: #008080; font-weight: bold\">0</span>.       <span style=\"font-weight: bold\">]</span>,\n",
       "         <span style=\"font-weight: bold\">[</span><span style=\"color: #008080; text-decoration-color: #008080; font-weight: bold\">0</span>.       , <span style=\"color: #008080; text-decoration-color: #008080; font-weight: bold\">5.659236</span> , <span style=\"color: #008080; text-decoration-color: #008080; font-weight: bold\">0</span>.       , <span style=\"color: #008080; text-decoration-color: #008080; font-weight: bold\">0</span>.       <span style=\"font-weight: bold\">]</span>,\n",
       "         <span style=\"font-weight: bold\">[</span><span style=\"color: #008080; text-decoration-color: #008080; font-weight: bold\">0</span>.       , <span style=\"color: #008080; text-decoration-color: #008080; font-weight: bold\">5.659236</span> , <span style=\"color: #008080; text-decoration-color: #008080; font-weight: bold\">0</span>.       , <span style=\"color: #008080; text-decoration-color: #008080; font-weight: bold\">0</span>.       <span style=\"font-weight: bold\">]]]</span>,\n",
       "\n",
       "\n",
       "       <span style=\"font-weight: bold\">[[[</span><span style=\"color: #008080; text-decoration-color: #008080; font-weight: bold\">0</span>.       , <span style=\"color: #008080; text-decoration-color: #008080; font-weight: bold\">0</span>.       , <span style=\"color: #008080; text-decoration-color: #008080; font-weight: bold\">0</span>.       , <span style=\"color: #008080; text-decoration-color: #008080; font-weight: bold\">0</span>.       <span style=\"font-weight: bold\">]</span>,\n",
       "         <span style=\"font-weight: bold\">[</span><span style=\"color: #008080; text-decoration-color: #008080; font-weight: bold\">0</span>.       , <span style=\"color: #008080; text-decoration-color: #008080; font-weight: bold\">0</span>.       , <span style=\"color: #008080; text-decoration-color: #008080; font-weight: bold\">0</span>.       , <span style=\"color: #008080; text-decoration-color: #008080; font-weight: bold\">0</span>.       <span style=\"font-weight: bold\">]</span>,\n",
       "         <span style=\"font-weight: bold\">[</span><span style=\"color: #008080; text-decoration-color: #008080; font-weight: bold\">0</span>.       , <span style=\"color: #008080; text-decoration-color: #008080; font-weight: bold\">0</span>.       , <span style=\"color: #008080; text-decoration-color: #008080; font-weight: bold\">0</span>.       , <span style=\"color: #008080; text-decoration-color: #008080; font-weight: bold\">0</span>.       <span style=\"font-weight: bold\">]</span>,\n",
       "         <span style=\"font-weight: bold\">[</span><span style=\"color: #008080; text-decoration-color: #008080; font-weight: bold\">0</span>.       , <span style=\"color: #008080; text-decoration-color: #008080; font-weight: bold\">0</span>.       , <span style=\"color: #008080; text-decoration-color: #008080; font-weight: bold\">0</span>.       , <span style=\"color: #008080; text-decoration-color: #008080; font-weight: bold\">0</span>.       <span style=\"font-weight: bold\">]]]</span>,\n",
       "\n",
       "\n",
       "       <span style=\"font-weight: bold\">[[[</span><span style=\"color: #008080; text-decoration-color: #008080; font-weight: bold\">0</span>.       , <span style=\"color: #008080; text-decoration-color: #008080; font-weight: bold\">0</span>.       , <span style=\"color: #008080; text-decoration-color: #008080; font-weight: bold\">0</span>.       , <span style=\"color: #008080; text-decoration-color: #008080; font-weight: bold\">0</span>.       <span style=\"font-weight: bold\">]</span>,\n",
       "         <span style=\"font-weight: bold\">[</span><span style=\"color: #008080; text-decoration-color: #008080; font-weight: bold\">0</span>.       , <span style=\"color: #008080; text-decoration-color: #008080; font-weight: bold\">0</span>.       , <span style=\"color: #008080; text-decoration-color: #008080; font-weight: bold\">0</span>.       , <span style=\"color: #008080; text-decoration-color: #008080; font-weight: bold\">0</span>.       <span style=\"font-weight: bold\">]</span>,\n",
       "         <span style=\"font-weight: bold\">[</span><span style=\"color: #008080; text-decoration-color: #008080; font-weight: bold\">0</span>.       , <span style=\"color: #008080; text-decoration-color: #008080; font-weight: bold\">0</span>.       , <span style=\"color: #008080; text-decoration-color: #008080; font-weight: bold\">0</span>.       , <span style=\"color: #008080; text-decoration-color: #008080; font-weight: bold\">0</span>.       <span style=\"font-weight: bold\">]</span>,\n",
       "         <span style=\"font-weight: bold\">[</span><span style=\"color: #008080; text-decoration-color: #008080; font-weight: bold\">0</span>.       , <span style=\"color: #008080; text-decoration-color: #008080; font-weight: bold\">0</span>.       , <span style=\"color: #008080; text-decoration-color: #008080; font-weight: bold\">0</span>.       , <span style=\"color: #008080; text-decoration-color: #008080; font-weight: bold\">0</span>.       <span style=\"font-weight: bold\">]]]</span>,\n",
       "\n",
       "\n",
       "       <span style=\"font-weight: bold\">[[[</span><span style=\"color: #008080; text-decoration-color: #008080; font-weight: bold\">0</span>.       , <span style=\"color: #008080; text-decoration-color: #008080; font-weight: bold\">0</span>.       , <span style=\"color: #008080; text-decoration-color: #008080; font-weight: bold\">0</span>.       , <span style=\"color: #008080; text-decoration-color: #008080; font-weight: bold\">0</span>.       <span style=\"font-weight: bold\">]</span>,\n",
       "         <span style=\"font-weight: bold\">[</span><span style=\"color: #008080; text-decoration-color: #008080; font-weight: bold\">0</span>.       , <span style=\"color: #008080; text-decoration-color: #008080; font-weight: bold\">0</span>.       , <span style=\"color: #008080; text-decoration-color: #008080; font-weight: bold\">0</span>.       , <span style=\"color: #008080; text-decoration-color: #008080; font-weight: bold\">0</span>.       <span style=\"font-weight: bold\">]</span>,\n",
       "         <span style=\"font-weight: bold\">[</span><span style=\"color: #008080; text-decoration-color: #008080; font-weight: bold\">0</span>.       , <span style=\"color: #008080; text-decoration-color: #008080; font-weight: bold\">0</span>.       , <span style=\"color: #008080; text-decoration-color: #008080; font-weight: bold\">0</span>.       , <span style=\"color: #008080; text-decoration-color: #008080; font-weight: bold\">0</span>.       <span style=\"font-weight: bold\">]</span>,\n",
       "         <span style=\"font-weight: bold\">[</span><span style=\"color: #008080; text-decoration-color: #008080; font-weight: bold\">0</span>.       , <span style=\"color: #008080; text-decoration-color: #008080; font-weight: bold\">0</span>.       , <span style=\"color: #008080; text-decoration-color: #008080; font-weight: bold\">0</span>.       , <span style=\"color: #008080; text-decoration-color: #008080; font-weight: bold\">0</span>.       <span style=\"font-weight: bold\">]]]</span>,\n",
       "\n",
       "\n",
       "       <span style=\"font-weight: bold\">[[[</span><span style=\"color: #008080; text-decoration-color: #008080; font-weight: bold\">4.1107473</span>, <span style=\"color: #008080; text-decoration-color: #008080; font-weight: bold\">4.1107473</span>, <span style=\"color: #008080; text-decoration-color: #008080; font-weight: bold\">0</span>.       , <span style=\"color: #008080; text-decoration-color: #008080; font-weight: bold\">0</span>.       <span style=\"font-weight: bold\">]</span>,\n",
       "         <span style=\"font-weight: bold\">[</span><span style=\"color: #008080; text-decoration-color: #008080; font-weight: bold\">4.1107473</span>, <span style=\"color: #008080; text-decoration-color: #008080; font-weight: bold\">0</span>.       , <span style=\"color: #008080; text-decoration-color: #008080; font-weight: bold\">0</span>.       , <span style=\"color: #008080; text-decoration-color: #008080; font-weight: bold\">0</span>.       <span style=\"font-weight: bold\">]</span>,\n",
       "         <span style=\"font-weight: bold\">[</span><span style=\"color: #008080; text-decoration-color: #008080; font-weight: bold\">0</span>.       , <span style=\"color: #008080; text-decoration-color: #008080; font-weight: bold\">0</span>.       , <span style=\"color: #008080; text-decoration-color: #008080; font-weight: bold\">0</span>.       , <span style=\"color: #008080; text-decoration-color: #008080; font-weight: bold\">0</span>.       <span style=\"font-weight: bold\">]</span>,\n",
       "         <span style=\"font-weight: bold\">[</span><span style=\"color: #008080; text-decoration-color: #008080; font-weight: bold\">0</span>.       , <span style=\"color: #008080; text-decoration-color: #008080; font-weight: bold\">0</span>.       , <span style=\"color: #008080; text-decoration-color: #008080; font-weight: bold\">0</span>.       , <span style=\"color: #008080; text-decoration-color: #008080; font-weight: bold\">0</span>.       <span style=\"font-weight: bold\">]]]</span>,\n",
       "\n",
       "\n",
       "       <span style=\"font-weight: bold\">[[[</span><span style=\"color: #008080; text-decoration-color: #008080; font-weight: bold\">0</span>.       , <span style=\"color: #008080; text-decoration-color: #008080; font-weight: bold\">0</span>.       , <span style=\"color: #008080; text-decoration-color: #008080; font-weight: bold\">0</span>.       , <span style=\"color: #008080; text-decoration-color: #008080; font-weight: bold\">0</span>.       <span style=\"font-weight: bold\">]</span>,\n",
       "         <span style=\"font-weight: bold\">[</span><span style=\"color: #008080; text-decoration-color: #008080; font-weight: bold\">0</span>.       , <span style=\"color: #008080; text-decoration-color: #008080; font-weight: bold\">0</span>.       , <span style=\"color: #008080; text-decoration-color: #008080; font-weight: bold\">0</span>.       , <span style=\"color: #008080; text-decoration-color: #008080; font-weight: bold\">0</span>.       <span style=\"font-weight: bold\">]</span>,\n",
       "         <span style=\"font-weight: bold\">[</span><span style=\"color: #008080; text-decoration-color: #008080; font-weight: bold\">0</span>.       , <span style=\"color: #008080; text-decoration-color: #008080; font-weight: bold\">0</span>.       , <span style=\"color: #008080; text-decoration-color: #008080; font-weight: bold\">0</span>.       , <span style=\"color: #008080; text-decoration-color: #008080; font-weight: bold\">0</span>.       <span style=\"font-weight: bold\">]</span>,\n",
       "         <span style=\"font-weight: bold\">[</span><span style=\"color: #008080; text-decoration-color: #008080; font-weight: bold\">6.0771103</span>, <span style=\"color: #008080; text-decoration-color: #008080; font-weight: bold\">6.0771103</span>, <span style=\"color: #008080; text-decoration-color: #008080; font-weight: bold\">6.0771103</span>, <span style=\"color: #008080; text-decoration-color: #008080; font-weight: bold\">6.0771103</span><span style=\"font-weight: bold\">]]]</span>,\n",
       "\n",
       "\n",
       "       <span style=\"font-weight: bold\">[[[</span><span style=\"color: #008080; text-decoration-color: #008080; font-weight: bold\">4.1107473</span>, <span style=\"color: #008080; text-decoration-color: #008080; font-weight: bold\">0</span>.       , <span style=\"color: #008080; text-decoration-color: #008080; font-weight: bold\">0</span>.       , <span style=\"color: #008080; text-decoration-color: #008080; font-weight: bold\">0</span>.       <span style=\"font-weight: bold\">]</span>,\n",
       "         <span style=\"font-weight: bold\">[</span><span style=\"color: #008080; text-decoration-color: #008080; font-weight: bold\">0</span>.       , <span style=\"color: #008080; text-decoration-color: #008080; font-weight: bold\">0</span>.       , <span style=\"color: #008080; text-decoration-color: #008080; font-weight: bold\">0</span>.       , <span style=\"color: #008080; text-decoration-color: #008080; font-weight: bold\">0</span>.       <span style=\"font-weight: bold\">]</span>,\n",
       "         <span style=\"font-weight: bold\">[</span><span style=\"color: #008080; text-decoration-color: #008080; font-weight: bold\">0</span>.       , <span style=\"color: #008080; text-decoration-color: #008080; font-weight: bold\">0</span>.       , <span style=\"color: #008080; text-decoration-color: #008080; font-weight: bold\">0</span>.       , <span style=\"color: #008080; text-decoration-color: #008080; font-weight: bold\">0</span>.       <span style=\"font-weight: bold\">]</span>,\n",
       "         <span style=\"font-weight: bold\">[</span><span style=\"color: #008080; text-decoration-color: #008080; font-weight: bold\">0</span>.       , <span style=\"color: #008080; text-decoration-color: #008080; font-weight: bold\">0</span>.       , <span style=\"color: #008080; text-decoration-color: #008080; font-weight: bold\">0</span>.       , <span style=\"color: #008080; text-decoration-color: #008080; font-weight: bold\">0</span>.       <span style=\"font-weight: bold\">]]]</span>,\n",
       "\n",
       "\n",
       "       <span style=\"font-weight: bold\">[[[</span><span style=\"color: #008080; text-decoration-color: #008080; font-weight: bold\">0</span>.       , <span style=\"color: #008080; text-decoration-color: #008080; font-weight: bold\">0</span>.       , <span style=\"color: #008080; text-decoration-color: #008080; font-weight: bold\">0</span>.       , <span style=\"color: #008080; text-decoration-color: #008080; font-weight: bold\">0</span>.       <span style=\"font-weight: bold\">]</span>,\n",
       "         <span style=\"font-weight: bold\">[</span><span style=\"color: #008080; text-decoration-color: #008080; font-weight: bold\">0</span>.       , <span style=\"color: #008080; text-decoration-color: #008080; font-weight: bold\">0</span>.       , <span style=\"color: #008080; text-decoration-color: #008080; font-weight: bold\">0</span>.       , <span style=\"color: #008080; text-decoration-color: #008080; font-weight: bold\">0</span>.       <span style=\"font-weight: bold\">]</span>,\n",
       "         <span style=\"font-weight: bold\">[</span><span style=\"color: #008080; text-decoration-color: #008080; font-weight: bold\">0</span>.       , <span style=\"color: #008080; text-decoration-color: #008080; font-weight: bold\">0</span>.       , <span style=\"color: #008080; text-decoration-color: #008080; font-weight: bold\">0</span>.       , <span style=\"color: #008080; text-decoration-color: #008080; font-weight: bold\">0</span>.       <span style=\"font-weight: bold\">]</span>,\n",
       "         <span style=\"font-weight: bold\">[</span><span style=\"color: #008080; text-decoration-color: #008080; font-weight: bold\">0</span>.       , <span style=\"color: #008080; text-decoration-color: #008080; font-weight: bold\">0</span>.       , <span style=\"color: #008080; text-decoration-color: #008080; font-weight: bold\">0</span>.       , <span style=\"color: #008080; text-decoration-color: #008080; font-weight: bold\">0</span>.       <span style=\"font-weight: bold\">]]]</span>,\n",
       "\n",
       "\n",
       "       <span style=\"font-weight: bold\">[[[</span><span style=\"color: #008080; text-decoration-color: #008080; font-weight: bold\">0</span>.       , <span style=\"color: #008080; text-decoration-color: #008080; font-weight: bold\">0</span>.       , <span style=\"color: #008080; text-decoration-color: #008080; font-weight: bold\">4.1107473</span>, <span style=\"color: #008080; text-decoration-color: #008080; font-weight: bold\">4.1107473</span><span style=\"font-weight: bold\">]</span>,\n",
       "         <span style=\"font-weight: bold\">[</span><span style=\"color: #008080; text-decoration-color: #008080; font-weight: bold\">0</span>.       , <span style=\"color: #008080; text-decoration-color: #008080; font-weight: bold\">4.1107473</span>, <span style=\"color: #008080; text-decoration-color: #008080; font-weight: bold\">4.1107473</span>, <span style=\"color: #008080; text-decoration-color: #008080; font-weight: bold\">0</span>.       <span style=\"font-weight: bold\">]</span>,\n",
       "         <span style=\"font-weight: bold\">[</span><span style=\"color: #008080; text-decoration-color: #008080; font-weight: bold\">4.1107473</span>, <span style=\"color: #008080; text-decoration-color: #008080; font-weight: bold\">4.1107473</span>, <span style=\"color: #008080; text-decoration-color: #008080; font-weight: bold\">0</span>.       , <span style=\"color: #008080; text-decoration-color: #008080; font-weight: bold\">0</span>.       <span style=\"font-weight: bold\">]</span>,\n",
       "         <span style=\"font-weight: bold\">[</span><span style=\"color: #008080; text-decoration-color: #008080; font-weight: bold\">4.1107473</span>, <span style=\"color: #008080; text-decoration-color: #008080; font-weight: bold\">0</span>.       , <span style=\"color: #008080; text-decoration-color: #008080; font-weight: bold\">0</span>.       , <span style=\"color: #008080; text-decoration-color: #008080; font-weight: bold\">0</span>.       <span style=\"font-weight: bold\">]]]</span>,\n",
       "\n",
       "\n",
       "       <span style=\"font-weight: bold\">[[[</span><span style=\"color: #008080; text-decoration-color: #008080; font-weight: bold\">0</span>.       , <span style=\"color: #008080; text-decoration-color: #008080; font-weight: bold\">0</span>.       , <span style=\"color: #008080; text-decoration-color: #008080; font-weight: bold\">0</span>.       , <span style=\"color: #008080; text-decoration-color: #008080; font-weight: bold\">0</span>.       <span style=\"font-weight: bold\">]</span>,\n",
       "         <span style=\"font-weight: bold\">[</span><span style=\"color: #008080; text-decoration-color: #008080; font-weight: bold\">0</span>.       , <span style=\"color: #008080; text-decoration-color: #008080; font-weight: bold\">0</span>.       , <span style=\"color: #008080; text-decoration-color: #008080; font-weight: bold\">0</span>.       , <span style=\"color: #008080; text-decoration-color: #008080; font-weight: bold\">0</span>.       <span style=\"font-weight: bold\">]</span>,\n",
       "         <span style=\"font-weight: bold\">[</span><span style=\"color: #008080; text-decoration-color: #008080; font-weight: bold\">0</span>.       , <span style=\"color: #008080; text-decoration-color: #008080; font-weight: bold\">0</span>.       , <span style=\"color: #008080; text-decoration-color: #008080; font-weight: bold\">0</span>.       , <span style=\"color: #008080; text-decoration-color: #008080; font-weight: bold\">0</span>.       <span style=\"font-weight: bold\">]</span>,\n",
       "         <span style=\"font-weight: bold\">[</span><span style=\"color: #008080; text-decoration-color: #008080; font-weight: bold\">0</span>.       , <span style=\"color: #008080; text-decoration-color: #008080; font-weight: bold\">0</span>.       , <span style=\"color: #008080; text-decoration-color: #008080; font-weight: bold\">0</span>.       , <span style=\"color: #008080; text-decoration-color: #008080; font-weight: bold\">0</span>.       <span style=\"font-weight: bold\">]]]</span>,\n",
       "\n",
       "\n",
       "       <span style=\"font-weight: bold\">[[[</span><span style=\"color: #008080; text-decoration-color: #008080; font-weight: bold\">0</span>.       , <span style=\"color: #008080; text-decoration-color: #008080; font-weight: bold\">0</span>.       , <span style=\"color: #008080; text-decoration-color: #008080; font-weight: bold\">0</span>.       , <span style=\"color: #008080; text-decoration-color: #008080; font-weight: bold\">0</span>.       <span style=\"font-weight: bold\">]</span>,\n",
       "         <span style=\"font-weight: bold\">[</span><span style=\"color: #008080; text-decoration-color: #008080; font-weight: bold\">0</span>.       , <span style=\"color: #008080; text-decoration-color: #008080; font-weight: bold\">0</span>.       , <span style=\"color: #008080; text-decoration-color: #008080; font-weight: bold\">0</span>.       , <span style=\"color: #008080; text-decoration-color: #008080; font-weight: bold\">0</span>.       <span style=\"font-weight: bold\">]</span>,\n",
       "         <span style=\"font-weight: bold\">[</span><span style=\"color: #008080; text-decoration-color: #008080; font-weight: bold\">6.0771103</span>, <span style=\"color: #008080; text-decoration-color: #008080; font-weight: bold\">6.0771103</span>, <span style=\"color: #008080; text-decoration-color: #008080; font-weight: bold\">6.0771103</span>, <span style=\"color: #008080; text-decoration-color: #008080; font-weight: bold\">6.0771103</span><span style=\"font-weight: bold\">]</span>,\n",
       "         <span style=\"font-weight: bold\">[</span><span style=\"color: #008080; text-decoration-color: #008080; font-weight: bold\">0</span>.       , <span style=\"color: #008080; text-decoration-color: #008080; font-weight: bold\">0</span>.       , <span style=\"color: #008080; text-decoration-color: #008080; font-weight: bold\">0</span>.       , <span style=\"color: #008080; text-decoration-color: #008080; font-weight: bold\">0</span>.       <span style=\"font-weight: bold\">]]]]</span>, <span style=\"color: #808000; text-decoration-color: #808000\">dtype</span>=<span style=\"color: #800080; text-decoration-color: #800080\">float32</span><span style=\"font-weight: bold\">)</span>,\n",
       "    <span style=\"color: #008000; text-decoration-color: #008000\">'flatten'</span>: <span style=\"color: #800080; text-decoration-color: #800080; font-weight: bold\">array</span><span style=\"font-weight: bold\">([[</span><span style=\"color: #008080; text-decoration-color: #008080; font-weight: bold\">0</span>.       , <span style=\"color: #008080; text-decoration-color: #008080; font-weight: bold\">0</span>.       , <span style=\"color: #008080; text-decoration-color: #008080; font-weight: bold\">0</span>.       , <span style=\"color: #008080; text-decoration-color: #008080; font-weight: bold\">0</span>.       , <span style=\"color: #008080; text-decoration-color: #008080; font-weight: bold\">0</span>.       , <span style=\"color: #008080; text-decoration-color: #008080; font-weight: bold\">0</span>.       ,\n",
       "        <span style=\"color: #008080; text-decoration-color: #008080; font-weight: bold\">0</span>.       , <span style=\"color: #008080; text-decoration-color: #008080; font-weight: bold\">0</span>.       , <span style=\"color: #008080; text-decoration-color: #008080; font-weight: bold\">0</span>.       , <span style=\"color: #008080; text-decoration-color: #008080; font-weight: bold\">0</span>.       , <span style=\"color: #008080; text-decoration-color: #008080; font-weight: bold\">0</span>.       , <span style=\"color: #008080; text-decoration-color: #008080; font-weight: bold\">0</span>.       ,\n",
       "        <span style=\"color: #008080; text-decoration-color: #008080; font-weight: bold\">0</span>.       , <span style=\"color: #008080; text-decoration-color: #008080; font-weight: bold\">0</span>.       , <span style=\"color: #008080; text-decoration-color: #008080; font-weight: bold\">0</span>.       , <span style=\"color: #008080; text-decoration-color: #008080; font-weight: bold\">0</span>.       <span style=\"font-weight: bold\">]</span>,\n",
       "       <span style=\"font-weight: bold\">[</span><span style=\"color: #008080; text-decoration-color: #008080; font-weight: bold\">0</span>.       , <span style=\"color: #008080; text-decoration-color: #008080; font-weight: bold\">0</span>.       , <span style=\"color: #008080; text-decoration-color: #008080; font-weight: bold\">0</span>.       , <span style=\"color: #008080; text-decoration-color: #008080; font-weight: bold\">0</span>.       , <span style=\"color: #008080; text-decoration-color: #008080; font-weight: bold\">0</span>.       , <span style=\"color: #008080; text-decoration-color: #008080; font-weight: bold\">0</span>.       ,\n",
       "        <span style=\"color: #008080; text-decoration-color: #008080; font-weight: bold\">0</span>.       , <span style=\"color: #008080; text-decoration-color: #008080; font-weight: bold\">0</span>.       , <span style=\"color: #008080; text-decoration-color: #008080; font-weight: bold\">0</span>.       , <span style=\"color: #008080; text-decoration-color: #008080; font-weight: bold\">0</span>.       , <span style=\"color: #008080; text-decoration-color: #008080; font-weight: bold\">0</span>.       , <span style=\"color: #008080; text-decoration-color: #008080; font-weight: bold\">0</span>.       ,\n",
       "        <span style=\"color: #008080; text-decoration-color: #008080; font-weight: bold\">0</span>.       , <span style=\"color: #008080; text-decoration-color: #008080; font-weight: bold\">0</span>.       , <span style=\"color: #008080; text-decoration-color: #008080; font-weight: bold\">0</span>.       , <span style=\"color: #008080; text-decoration-color: #008080; font-weight: bold\">0</span>.       <span style=\"font-weight: bold\">]</span>,\n",
       "       <span style=\"font-weight: bold\">[</span><span style=\"color: #008080; text-decoration-color: #008080; font-weight: bold\">0</span>.       , <span style=\"color: #008080; text-decoration-color: #008080; font-weight: bold\">0</span>.       , <span style=\"color: #008080; text-decoration-color: #008080; font-weight: bold\">0</span>.       , <span style=\"color: #008080; text-decoration-color: #008080; font-weight: bold\">0</span>.       , <span style=\"color: #008080; text-decoration-color: #008080; font-weight: bold\">0</span>.       , <span style=\"color: #008080; text-decoration-color: #008080; font-weight: bold\">0</span>.       ,\n",
       "        <span style=\"color: #008080; text-decoration-color: #008080; font-weight: bold\">0</span>.       , <span style=\"color: #008080; text-decoration-color: #008080; font-weight: bold\">0</span>.       , <span style=\"color: #008080; text-decoration-color: #008080; font-weight: bold\">0</span>.       , <span style=\"color: #008080; text-decoration-color: #008080; font-weight: bold\">0</span>.       , <span style=\"color: #008080; text-decoration-color: #008080; font-weight: bold\">0</span>.       , <span style=\"color: #008080; text-decoration-color: #008080; font-weight: bold\">0</span>.       ,\n",
       "        <span style=\"color: #008080; text-decoration-color: #008080; font-weight: bold\">0</span>.       , <span style=\"color: #008080; text-decoration-color: #008080; font-weight: bold\">0</span>.       , <span style=\"color: #008080; text-decoration-color: #008080; font-weight: bold\">0</span>.       , <span style=\"color: #008080; text-decoration-color: #008080; font-weight: bold\">0</span>.       <span style=\"font-weight: bold\">]</span>,\n",
       "       <span style=\"font-weight: bold\">[</span><span style=\"color: #008080; text-decoration-color: #008080; font-weight: bold\">0</span>.       , <span style=\"color: #008080; text-decoration-color: #008080; font-weight: bold\">5.659236</span> , <span style=\"color: #008080; text-decoration-color: #008080; font-weight: bold\">0</span>.       , <span style=\"color: #008080; text-decoration-color: #008080; font-weight: bold\">0</span>.       , <span style=\"color: #008080; text-decoration-color: #008080; font-weight: bold\">0</span>.       , <span style=\"color: #008080; text-decoration-color: #008080; font-weight: bold\">5.659236</span> ,\n",
       "        <span style=\"color: #008080; text-decoration-color: #008080; font-weight: bold\">0</span>.       , <span style=\"color: #008080; text-decoration-color: #008080; font-weight: bold\">0</span>.       , <span style=\"color: #008080; text-decoration-color: #008080; font-weight: bold\">0</span>.       , <span style=\"color: #008080; text-decoration-color: #008080; font-weight: bold\">5.659236</span> , <span style=\"color: #008080; text-decoration-color: #008080; font-weight: bold\">0</span>.       , <span style=\"color: #008080; text-decoration-color: #008080; font-weight: bold\">0</span>.       ,\n",
       "        <span style=\"color: #008080; text-decoration-color: #008080; font-weight: bold\">0</span>.       , <span style=\"color: #008080; text-decoration-color: #008080; font-weight: bold\">5.659236</span> , <span style=\"color: #008080; text-decoration-color: #008080; font-weight: bold\">0</span>.       , <span style=\"color: #008080; text-decoration-color: #008080; font-weight: bold\">0</span>.       <span style=\"font-weight: bold\">]</span>,\n",
       "       <span style=\"font-weight: bold\">[</span><span style=\"color: #008080; text-decoration-color: #008080; font-weight: bold\">0</span>.       , <span style=\"color: #008080; text-decoration-color: #008080; font-weight: bold\">0</span>.       , <span style=\"color: #008080; text-decoration-color: #008080; font-weight: bold\">5.659236</span> , <span style=\"color: #008080; text-decoration-color: #008080; font-weight: bold\">0</span>.       , <span style=\"color: #008080; text-decoration-color: #008080; font-weight: bold\">0</span>.       , <span style=\"color: #008080; text-decoration-color: #008080; font-weight: bold\">0</span>.       ,\n",
       "        <span style=\"color: #008080; text-decoration-color: #008080; font-weight: bold\">5.659236</span> , <span style=\"color: #008080; text-decoration-color: #008080; font-weight: bold\">0</span>.       , <span style=\"color: #008080; text-decoration-color: #008080; font-weight: bold\">0</span>.       , <span style=\"color: #008080; text-decoration-color: #008080; font-weight: bold\">0</span>.       , <span style=\"color: #008080; text-decoration-color: #008080; font-weight: bold\">5.659236</span> , <span style=\"color: #008080; text-decoration-color: #008080; font-weight: bold\">0</span>.       ,\n",
       "        <span style=\"color: #008080; text-decoration-color: #008080; font-weight: bold\">0</span>.       , <span style=\"color: #008080; text-decoration-color: #008080; font-weight: bold\">0</span>.       , <span style=\"color: #008080; text-decoration-color: #008080; font-weight: bold\">5.659236</span> , <span style=\"color: #008080; text-decoration-color: #008080; font-weight: bold\">0</span>.       <span style=\"font-weight: bold\">]</span>,\n",
       "       <span style=\"font-weight: bold\">[</span><span style=\"color: #008080; text-decoration-color: #008080; font-weight: bold\">0</span>.       , <span style=\"color: #008080; text-decoration-color: #008080; font-weight: bold\">5.659236</span> , <span style=\"color: #008080; text-decoration-color: #008080; font-weight: bold\">0</span>.       , <span style=\"color: #008080; text-decoration-color: #008080; font-weight: bold\">0</span>.       , <span style=\"color: #008080; text-decoration-color: #008080; font-weight: bold\">0</span>.       , <span style=\"color: #008080; text-decoration-color: #008080; font-weight: bold\">5.659236</span> ,\n",
       "        <span style=\"color: #008080; text-decoration-color: #008080; font-weight: bold\">0</span>.       , <span style=\"color: #008080; text-decoration-color: #008080; font-weight: bold\">0</span>.       , <span style=\"color: #008080; text-decoration-color: #008080; font-weight: bold\">0</span>.       , <span style=\"color: #008080; text-decoration-color: #008080; font-weight: bold\">5.659236</span> , <span style=\"color: #008080; text-decoration-color: #008080; font-weight: bold\">0</span>.       , <span style=\"color: #008080; text-decoration-color: #008080; font-weight: bold\">0</span>.       ,\n",
       "        <span style=\"color: #008080; text-decoration-color: #008080; font-weight: bold\">0</span>.       , <span style=\"color: #008080; text-decoration-color: #008080; font-weight: bold\">5.659236</span> , <span style=\"color: #008080; text-decoration-color: #008080; font-weight: bold\">0</span>.       , <span style=\"color: #008080; text-decoration-color: #008080; font-weight: bold\">0</span>.       <span style=\"font-weight: bold\">]</span>,\n",
       "       <span style=\"font-weight: bold\">[</span><span style=\"color: #008080; text-decoration-color: #008080; font-weight: bold\">0</span>.       , <span style=\"color: #008080; text-decoration-color: #008080; font-weight: bold\">0</span>.       , <span style=\"color: #008080; text-decoration-color: #008080; font-weight: bold\">0</span>.       , <span style=\"color: #008080; text-decoration-color: #008080; font-weight: bold\">0</span>.       , <span style=\"color: #008080; text-decoration-color: #008080; font-weight: bold\">0</span>.       , <span style=\"color: #008080; text-decoration-color: #008080; font-weight: bold\">0</span>.       ,\n",
       "        <span style=\"color: #008080; text-decoration-color: #008080; font-weight: bold\">0</span>.       , <span style=\"color: #008080; text-decoration-color: #008080; font-weight: bold\">0</span>.       , <span style=\"color: #008080; text-decoration-color: #008080; font-weight: bold\">0</span>.       , <span style=\"color: #008080; text-decoration-color: #008080; font-weight: bold\">0</span>.       , <span style=\"color: #008080; text-decoration-color: #008080; font-weight: bold\">0</span>.       , <span style=\"color: #008080; text-decoration-color: #008080; font-weight: bold\">0</span>.       ,\n",
       "        <span style=\"color: #008080; text-decoration-color: #008080; font-weight: bold\">0</span>.       , <span style=\"color: #008080; text-decoration-color: #008080; font-weight: bold\">0</span>.       , <span style=\"color: #008080; text-decoration-color: #008080; font-weight: bold\">0</span>.       , <span style=\"color: #008080; text-decoration-color: #008080; font-weight: bold\">0</span>.       <span style=\"font-weight: bold\">]</span>,\n",
       "       <span style=\"font-weight: bold\">[</span><span style=\"color: #008080; text-decoration-color: #008080; font-weight: bold\">0</span>.       , <span style=\"color: #008080; text-decoration-color: #008080; font-weight: bold\">0</span>.       , <span style=\"color: #008080; text-decoration-color: #008080; font-weight: bold\">0</span>.       , <span style=\"color: #008080; text-decoration-color: #008080; font-weight: bold\">0</span>.       , <span style=\"color: #008080; text-decoration-color: #008080; font-weight: bold\">0</span>.       , <span style=\"color: #008080; text-decoration-color: #008080; font-weight: bold\">0</span>.       ,\n",
       "        <span style=\"color: #008080; text-decoration-color: #008080; font-weight: bold\">0</span>.       , <span style=\"color: #008080; text-decoration-color: #008080; font-weight: bold\">0</span>.       , <span style=\"color: #008080; text-decoration-color: #008080; font-weight: bold\">0</span>.       , <span style=\"color: #008080; text-decoration-color: #008080; font-weight: bold\">0</span>.       , <span style=\"color: #008080; text-decoration-color: #008080; font-weight: bold\">0</span>.       , <span style=\"color: #008080; text-decoration-color: #008080; font-weight: bold\">0</span>.       ,\n",
       "        <span style=\"color: #008080; text-decoration-color: #008080; font-weight: bold\">0</span>.       , <span style=\"color: #008080; text-decoration-color: #008080; font-weight: bold\">0</span>.       , <span style=\"color: #008080; text-decoration-color: #008080; font-weight: bold\">0</span>.       , <span style=\"color: #008080; text-decoration-color: #008080; font-weight: bold\">0</span>.       <span style=\"font-weight: bold\">]</span>,\n",
       "       <span style=\"font-weight: bold\">[</span><span style=\"color: #008080; text-decoration-color: #008080; font-weight: bold\">0</span>.       , <span style=\"color: #008080; text-decoration-color: #008080; font-weight: bold\">0</span>.       , <span style=\"color: #008080; text-decoration-color: #008080; font-weight: bold\">0</span>.       , <span style=\"color: #008080; text-decoration-color: #008080; font-weight: bold\">0</span>.       , <span style=\"color: #008080; text-decoration-color: #008080; font-weight: bold\">0</span>.       , <span style=\"color: #008080; text-decoration-color: #008080; font-weight: bold\">0</span>.       ,\n",
       "        <span style=\"color: #008080; text-decoration-color: #008080; font-weight: bold\">0</span>.       , <span style=\"color: #008080; text-decoration-color: #008080; font-weight: bold\">0</span>.       , <span style=\"color: #008080; text-decoration-color: #008080; font-weight: bold\">0</span>.       , <span style=\"color: #008080; text-decoration-color: #008080; font-weight: bold\">0</span>.       , <span style=\"color: #008080; text-decoration-color: #008080; font-weight: bold\">0</span>.       , <span style=\"color: #008080; text-decoration-color: #008080; font-weight: bold\">0</span>.       ,\n",
       "        <span style=\"color: #008080; text-decoration-color: #008080; font-weight: bold\">0</span>.       , <span style=\"color: #008080; text-decoration-color: #008080; font-weight: bold\">0</span>.       , <span style=\"color: #008080; text-decoration-color: #008080; font-weight: bold\">0</span>.       , <span style=\"color: #008080; text-decoration-color: #008080; font-weight: bold\">0</span>.       <span style=\"font-weight: bold\">]</span>,\n",
       "       <span style=\"font-weight: bold\">[</span><span style=\"color: #008080; text-decoration-color: #008080; font-weight: bold\">4.1107473</span>, <span style=\"color: #008080; text-decoration-color: #008080; font-weight: bold\">4.1107473</span>, <span style=\"color: #008080; text-decoration-color: #008080; font-weight: bold\">0</span>.       , <span style=\"color: #008080; text-decoration-color: #008080; font-weight: bold\">0</span>.       , <span style=\"color: #008080; text-decoration-color: #008080; font-weight: bold\">4.1107473</span>, <span style=\"color: #008080; text-decoration-color: #008080; font-weight: bold\">0</span>.       ,\n",
       "        <span style=\"color: #008080; text-decoration-color: #008080; font-weight: bold\">0</span>.       , <span style=\"color: #008080; text-decoration-color: #008080; font-weight: bold\">0</span>.       , <span style=\"color: #008080; text-decoration-color: #008080; font-weight: bold\">0</span>.       , <span style=\"color: #008080; text-decoration-color: #008080; font-weight: bold\">0</span>.       , <span style=\"color: #008080; text-decoration-color: #008080; font-weight: bold\">0</span>.       , <span style=\"color: #008080; text-decoration-color: #008080; font-weight: bold\">0</span>.       ,\n",
       "        <span style=\"color: #008080; text-decoration-color: #008080; font-weight: bold\">0</span>.       , <span style=\"color: #008080; text-decoration-color: #008080; font-weight: bold\">0</span>.       , <span style=\"color: #008080; text-decoration-color: #008080; font-weight: bold\">0</span>.       , <span style=\"color: #008080; text-decoration-color: #008080; font-weight: bold\">0</span>.       <span style=\"font-weight: bold\">]</span>,\n",
       "       <span style=\"font-weight: bold\">[</span><span style=\"color: #008080; text-decoration-color: #008080; font-weight: bold\">0</span>.       , <span style=\"color: #008080; text-decoration-color: #008080; font-weight: bold\">0</span>.       , <span style=\"color: #008080; text-decoration-color: #008080; font-weight: bold\">0</span>.       , <span style=\"color: #008080; text-decoration-color: #008080; font-weight: bold\">0</span>.       , <span style=\"color: #008080; text-decoration-color: #008080; font-weight: bold\">0</span>.       , <span style=\"color: #008080; text-decoration-color: #008080; font-weight: bold\">0</span>.       ,\n",
       "        <span style=\"color: #008080; text-decoration-color: #008080; font-weight: bold\">0</span>.       , <span style=\"color: #008080; text-decoration-color: #008080; font-weight: bold\">0</span>.       , <span style=\"color: #008080; text-decoration-color: #008080; font-weight: bold\">0</span>.       , <span style=\"color: #008080; text-decoration-color: #008080; font-weight: bold\">0</span>.       , <span style=\"color: #008080; text-decoration-color: #008080; font-weight: bold\">0</span>.       , <span style=\"color: #008080; text-decoration-color: #008080; font-weight: bold\">0</span>.       ,\n",
       "        <span style=\"color: #008080; text-decoration-color: #008080; font-weight: bold\">6.0771103</span>, <span style=\"color: #008080; text-decoration-color: #008080; font-weight: bold\">6.0771103</span>, <span style=\"color: #008080; text-decoration-color: #008080; font-weight: bold\">6.0771103</span>, <span style=\"color: #008080; text-decoration-color: #008080; font-weight: bold\">6.0771103</span><span style=\"font-weight: bold\">]</span>,\n",
       "       <span style=\"font-weight: bold\">[</span><span style=\"color: #008080; text-decoration-color: #008080; font-weight: bold\">4.1107473</span>, <span style=\"color: #008080; text-decoration-color: #008080; font-weight: bold\">0</span>.       , <span style=\"color: #008080; text-decoration-color: #008080; font-weight: bold\">0</span>.       , <span style=\"color: #008080; text-decoration-color: #008080; font-weight: bold\">0</span>.       , <span style=\"color: #008080; text-decoration-color: #008080; font-weight: bold\">0</span>.       , <span style=\"color: #008080; text-decoration-color: #008080; font-weight: bold\">0</span>.       ,\n",
       "        <span style=\"color: #008080; text-decoration-color: #008080; font-weight: bold\">0</span>.       , <span style=\"color: #008080; text-decoration-color: #008080; font-weight: bold\">0</span>.       , <span style=\"color: #008080; text-decoration-color: #008080; font-weight: bold\">0</span>.       , <span style=\"color: #008080; text-decoration-color: #008080; font-weight: bold\">0</span>.       , <span style=\"color: #008080; text-decoration-color: #008080; font-weight: bold\">0</span>.       , <span style=\"color: #008080; text-decoration-color: #008080; font-weight: bold\">0</span>.       ,\n",
       "        <span style=\"color: #008080; text-decoration-color: #008080; font-weight: bold\">0</span>.       , <span style=\"color: #008080; text-decoration-color: #008080; font-weight: bold\">0</span>.       , <span style=\"color: #008080; text-decoration-color: #008080; font-weight: bold\">0</span>.       , <span style=\"color: #008080; text-decoration-color: #008080; font-weight: bold\">0</span>.       <span style=\"font-weight: bold\">]</span>,\n",
       "       <span style=\"font-weight: bold\">[</span><span style=\"color: #008080; text-decoration-color: #008080; font-weight: bold\">0</span>.       , <span style=\"color: #008080; text-decoration-color: #008080; font-weight: bold\">0</span>.       , <span style=\"color: #008080; text-decoration-color: #008080; font-weight: bold\">0</span>.       , <span style=\"color: #008080; text-decoration-color: #008080; font-weight: bold\">0</span>.       , <span style=\"color: #008080; text-decoration-color: #008080; font-weight: bold\">0</span>.       , <span style=\"color: #008080; text-decoration-color: #008080; font-weight: bold\">0</span>.       ,\n",
       "        <span style=\"color: #008080; text-decoration-color: #008080; font-weight: bold\">0</span>.       , <span style=\"color: #008080; text-decoration-color: #008080; font-weight: bold\">0</span>.       , <span style=\"color: #008080; text-decoration-color: #008080; font-weight: bold\">0</span>.       , <span style=\"color: #008080; text-decoration-color: #008080; font-weight: bold\">0</span>.       , <span style=\"color: #008080; text-decoration-color: #008080; font-weight: bold\">0</span>.       , <span style=\"color: #008080; text-decoration-color: #008080; font-weight: bold\">0</span>.       ,\n",
       "        <span style=\"color: #008080; text-decoration-color: #008080; font-weight: bold\">0</span>.       , <span style=\"color: #008080; text-decoration-color: #008080; font-weight: bold\">0</span>.       , <span style=\"color: #008080; text-decoration-color: #008080; font-weight: bold\">0</span>.       , <span style=\"color: #008080; text-decoration-color: #008080; font-weight: bold\">0</span>.       <span style=\"font-weight: bold\">]</span>,\n",
       "       <span style=\"font-weight: bold\">[</span><span style=\"color: #008080; text-decoration-color: #008080; font-weight: bold\">0</span>.       , <span style=\"color: #008080; text-decoration-color: #008080; font-weight: bold\">0</span>.       , <span style=\"color: #008080; text-decoration-color: #008080; font-weight: bold\">4.1107473</span>, <span style=\"color: #008080; text-decoration-color: #008080; font-weight: bold\">4.1107473</span>, <span style=\"color: #008080; text-decoration-color: #008080; font-weight: bold\">0</span>.       , <span style=\"color: #008080; text-decoration-color: #008080; font-weight: bold\">4.1107473</span>,\n",
       "        <span style=\"color: #008080; text-decoration-color: #008080; font-weight: bold\">4.1107473</span>, <span style=\"color: #008080; text-decoration-color: #008080; font-weight: bold\">0</span>.       , <span style=\"color: #008080; text-decoration-color: #008080; font-weight: bold\">4.1107473</span>, <span style=\"color: #008080; text-decoration-color: #008080; font-weight: bold\">4.1107473</span>, <span style=\"color: #008080; text-decoration-color: #008080; font-weight: bold\">0</span>.       , <span style=\"color: #008080; text-decoration-color: #008080; font-weight: bold\">0</span>.       ,\n",
       "        <span style=\"color: #008080; text-decoration-color: #008080; font-weight: bold\">4.1107473</span>, <span style=\"color: #008080; text-decoration-color: #008080; font-weight: bold\">0</span>.       , <span style=\"color: #008080; text-decoration-color: #008080; font-weight: bold\">0</span>.       , <span style=\"color: #008080; text-decoration-color: #008080; font-weight: bold\">0</span>.       <span style=\"font-weight: bold\">]</span>,\n",
       "       <span style=\"font-weight: bold\">[</span><span style=\"color: #008080; text-decoration-color: #008080; font-weight: bold\">0</span>.       , <span style=\"color: #008080; text-decoration-color: #008080; font-weight: bold\">0</span>.       , <span style=\"color: #008080; text-decoration-color: #008080; font-weight: bold\">0</span>.       , <span style=\"color: #008080; text-decoration-color: #008080; font-weight: bold\">0</span>.       , <span style=\"color: #008080; text-decoration-color: #008080; font-weight: bold\">0</span>.       , <span style=\"color: #008080; text-decoration-color: #008080; font-weight: bold\">0</span>.       ,\n",
       "        <span style=\"color: #008080; text-decoration-color: #008080; font-weight: bold\">0</span>.       , <span style=\"color: #008080; text-decoration-color: #008080; font-weight: bold\">0</span>.       , <span style=\"color: #008080; text-decoration-color: #008080; font-weight: bold\">0</span>.       , <span style=\"color: #008080; text-decoration-color: #008080; font-weight: bold\">0</span>.       , <span style=\"color: #008080; text-decoration-color: #008080; font-weight: bold\">0</span>.       , <span style=\"color: #008080; text-decoration-color: #008080; font-weight: bold\">0</span>.       ,\n",
       "        <span style=\"color: #008080; text-decoration-color: #008080; font-weight: bold\">0</span>.       , <span style=\"color: #008080; text-decoration-color: #008080; font-weight: bold\">0</span>.       , <span style=\"color: #008080; text-decoration-color: #008080; font-weight: bold\">0</span>.       , <span style=\"color: #008080; text-decoration-color: #008080; font-weight: bold\">0</span>.       <span style=\"font-weight: bold\">]</span>,\n",
       "       <span style=\"font-weight: bold\">[</span><span style=\"color: #008080; text-decoration-color: #008080; font-weight: bold\">0</span>.       , <span style=\"color: #008080; text-decoration-color: #008080; font-weight: bold\">0</span>.       , <span style=\"color: #008080; text-decoration-color: #008080; font-weight: bold\">0</span>.       , <span style=\"color: #008080; text-decoration-color: #008080; font-weight: bold\">0</span>.       , <span style=\"color: #008080; text-decoration-color: #008080; font-weight: bold\">0</span>.       , <span style=\"color: #008080; text-decoration-color: #008080; font-weight: bold\">0</span>.       ,\n",
       "        <span style=\"color: #008080; text-decoration-color: #008080; font-weight: bold\">0</span>.       , <span style=\"color: #008080; text-decoration-color: #008080; font-weight: bold\">0</span>.       , <span style=\"color: #008080; text-decoration-color: #008080; font-weight: bold\">6.0771103</span>, <span style=\"color: #008080; text-decoration-color: #008080; font-weight: bold\">6.0771103</span>, <span style=\"color: #008080; text-decoration-color: #008080; font-weight: bold\">6.0771103</span>, <span style=\"color: #008080; text-decoration-color: #008080; font-weight: bold\">6.0771103</span>,\n",
       "        <span style=\"color: #008080; text-decoration-color: #008080; font-weight: bold\">0</span>.       , <span style=\"color: #008080; text-decoration-color: #008080; font-weight: bold\">0</span>.       , <span style=\"color: #008080; text-decoration-color: #008080; font-weight: bold\">0</span>.       , <span style=\"color: #008080; text-decoration-color: #008080; font-weight: bold\">0</span>.       <span style=\"font-weight: bold\">]]</span>, <span style=\"color: #808000; text-decoration-color: #808000\">dtype</span>=<span style=\"color: #800080; text-decoration-color: #800080\">float32</span><span style=\"font-weight: bold\">)</span>,\n",
       "    <span style=\"color: #008000; text-decoration-color: #008000\">'fc1'</span>: <span style=\"color: #800080; text-decoration-color: #800080; font-weight: bold\">array</span><span style=\"font-weight: bold\">([[</span> <span style=\"color: #008080; text-decoration-color: #008080; font-weight: bold\">9.6244439e-02</span>, <span style=\"color: #008080; text-decoration-color: #008080; font-weight: bold\">-2.5688073e-01</span>, <span style=\"color: #008080; text-decoration-color: #008080; font-weight: bold\">-5.2451029e-02</span>,  <span style=\"color: #008080; text-decoration-color: #008080; font-weight: bold\">2.8408942e-01</span>,\n",
       "        <span style=\"color: #008080; text-decoration-color: #008080; font-weight: bold\">-3.7490632e-02</span>,  <span style=\"color: #008080; text-decoration-color: #008080; font-weight: bold\">2.7037218e-01</span>,  <span style=\"color: #008080; text-decoration-color: #008080; font-weight: bold\">3.7306648e-01</span>,  <span style=\"color: #008080; text-decoration-color: #008080; font-weight: bold\">3.6741266e-01</span>,\n",
       "        <span style=\"color: #008080; text-decoration-color: #008080; font-weight: bold\">-3.1490374e-02</span>, <span style=\"color: #008080; text-decoration-color: #008080; font-weight: bold\">-1.2003372e-01</span><span style=\"font-weight: bold\">]</span>,\n",
       "       <span style=\"font-weight: bold\">[</span> <span style=\"color: #008080; text-decoration-color: #008080; font-weight: bold\">9.6244439e-02</span>, <span style=\"color: #008080; text-decoration-color: #008080; font-weight: bold\">-2.5688073e-01</span>, <span style=\"color: #008080; text-decoration-color: #008080; font-weight: bold\">-5.2451029e-02</span>,  <span style=\"color: #008080; text-decoration-color: #008080; font-weight: bold\">2.8408942e-01</span>,\n",
       "        <span style=\"color: #008080; text-decoration-color: #008080; font-weight: bold\">-3.7490632e-02</span>,  <span style=\"color: #008080; text-decoration-color: #008080; font-weight: bold\">2.7037218e-01</span>,  <span style=\"color: #008080; text-decoration-color: #008080; font-weight: bold\">3.7306648e-01</span>,  <span style=\"color: #008080; text-decoration-color: #008080; font-weight: bold\">3.6741266e-01</span>,\n",
       "        <span style=\"color: #008080; text-decoration-color: #008080; font-weight: bold\">-3.1490374e-02</span>, <span style=\"color: #008080; text-decoration-color: #008080; font-weight: bold\">-1.2003372e-01</span><span style=\"font-weight: bold\">]</span>,\n",
       "       <span style=\"font-weight: bold\">[</span> <span style=\"color: #008080; text-decoration-color: #008080; font-weight: bold\">9.6244439e-02</span>, <span style=\"color: #008080; text-decoration-color: #008080; font-weight: bold\">-2.5688073e-01</span>, <span style=\"color: #008080; text-decoration-color: #008080; font-weight: bold\">-5.2451029e-02</span>,  <span style=\"color: #008080; text-decoration-color: #008080; font-weight: bold\">2.8408942e-01</span>,\n",
       "        <span style=\"color: #008080; text-decoration-color: #008080; font-weight: bold\">-3.7490632e-02</span>,  <span style=\"color: #008080; text-decoration-color: #008080; font-weight: bold\">2.7037218e-01</span>,  <span style=\"color: #008080; text-decoration-color: #008080; font-weight: bold\">3.7306648e-01</span>,  <span style=\"color: #008080; text-decoration-color: #008080; font-weight: bold\">3.6741266e-01</span>,\n",
       "        <span style=\"color: #008080; text-decoration-color: #008080; font-weight: bold\">-3.1490374e-02</span>, <span style=\"color: #008080; text-decoration-color: #008080; font-weight: bold\">-1.2003372e-01</span><span style=\"font-weight: bold\">]</span>,\n",
       "       <span style=\"font-weight: bold\">[</span> <span style=\"color: #008080; text-decoration-color: #008080; font-weight: bold\">1.2440182e-02</span>, <span style=\"color: #008080; text-decoration-color: #008080; font-weight: bold\">-6.0062041e+00</span>,  <span style=\"color: #008080; text-decoration-color: #008080; font-weight: bold\">1.5530553e+00</span>,  <span style=\"color: #008080; text-decoration-color: #008080; font-weight: bold\">2.1701269e+00</span>,\n",
       "         <span style=\"color: #008080; text-decoration-color: #008080; font-weight: bold\">6.0134315e+00</span>, <span style=\"color: #008080; text-decoration-color: #008080; font-weight: bold\">-8.6461840e+00</span>,  <span style=\"color: #008080; text-decoration-color: #008080; font-weight: bold\">2.4217749e+00</span>,  <span style=\"color: #008080; text-decoration-color: #008080; font-weight: bold\">2.9213591e+00</span>,\n",
       "         <span style=\"color: #008080; text-decoration-color: #008080; font-weight: bold\">1.7772987e-04</span>,  <span style=\"color: #008080; text-decoration-color: #008080; font-weight: bold\">5.6695910e+00</span><span style=\"font-weight: bold\">]</span>,\n",
       "       <span style=\"font-weight: bold\">[</span> <span style=\"color: #008080; text-decoration-color: #008080; font-weight: bold\">6.1295753e+00</span>,  <span style=\"color: #008080; text-decoration-color: #008080; font-weight: bold\">4.9273791e+00</span>,  <span style=\"color: #008080; text-decoration-color: #008080; font-weight: bold\">3.7223897e+00</span>, <span style=\"color: #008080; text-decoration-color: #008080; font-weight: bold\">-2.5266140e+00</span>,\n",
       "         <span style=\"color: #008080; text-decoration-color: #008080; font-weight: bold\">1.8922640e+00</span>,  <span style=\"color: #008080; text-decoration-color: #008080; font-weight: bold\">6.1164088e+00</span>,  <span style=\"color: #008080; text-decoration-color: #008080; font-weight: bold\">9.5280975e-02</span>,  <span style=\"color: #008080; text-decoration-color: #008080; font-weight: bold\">9.0911722e-01</span>,\n",
       "         <span style=\"color: #008080; text-decoration-color: #008080; font-weight: bold\">2.4393989e-01</span>, <span style=\"color: #008080; text-decoration-color: #008080; font-weight: bold\">-4.0644784e+00</span><span style=\"font-weight: bold\">]</span>,\n",
       "       <span style=\"font-weight: bold\">[</span> <span style=\"color: #008080; text-decoration-color: #008080; font-weight: bold\">1.2440182e-02</span>, <span style=\"color: #008080; text-decoration-color: #008080; font-weight: bold\">-6.0062041e+00</span>,  <span style=\"color: #008080; text-decoration-color: #008080; font-weight: bold\">1.5530553e+00</span>,  <span style=\"color: #008080; text-decoration-color: #008080; font-weight: bold\">2.1701269e+00</span>,\n",
       "         <span style=\"color: #008080; text-decoration-color: #008080; font-weight: bold\">6.0134315e+00</span>, <span style=\"color: #008080; text-decoration-color: #008080; font-weight: bold\">-8.6461840e+00</span>,  <span style=\"color: #008080; text-decoration-color: #008080; font-weight: bold\">2.4217749e+00</span>,  <span style=\"color: #008080; text-decoration-color: #008080; font-weight: bold\">2.9213591e+00</span>,\n",
       "         <span style=\"color: #008080; text-decoration-color: #008080; font-weight: bold\">1.7772987e-04</span>,  <span style=\"color: #008080; text-decoration-color: #008080; font-weight: bold\">5.6695910e+00</span><span style=\"font-weight: bold\">]</span>,\n",
       "       <span style=\"font-weight: bold\">[</span> <span style=\"color: #008080; text-decoration-color: #008080; font-weight: bold\">9.6244439e-02</span>, <span style=\"color: #008080; text-decoration-color: #008080; font-weight: bold\">-2.5688073e-01</span>, <span style=\"color: #008080; text-decoration-color: #008080; font-weight: bold\">-5.2451029e-02</span>,  <span style=\"color: #008080; text-decoration-color: #008080; font-weight: bold\">2.8408942e-01</span>,\n",
       "        <span style=\"color: #008080; text-decoration-color: #008080; font-weight: bold\">-3.7490632e-02</span>,  <span style=\"color: #008080; text-decoration-color: #008080; font-weight: bold\">2.7037218e-01</span>,  <span style=\"color: #008080; text-decoration-color: #008080; font-weight: bold\">3.7306648e-01</span>,  <span style=\"color: #008080; text-decoration-color: #008080; font-weight: bold\">3.6741266e-01</span>,\n",
       "        <span style=\"color: #008080; text-decoration-color: #008080; font-weight: bold\">-3.1490374e-02</span>, <span style=\"color: #008080; text-decoration-color: #008080; font-weight: bold\">-1.2003372e-01</span><span style=\"font-weight: bold\">]</span>,\n",
       "       <span style=\"font-weight: bold\">[</span> <span style=\"color: #008080; text-decoration-color: #008080; font-weight: bold\">9.6244439e-02</span>, <span style=\"color: #008080; text-decoration-color: #008080; font-weight: bold\">-2.5688073e-01</span>, <span style=\"color: #008080; text-decoration-color: #008080; font-weight: bold\">-5.2451029e-02</span>,  <span style=\"color: #008080; text-decoration-color: #008080; font-weight: bold\">2.8408942e-01</span>,\n",
       "        <span style=\"color: #008080; text-decoration-color: #008080; font-weight: bold\">-3.7490632e-02</span>,  <span style=\"color: #008080; text-decoration-color: #008080; font-weight: bold\">2.7037218e-01</span>,  <span style=\"color: #008080; text-decoration-color: #008080; font-weight: bold\">3.7306648e-01</span>,  <span style=\"color: #008080; text-decoration-color: #008080; font-weight: bold\">3.6741266e-01</span>,\n",
       "        <span style=\"color: #008080; text-decoration-color: #008080; font-weight: bold\">-3.1490374e-02</span>, <span style=\"color: #008080; text-decoration-color: #008080; font-weight: bold\">-1.2003372e-01</span><span style=\"font-weight: bold\">]</span>,\n",
       "       <span style=\"font-weight: bold\">[</span> <span style=\"color: #008080; text-decoration-color: #008080; font-weight: bold\">9.6244439e-02</span>, <span style=\"color: #008080; text-decoration-color: #008080; font-weight: bold\">-2.5688073e-01</span>, <span style=\"color: #008080; text-decoration-color: #008080; font-weight: bold\">-5.2451029e-02</span>,  <span style=\"color: #008080; text-decoration-color: #008080; font-weight: bold\">2.8408942e-01</span>,\n",
       "        <span style=\"color: #008080; text-decoration-color: #008080; font-weight: bold\">-3.7490632e-02</span>,  <span style=\"color: #008080; text-decoration-color: #008080; font-weight: bold\">2.7037218e-01</span>,  <span style=\"color: #008080; text-decoration-color: #008080; font-weight: bold\">3.7306648e-01</span>,  <span style=\"color: #008080; text-decoration-color: #008080; font-weight: bold\">3.6741266e-01</span>,\n",
       "        <span style=\"color: #008080; text-decoration-color: #008080; font-weight: bold\">-3.1490374e-02</span>, <span style=\"color: #008080; text-decoration-color: #008080; font-weight: bold\">-1.2003372e-01</span><span style=\"font-weight: bold\">]</span>,\n",
       "       <span style=\"font-weight: bold\">[</span><span style=\"color: #008080; text-decoration-color: #008080; font-weight: bold\">-2.3874142e+00</span>, <span style=\"color: #008080; text-decoration-color: #008080; font-weight: bold\">-9.1933012e-03</span>,  <span style=\"color: #008080; text-decoration-color: #008080; font-weight: bold\">3.5612309e+00</span>, <span style=\"color: #008080; text-decoration-color: #008080; font-weight: bold\">-4.1453424e-01</span>,\n",
       "        <span style=\"color: #008080; text-decoration-color: #008080; font-weight: bold\">-6.7492509e-01</span>,  <span style=\"color: #008080; text-decoration-color: #008080; font-weight: bold\">5.2001727e-01</span>,  <span style=\"color: #008080; text-decoration-color: #008080; font-weight: bold\">2.5279522e-03</span>,  <span style=\"color: #008080; text-decoration-color: #008080; font-weight: bold\">2.1350920e-01</span>,\n",
       "         <span style=\"color: #008080; text-decoration-color: #008080; font-weight: bold\">3.3249693e+00</span>,  <span style=\"color: #008080; text-decoration-color: #008080; font-weight: bold\">3.4519219e+00</span><span style=\"font-weight: bold\">]</span>,\n",
       "       <span style=\"font-weight: bold\">[</span> <span style=\"color: #008080; text-decoration-color: #008080; font-weight: bold\">2.2164495e+00</span>,  <span style=\"color: #008080; text-decoration-color: #008080; font-weight: bold\">4.1319213e+00</span>,  <span style=\"color: #008080; text-decoration-color: #008080; font-weight: bold\">3.1334374e+00</span>, <span style=\"color: #008080; text-decoration-color: #008080; font-weight: bold\">-3.4483898e+00</span>,\n",
       "         <span style=\"color: #008080; text-decoration-color: #008080; font-weight: bold\">4.3939085e+00</span>, <span style=\"color: #008080; text-decoration-color: #008080; font-weight: bold\">-1.5860100e+00</span>, <span style=\"color: #008080; text-decoration-color: #008080; font-weight: bold\">-4.5105386e+00</span>, <span style=\"color: #008080; text-decoration-color: #008080; font-weight: bold\">-2.1365464e-02</span>,\n",
       "        <span style=\"color: #008080; text-decoration-color: #008080; font-weight: bold\">-4.1571721e-02</span>,  <span style=\"color: #008080; text-decoration-color: #008080; font-weight: bold\">6.9522099e+00</span><span style=\"font-weight: bold\">]</span>,\n",
       "       <span style=\"font-weight: bold\">[</span><span style=\"color: #008080; text-decoration-color: #008080; font-weight: bold\">-1.5683868e+00</span>,  <span style=\"color: #008080; text-decoration-color: #008080; font-weight: bold\">3.5256091e-01</span>,  <span style=\"color: #008080; text-decoration-color: #008080; font-weight: bold\">2.2435791e+00</span>, <span style=\"color: #008080; text-decoration-color: #008080; font-weight: bold\">-4.8885927e-01</span>,\n",
       "        <span style=\"color: #008080; text-decoration-color: #008080; font-weight: bold\">-6.0932875e-01</span>, <span style=\"color: #008080; text-decoration-color: #008080; font-weight: bold\">-4.4898421e-02</span>, <span style=\"color: #008080; text-decoration-color: #008080; font-weight: bold\">-9.6976548e-02</span>,  <span style=\"color: #008080; text-decoration-color: #008080; font-weight: bold\">5.8187628e-01</span>,\n",
       "         <span style=\"color: #008080; text-decoration-color: #008080; font-weight: bold\">2.9139361e+00</span>,  <span style=\"color: #008080; text-decoration-color: #008080; font-weight: bold\">1.5347085e+00</span><span style=\"font-weight: bold\">]</span>,\n",
       "       <span style=\"font-weight: bold\">[</span> <span style=\"color: #008080; text-decoration-color: #008080; font-weight: bold\">9.6244439e-02</span>, <span style=\"color: #008080; text-decoration-color: #008080; font-weight: bold\">-2.5688073e-01</span>, <span style=\"color: #008080; text-decoration-color: #008080; font-weight: bold\">-5.2451029e-02</span>,  <span style=\"color: #008080; text-decoration-color: #008080; font-weight: bold\">2.8408942e-01</span>,\n",
       "        <span style=\"color: #008080; text-decoration-color: #008080; font-weight: bold\">-3.7490632e-02</span>,  <span style=\"color: #008080; text-decoration-color: #008080; font-weight: bold\">2.7037218e-01</span>,  <span style=\"color: #008080; text-decoration-color: #008080; font-weight: bold\">3.7306648e-01</span>,  <span style=\"color: #008080; text-decoration-color: #008080; font-weight: bold\">3.6741266e-01</span>,\n",
       "        <span style=\"color: #008080; text-decoration-color: #008080; font-weight: bold\">-3.1490374e-02</span>, <span style=\"color: #008080; text-decoration-color: #008080; font-weight: bold\">-1.2003372e-01</span><span style=\"font-weight: bold\">]</span>,\n",
       "       <span style=\"font-weight: bold\">[</span> <span style=\"color: #008080; text-decoration-color: #008080; font-weight: bold\">4.0997920e+00</span>,  <span style=\"color: #008080; text-decoration-color: #008080; font-weight: bold\">1.1897198e+00</span>,  <span style=\"color: #008080; text-decoration-color: #008080; font-weight: bold\">5.1537952e+00</span>, <span style=\"color: #008080; text-decoration-color: #008080; font-weight: bold\">-4.4702411e-02</span>,\n",
       "         <span style=\"color: #008080; text-decoration-color: #008080; font-weight: bold\">2.6712220e+00</span>,  <span style=\"color: #008080; text-decoration-color: #008080; font-weight: bold\">9.1243684e-03</span>, <span style=\"color: #008080; text-decoration-color: #008080; font-weight: bold\">-4.4110417e-03</span>,  <span style=\"color: #008080; text-decoration-color: #008080; font-weight: bold\">1.9618098e+00</span>,\n",
       "         <span style=\"color: #008080; text-decoration-color: #008080; font-weight: bold\">1.2559272e+00</span>,  <span style=\"color: #008080; text-decoration-color: #008080; font-weight: bold\">2.6158414e+00</span><span style=\"font-weight: bold\">]</span>,\n",
       "       <span style=\"font-weight: bold\">[</span> <span style=\"color: #008080; text-decoration-color: #008080; font-weight: bold\">9.6244439e-02</span>, <span style=\"color: #008080; text-decoration-color: #008080; font-weight: bold\">-2.5688073e-01</span>, <span style=\"color: #008080; text-decoration-color: #008080; font-weight: bold\">-5.2451029e-02</span>,  <span style=\"color: #008080; text-decoration-color: #008080; font-weight: bold\">2.8408942e-01</span>,\n",
       "        <span style=\"color: #008080; text-decoration-color: #008080; font-weight: bold\">-3.7490632e-02</span>,  <span style=\"color: #008080; text-decoration-color: #008080; font-weight: bold\">2.7037218e-01</span>,  <span style=\"color: #008080; text-decoration-color: #008080; font-weight: bold\">3.7306648e-01</span>,  <span style=\"color: #008080; text-decoration-color: #008080; font-weight: bold\">3.6741266e-01</span>,\n",
       "        <span style=\"color: #008080; text-decoration-color: #008080; font-weight: bold\">-3.1490374e-02</span>, <span style=\"color: #008080; text-decoration-color: #008080; font-weight: bold\">-1.2003372e-01</span><span style=\"font-weight: bold\">]</span>,\n",
       "       <span style=\"font-weight: bold\">[</span> <span style=\"color: #008080; text-decoration-color: #008080; font-weight: bold\">4.1014943e+00</span>,  <span style=\"color: #008080; text-decoration-color: #008080; font-weight: bold\">2.2517197e+00</span>,  <span style=\"color: #008080; text-decoration-color: #008080; font-weight: bold\">5.4396267e+00</span>,  <span style=\"color: #008080; text-decoration-color: #008080; font-weight: bold\">7.6003218e+00</span>,\n",
       "         <span style=\"color: #008080; text-decoration-color: #008080; font-weight: bold\">3.4545212e+00</span>, <span style=\"color: #008080; text-decoration-color: #008080; font-weight: bold\">-3.3757129e+00</span>,  <span style=\"color: #008080; text-decoration-color: #008080; font-weight: bold\">2.7477636e+00</span>,  <span style=\"color: #008080; text-decoration-color: #008080; font-weight: bold\">2.2964749e+00</span>,\n",
       "        <span style=\"color: #008080; text-decoration-color: #008080; font-weight: bold\">-3.8823482e-01</span>, <span style=\"color: #008080; text-decoration-color: #008080; font-weight: bold\">-4.0768623e+00</span><span style=\"font-weight: bold\">]]</span>, <span style=\"color: #808000; text-decoration-color: #808000\">dtype</span>=<span style=\"color: #800080; text-decoration-color: #800080\">float32</span><span style=\"font-weight: bold\">)</span>,\n",
       "    <span style=\"color: #008000; text-decoration-color: #008000\">'relu2'</span>: <span style=\"color: #800080; text-decoration-color: #800080; font-weight: bold\">array</span><span style=\"font-weight: bold\">([[</span><span style=\"color: #008080; text-decoration-color: #008080; font-weight: bold\">9.6244439e-02</span>, <span style=\"color: #008080; text-decoration-color: #008080; font-weight: bold\">0.0000000e+00</span>, <span style=\"color: #008080; text-decoration-color: #008080; font-weight: bold\">0.0000000e+00</span>, <span style=\"color: #008080; text-decoration-color: #008080; font-weight: bold\">2.8408942e-01</span>,\n",
       "        <span style=\"color: #008080; text-decoration-color: #008080; font-weight: bold\">0.0000000e+00</span>, <span style=\"color: #008080; text-decoration-color: #008080; font-weight: bold\">2.7037218e-01</span>, <span style=\"color: #008080; text-decoration-color: #008080; font-weight: bold\">3.7306648e-01</span>, <span style=\"color: #008080; text-decoration-color: #008080; font-weight: bold\">3.6741266e-01</span>,\n",
       "        <span style=\"color: #008080; text-decoration-color: #008080; font-weight: bold\">0.0000000e+00</span>, <span style=\"color: #008080; text-decoration-color: #008080; font-weight: bold\">0.0000000e+00</span><span style=\"font-weight: bold\">]</span>,\n",
       "       <span style=\"font-weight: bold\">[</span><span style=\"color: #008080; text-decoration-color: #008080; font-weight: bold\">9.6244439e-02</span>, <span style=\"color: #008080; text-decoration-color: #008080; font-weight: bold\">0.0000000e+00</span>, <span style=\"color: #008080; text-decoration-color: #008080; font-weight: bold\">0.0000000e+00</span>, <span style=\"color: #008080; text-decoration-color: #008080; font-weight: bold\">2.8408942e-01</span>,\n",
       "        <span style=\"color: #008080; text-decoration-color: #008080; font-weight: bold\">0.0000000e+00</span>, <span style=\"color: #008080; text-decoration-color: #008080; font-weight: bold\">2.7037218e-01</span>, <span style=\"color: #008080; text-decoration-color: #008080; font-weight: bold\">3.7306648e-01</span>, <span style=\"color: #008080; text-decoration-color: #008080; font-weight: bold\">3.6741266e-01</span>,\n",
       "        <span style=\"color: #008080; text-decoration-color: #008080; font-weight: bold\">0.0000000e+00</span>, <span style=\"color: #008080; text-decoration-color: #008080; font-weight: bold\">0.0000000e+00</span><span style=\"font-weight: bold\">]</span>,\n",
       "       <span style=\"font-weight: bold\">[</span><span style=\"color: #008080; text-decoration-color: #008080; font-weight: bold\">9.6244439e-02</span>, <span style=\"color: #008080; text-decoration-color: #008080; font-weight: bold\">0.0000000e+00</span>, <span style=\"color: #008080; text-decoration-color: #008080; font-weight: bold\">0.0000000e+00</span>, <span style=\"color: #008080; text-decoration-color: #008080; font-weight: bold\">2.8408942e-01</span>,\n",
       "        <span style=\"color: #008080; text-decoration-color: #008080; font-weight: bold\">0.0000000e+00</span>, <span style=\"color: #008080; text-decoration-color: #008080; font-weight: bold\">2.7037218e-01</span>, <span style=\"color: #008080; text-decoration-color: #008080; font-weight: bold\">3.7306648e-01</span>, <span style=\"color: #008080; text-decoration-color: #008080; font-weight: bold\">3.6741266e-01</span>,\n",
       "        <span style=\"color: #008080; text-decoration-color: #008080; font-weight: bold\">0.0000000e+00</span>, <span style=\"color: #008080; text-decoration-color: #008080; font-weight: bold\">0.0000000e+00</span><span style=\"font-weight: bold\">]</span>,\n",
       "       <span style=\"font-weight: bold\">[</span><span style=\"color: #008080; text-decoration-color: #008080; font-weight: bold\">1.2440182e-02</span>, <span style=\"color: #008080; text-decoration-color: #008080; font-weight: bold\">0.0000000e+00</span>, <span style=\"color: #008080; text-decoration-color: #008080; font-weight: bold\">1.5530553e+00</span>, <span style=\"color: #008080; text-decoration-color: #008080; font-weight: bold\">2.1701269e+00</span>,\n",
       "        <span style=\"color: #008080; text-decoration-color: #008080; font-weight: bold\">6.0134315e+00</span>, <span style=\"color: #008080; text-decoration-color: #008080; font-weight: bold\">0.0000000e+00</span>, <span style=\"color: #008080; text-decoration-color: #008080; font-weight: bold\">2.4217749e+00</span>, <span style=\"color: #008080; text-decoration-color: #008080; font-weight: bold\">2.9213591e+00</span>,\n",
       "        <span style=\"color: #008080; text-decoration-color: #008080; font-weight: bold\">1.7772987e-04</span>, <span style=\"color: #008080; text-decoration-color: #008080; font-weight: bold\">5.6695910e+00</span><span style=\"font-weight: bold\">]</span>,\n",
       "       <span style=\"font-weight: bold\">[</span><span style=\"color: #008080; text-decoration-color: #008080; font-weight: bold\">6.1295753e+00</span>, <span style=\"color: #008080; text-decoration-color: #008080; font-weight: bold\">4.9273791e+00</span>, <span style=\"color: #008080; text-decoration-color: #008080; font-weight: bold\">3.7223897e+00</span>, <span style=\"color: #008080; text-decoration-color: #008080; font-weight: bold\">0.0000000e+00</span>,\n",
       "        <span style=\"color: #008080; text-decoration-color: #008080; font-weight: bold\">1.8922640e+00</span>, <span style=\"color: #008080; text-decoration-color: #008080; font-weight: bold\">6.1164088e+00</span>, <span style=\"color: #008080; text-decoration-color: #008080; font-weight: bold\">9.5280975e-02</span>, <span style=\"color: #008080; text-decoration-color: #008080; font-weight: bold\">9.0911722e-01</span>,\n",
       "        <span style=\"color: #008080; text-decoration-color: #008080; font-weight: bold\">2.4393989e-01</span>, <span style=\"color: #008080; text-decoration-color: #008080; font-weight: bold\">0.0000000e+00</span><span style=\"font-weight: bold\">]</span>,\n",
       "       <span style=\"font-weight: bold\">[</span><span style=\"color: #008080; text-decoration-color: #008080; font-weight: bold\">1.2440182e-02</span>, <span style=\"color: #008080; text-decoration-color: #008080; font-weight: bold\">0.0000000e+00</span>, <span style=\"color: #008080; text-decoration-color: #008080; font-weight: bold\">1.5530553e+00</span>, <span style=\"color: #008080; text-decoration-color: #008080; font-weight: bold\">2.1701269e+00</span>,\n",
       "        <span style=\"color: #008080; text-decoration-color: #008080; font-weight: bold\">6.0134315e+00</span>, <span style=\"color: #008080; text-decoration-color: #008080; font-weight: bold\">0.0000000e+00</span>, <span style=\"color: #008080; text-decoration-color: #008080; font-weight: bold\">2.4217749e+00</span>, <span style=\"color: #008080; text-decoration-color: #008080; font-weight: bold\">2.9213591e+00</span>,\n",
       "        <span style=\"color: #008080; text-decoration-color: #008080; font-weight: bold\">1.7772987e-04</span>, <span style=\"color: #008080; text-decoration-color: #008080; font-weight: bold\">5.6695910e+00</span><span style=\"font-weight: bold\">]</span>,\n",
       "       <span style=\"font-weight: bold\">[</span><span style=\"color: #008080; text-decoration-color: #008080; font-weight: bold\">9.6244439e-02</span>, <span style=\"color: #008080; text-decoration-color: #008080; font-weight: bold\">0.0000000e+00</span>, <span style=\"color: #008080; text-decoration-color: #008080; font-weight: bold\">0.0000000e+00</span>, <span style=\"color: #008080; text-decoration-color: #008080; font-weight: bold\">2.8408942e-01</span>,\n",
       "        <span style=\"color: #008080; text-decoration-color: #008080; font-weight: bold\">0.0000000e+00</span>, <span style=\"color: #008080; text-decoration-color: #008080; font-weight: bold\">2.7037218e-01</span>, <span style=\"color: #008080; text-decoration-color: #008080; font-weight: bold\">3.7306648e-01</span>, <span style=\"color: #008080; text-decoration-color: #008080; font-weight: bold\">3.6741266e-01</span>,\n",
       "        <span style=\"color: #008080; text-decoration-color: #008080; font-weight: bold\">0.0000000e+00</span>, <span style=\"color: #008080; text-decoration-color: #008080; font-weight: bold\">0.0000000e+00</span><span style=\"font-weight: bold\">]</span>,\n",
       "       <span style=\"font-weight: bold\">[</span><span style=\"color: #008080; text-decoration-color: #008080; font-weight: bold\">9.6244439e-02</span>, <span style=\"color: #008080; text-decoration-color: #008080; font-weight: bold\">0.0000000e+00</span>, <span style=\"color: #008080; text-decoration-color: #008080; font-weight: bold\">0.0000000e+00</span>, <span style=\"color: #008080; text-decoration-color: #008080; font-weight: bold\">2.8408942e-01</span>,\n",
       "        <span style=\"color: #008080; text-decoration-color: #008080; font-weight: bold\">0.0000000e+00</span>, <span style=\"color: #008080; text-decoration-color: #008080; font-weight: bold\">2.7037218e-01</span>, <span style=\"color: #008080; text-decoration-color: #008080; font-weight: bold\">3.7306648e-01</span>, <span style=\"color: #008080; text-decoration-color: #008080; font-weight: bold\">3.6741266e-01</span>,\n",
       "        <span style=\"color: #008080; text-decoration-color: #008080; font-weight: bold\">0.0000000e+00</span>, <span style=\"color: #008080; text-decoration-color: #008080; font-weight: bold\">0.0000000e+00</span><span style=\"font-weight: bold\">]</span>,\n",
       "       <span style=\"font-weight: bold\">[</span><span style=\"color: #008080; text-decoration-color: #008080; font-weight: bold\">9.6244439e-02</span>, <span style=\"color: #008080; text-decoration-color: #008080; font-weight: bold\">0.0000000e+00</span>, <span style=\"color: #008080; text-decoration-color: #008080; font-weight: bold\">0.0000000e+00</span>, <span style=\"color: #008080; text-decoration-color: #008080; font-weight: bold\">2.8408942e-01</span>,\n",
       "        <span style=\"color: #008080; text-decoration-color: #008080; font-weight: bold\">0.0000000e+00</span>, <span style=\"color: #008080; text-decoration-color: #008080; font-weight: bold\">2.7037218e-01</span>, <span style=\"color: #008080; text-decoration-color: #008080; font-weight: bold\">3.7306648e-01</span>, <span style=\"color: #008080; text-decoration-color: #008080; font-weight: bold\">3.6741266e-01</span>,\n",
       "        <span style=\"color: #008080; text-decoration-color: #008080; font-weight: bold\">0.0000000e+00</span>, <span style=\"color: #008080; text-decoration-color: #008080; font-weight: bold\">0.0000000e+00</span><span style=\"font-weight: bold\">]</span>,\n",
       "       <span style=\"font-weight: bold\">[</span><span style=\"color: #008080; text-decoration-color: #008080; font-weight: bold\">0.0000000e+00</span>, <span style=\"color: #008080; text-decoration-color: #008080; font-weight: bold\">0.0000000e+00</span>, <span style=\"color: #008080; text-decoration-color: #008080; font-weight: bold\">3.5612309e+00</span>, <span style=\"color: #008080; text-decoration-color: #008080; font-weight: bold\">0.0000000e+00</span>,\n",
       "        <span style=\"color: #008080; text-decoration-color: #008080; font-weight: bold\">0.0000000e+00</span>, <span style=\"color: #008080; text-decoration-color: #008080; font-weight: bold\">5.2001727e-01</span>, <span style=\"color: #008080; text-decoration-color: #008080; font-weight: bold\">2.5279522e-03</span>, <span style=\"color: #008080; text-decoration-color: #008080; font-weight: bold\">2.1350920e-01</span>,\n",
       "        <span style=\"color: #008080; text-decoration-color: #008080; font-weight: bold\">3.3249693e+00</span>, <span style=\"color: #008080; text-decoration-color: #008080; font-weight: bold\">3.4519219e+00</span><span style=\"font-weight: bold\">]</span>,\n",
       "       <span style=\"font-weight: bold\">[</span><span style=\"color: #008080; text-decoration-color: #008080; font-weight: bold\">2.2164495e+00</span>, <span style=\"color: #008080; text-decoration-color: #008080; font-weight: bold\">4.1319213e+00</span>, <span style=\"color: #008080; text-decoration-color: #008080; font-weight: bold\">3.1334374e+00</span>, <span style=\"color: #008080; text-decoration-color: #008080; font-weight: bold\">0.0000000e+00</span>,\n",
       "        <span style=\"color: #008080; text-decoration-color: #008080; font-weight: bold\">4.3939085e+00</span>, <span style=\"color: #008080; text-decoration-color: #008080; font-weight: bold\">0.0000000e+00</span>, <span style=\"color: #008080; text-decoration-color: #008080; font-weight: bold\">0.0000000e+00</span>, <span style=\"color: #008080; text-decoration-color: #008080; font-weight: bold\">0.0000000e+00</span>,\n",
       "        <span style=\"color: #008080; text-decoration-color: #008080; font-weight: bold\">0.0000000e+00</span>, <span style=\"color: #008080; text-decoration-color: #008080; font-weight: bold\">6.9522099e+00</span><span style=\"font-weight: bold\">]</span>,\n",
       "       <span style=\"font-weight: bold\">[</span><span style=\"color: #008080; text-decoration-color: #008080; font-weight: bold\">0.0000000e+00</span>, <span style=\"color: #008080; text-decoration-color: #008080; font-weight: bold\">3.5256091e-01</span>, <span style=\"color: #008080; text-decoration-color: #008080; font-weight: bold\">2.2435791e+00</span>, <span style=\"color: #008080; text-decoration-color: #008080; font-weight: bold\">0.0000000e+00</span>,\n",
       "        <span style=\"color: #008080; text-decoration-color: #008080; font-weight: bold\">0.0000000e+00</span>, <span style=\"color: #008080; text-decoration-color: #008080; font-weight: bold\">0.0000000e+00</span>, <span style=\"color: #008080; text-decoration-color: #008080; font-weight: bold\">0.0000000e+00</span>, <span style=\"color: #008080; text-decoration-color: #008080; font-weight: bold\">5.8187628e-01</span>,\n",
       "        <span style=\"color: #008080; text-decoration-color: #008080; font-weight: bold\">2.9139361e+00</span>, <span style=\"color: #008080; text-decoration-color: #008080; font-weight: bold\">1.5347085e+00</span><span style=\"font-weight: bold\">]</span>,\n",
       "       <span style=\"font-weight: bold\">[</span><span style=\"color: #008080; text-decoration-color: #008080; font-weight: bold\">9.6244439e-02</span>, <span style=\"color: #008080; text-decoration-color: #008080; font-weight: bold\">0.0000000e+00</span>, <span style=\"color: #008080; text-decoration-color: #008080; font-weight: bold\">0.0000000e+00</span>, <span style=\"color: #008080; text-decoration-color: #008080; font-weight: bold\">2.8408942e-01</span>,\n",
       "        <span style=\"color: #008080; text-decoration-color: #008080; font-weight: bold\">0.0000000e+00</span>, <span style=\"color: #008080; text-decoration-color: #008080; font-weight: bold\">2.7037218e-01</span>, <span style=\"color: #008080; text-decoration-color: #008080; font-weight: bold\">3.7306648e-01</span>, <span style=\"color: #008080; text-decoration-color: #008080; font-weight: bold\">3.6741266e-01</span>,\n",
       "        <span style=\"color: #008080; text-decoration-color: #008080; font-weight: bold\">0.0000000e+00</span>, <span style=\"color: #008080; text-decoration-color: #008080; font-weight: bold\">0.0000000e+00</span><span style=\"font-weight: bold\">]</span>,\n",
       "       <span style=\"font-weight: bold\">[</span><span style=\"color: #008080; text-decoration-color: #008080; font-weight: bold\">4.0997920e+00</span>, <span style=\"color: #008080; text-decoration-color: #008080; font-weight: bold\">1.1897198e+00</span>, <span style=\"color: #008080; text-decoration-color: #008080; font-weight: bold\">5.1537952e+00</span>, <span style=\"color: #008080; text-decoration-color: #008080; font-weight: bold\">0.0000000e+00</span>,\n",
       "        <span style=\"color: #008080; text-decoration-color: #008080; font-weight: bold\">2.6712220e+00</span>, <span style=\"color: #008080; text-decoration-color: #008080; font-weight: bold\">9.1243684e-03</span>, <span style=\"color: #008080; text-decoration-color: #008080; font-weight: bold\">0.0000000e+00</span>, <span style=\"color: #008080; text-decoration-color: #008080; font-weight: bold\">1.9618098e+00</span>,\n",
       "        <span style=\"color: #008080; text-decoration-color: #008080; font-weight: bold\">1.2559272e+00</span>, <span style=\"color: #008080; text-decoration-color: #008080; font-weight: bold\">2.6158414e+00</span><span style=\"font-weight: bold\">]</span>,\n",
       "       <span style=\"font-weight: bold\">[</span><span style=\"color: #008080; text-decoration-color: #008080; font-weight: bold\">9.6244439e-02</span>, <span style=\"color: #008080; text-decoration-color: #008080; font-weight: bold\">0.0000000e+00</span>, <span style=\"color: #008080; text-decoration-color: #008080; font-weight: bold\">0.0000000e+00</span>, <span style=\"color: #008080; text-decoration-color: #008080; font-weight: bold\">2.8408942e-01</span>,\n",
       "        <span style=\"color: #008080; text-decoration-color: #008080; font-weight: bold\">0.0000000e+00</span>, <span style=\"color: #008080; text-decoration-color: #008080; font-weight: bold\">2.7037218e-01</span>, <span style=\"color: #008080; text-decoration-color: #008080; font-weight: bold\">3.7306648e-01</span>, <span style=\"color: #008080; text-decoration-color: #008080; font-weight: bold\">3.6741266e-01</span>,\n",
       "        <span style=\"color: #008080; text-decoration-color: #008080; font-weight: bold\">0.0000000e+00</span>, <span style=\"color: #008080; text-decoration-color: #008080; font-weight: bold\">0.0000000e+00</span><span style=\"font-weight: bold\">]</span>,\n",
       "       <span style=\"font-weight: bold\">[</span><span style=\"color: #008080; text-decoration-color: #008080; font-weight: bold\">4.1014943e+00</span>, <span style=\"color: #008080; text-decoration-color: #008080; font-weight: bold\">2.2517197e+00</span>, <span style=\"color: #008080; text-decoration-color: #008080; font-weight: bold\">5.4396267e+00</span>, <span style=\"color: #008080; text-decoration-color: #008080; font-weight: bold\">7.6003218e+00</span>,\n",
       "        <span style=\"color: #008080; text-decoration-color: #008080; font-weight: bold\">3.4545212e+00</span>, <span style=\"color: #008080; text-decoration-color: #008080; font-weight: bold\">0.0000000e+00</span>, <span style=\"color: #008080; text-decoration-color: #008080; font-weight: bold\">2.7477636e+00</span>, <span style=\"color: #008080; text-decoration-color: #008080; font-weight: bold\">2.2964749e+00</span>,\n",
       "        <span style=\"color: #008080; text-decoration-color: #008080; font-weight: bold\">0.0000000e+00</span>, <span style=\"color: #008080; text-decoration-color: #008080; font-weight: bold\">0.0000000e+00</span><span style=\"font-weight: bold\">]]</span>, <span style=\"color: #808000; text-decoration-color: #808000\">dtype</span>=<span style=\"color: #800080; text-decoration-color: #800080\">float32</span><span style=\"font-weight: bold\">)</span>,\n",
       "    <span style=\"color: #008000; text-decoration-color: #008000\">'fc2'</span>: <span style=\"color: #800080; text-decoration-color: #800080; font-weight: bold\">array</span><span style=\"font-weight: bold\">([[</span> <span style=\"color: #008080; text-decoration-color: #008080; font-weight: bold\">-0.4887945</span> ,  <span style=\"color: #008080; text-decoration-color: #008080; font-weight: bold\">-0.74049234</span>,   <span style=\"color: #008080; text-decoration-color: #008080; font-weight: bold\">1.4700941</span> <span style=\"font-weight: bold\">]</span>,\n",
       "       <span style=\"font-weight: bold\">[</span> <span style=\"color: #008080; text-decoration-color: #008080; font-weight: bold\">-0.4887945</span> ,  <span style=\"color: #008080; text-decoration-color: #008080; font-weight: bold\">-0.74049234</span>,   <span style=\"color: #008080; text-decoration-color: #008080; font-weight: bold\">1.4700941</span> <span style=\"font-weight: bold\">]</span>,\n",
       "       <span style=\"font-weight: bold\">[</span> <span style=\"color: #008080; text-decoration-color: #008080; font-weight: bold\">-0.4887945</span> ,  <span style=\"color: #008080; text-decoration-color: #008080; font-weight: bold\">-0.74049234</span>,   <span style=\"color: #008080; text-decoration-color: #008080; font-weight: bold\">1.4700941</span> <span style=\"font-weight: bold\">]</span>,\n",
       "       <span style=\"font-weight: bold\">[</span>  <span style=\"color: #008080; text-decoration-color: #008080; font-weight: bold\">8.702699</span>  ,   <span style=\"color: #008080; text-decoration-color: #008080; font-weight: bold\">1.7882531</span> ,  <span style=\"color: #008080; text-decoration-color: #008080; font-weight: bold\">-5.467761</span>  <span style=\"font-weight: bold\">]</span>,\n",
       "       <span style=\"font-weight: bold\">[</span>  <span style=\"color: #008080; text-decoration-color: #008080; font-weight: bold\">6.4708967</span> ,  <span style=\"color: #008080; text-decoration-color: #008080; font-weight: bold\">-1.2642086</span> ,  <span style=\"color: #008080; text-decoration-color: #008080; font-weight: bold\">-2.8014874</span> <span style=\"font-weight: bold\">]</span>,\n",
       "       <span style=\"font-weight: bold\">[</span>  <span style=\"color: #008080; text-decoration-color: #008080; font-weight: bold\">8.702699</span>  ,   <span style=\"color: #008080; text-decoration-color: #008080; font-weight: bold\">1.7882531</span> ,  <span style=\"color: #008080; text-decoration-color: #008080; font-weight: bold\">-5.467761</span>  <span style=\"font-weight: bold\">]</span>,\n",
       "       <span style=\"font-weight: bold\">[</span> <span style=\"color: #008080; text-decoration-color: #008080; font-weight: bold\">-0.4887945</span> ,  <span style=\"color: #008080; text-decoration-color: #008080; font-weight: bold\">-0.74049234</span>,   <span style=\"color: #008080; text-decoration-color: #008080; font-weight: bold\">1.4700941</span> <span style=\"font-weight: bold\">]</span>,\n",
       "       <span style=\"font-weight: bold\">[</span> <span style=\"color: #008080; text-decoration-color: #008080; font-weight: bold\">-0.4887945</span> ,  <span style=\"color: #008080; text-decoration-color: #008080; font-weight: bold\">-0.74049234</span>,   <span style=\"color: #008080; text-decoration-color: #008080; font-weight: bold\">1.4700941</span> <span style=\"font-weight: bold\">]</span>,\n",
       "       <span style=\"font-weight: bold\">[</span> <span style=\"color: #008080; text-decoration-color: #008080; font-weight: bold\">-0.4887945</span> ,  <span style=\"color: #008080; text-decoration-color: #008080; font-weight: bold\">-0.74049234</span>,   <span style=\"color: #008080; text-decoration-color: #008080; font-weight: bold\">1.4700941</span> <span style=\"font-weight: bold\">]</span>,\n",
       "       <span style=\"font-weight: bold\">[</span>  <span style=\"color: #008080; text-decoration-color: #008080; font-weight: bold\">0.8632395</span> ,   <span style=\"color: #008080; text-decoration-color: #008080; font-weight: bold\">6.231264</span>  ,  <span style=\"color: #008080; text-decoration-color: #008080; font-weight: bold\">-5.2358418</span> <span style=\"font-weight: bold\">]</span>,\n",
       "       <span style=\"font-weight: bold\">[</span> <span style=\"color: #008080; text-decoration-color: #008080; font-weight: bold\">10.006319</span>  ,   <span style=\"color: #008080; text-decoration-color: #008080; font-weight: bold\">2.7432716</span> , <span style=\"color: #008080; text-decoration-color: #008080; font-weight: bold\">-10.843271</span>  <span style=\"font-weight: bold\">]</span>,\n",
       "       <span style=\"font-weight: bold\">[</span> <span style=\"color: #008080; text-decoration-color: #008080; font-weight: bold\">-0.85742044</span>,   <span style=\"color: #008080; text-decoration-color: #008080; font-weight: bold\">5.024785</span>  ,  <span style=\"color: #008080; text-decoration-color: #008080; font-weight: bold\">-2.7073312</span> <span style=\"font-weight: bold\">]</span>,\n",
       "       <span style=\"font-weight: bold\">[</span> <span style=\"color: #008080; text-decoration-color: #008080; font-weight: bold\">-0.4887945</span> ,  <span style=\"color: #008080; text-decoration-color: #008080; font-weight: bold\">-0.74049234</span>,   <span style=\"color: #008080; text-decoration-color: #008080; font-weight: bold\">1.4700941</span> <span style=\"font-weight: bold\">]</span>,\n",
       "       <span style=\"font-weight: bold\">[</span>  <span style=\"color: #008080; text-decoration-color: #008080; font-weight: bold\">1.2477831</span> ,   <span style=\"color: #008080; text-decoration-color: #008080; font-weight: bold\">7.5827565</span> ,  <span style=\"color: #008080; text-decoration-color: #008080; font-weight: bold\">-5.870911</span>  <span style=\"font-weight: bold\">]</span>,\n",
       "       <span style=\"font-weight: bold\">[</span> <span style=\"color: #008080; text-decoration-color: #008080; font-weight: bold\">-0.4887945</span> ,  <span style=\"color: #008080; text-decoration-color: #008080; font-weight: bold\">-0.74049234</span>,   <span style=\"color: #008080; text-decoration-color: #008080; font-weight: bold\">1.4700941</span> <span style=\"font-weight: bold\">]</span>,\n",
       "       <span style=\"font-weight: bold\">[</span>  <span style=\"color: #008080; text-decoration-color: #008080; font-weight: bold\">7.320399</span>  ,  <span style=\"color: #008080; text-decoration-color: #008080; font-weight: bold\">-0.02116445</span>,  <span style=\"color: #008080; text-decoration-color: #008080; font-weight: bold\">-2.120936</span>  <span style=\"font-weight: bold\">]]</span>, <span style=\"color: #808000; text-decoration-color: #808000\">dtype</span>=<span style=\"color: #800080; text-decoration-color: #800080\">float32</span><span style=\"font-weight: bold\">)</span>\n",
       "<span style=\"font-weight: bold\">}</span>\n",
       "</pre>\n"
      ],
      "text/plain": [
       "\u001b[1m{\u001b[0m\n",
       "    \u001b[32m'conv1'\u001b[0m: \u001b[1;35marray\u001b[0m\u001b[1m(\u001b[0m\u001b[1m[\u001b[0m\u001b[1m[\u001b[0m\u001b[1m[\u001b[0m\u001b[1m[\u001b[0m\u001b[1;36m-0.09818196\u001b[0m, \u001b[1;36m-0.06868529\u001b[0m, \u001b[1;36m-0.03634596\u001b[0m, \u001b[33m...\u001b[0m, \u001b[1;36m-0.03235793\u001b[0m,\n",
       "          \u001b[1;36m-0.09818196\u001b[0m, \u001b[1;36m-0.09818196\u001b[0m\u001b[1m]\u001b[0m,\n",
       "         \u001b[1m[\u001b[0m\u001b[1;36m-0.09818196\u001b[0m, \u001b[1;36m-0.09818196\u001b[0m, \u001b[1;36m-0.06868529\u001b[0m, \u001b[33m...\u001b[0m, \u001b[1;36m-0.01384091\u001b[0m,\n",
       "          \u001b[1;36m-0.03235793\u001b[0m, \u001b[1;36m-0.09818196\u001b[0m\u001b[1m]\u001b[0m,\n",
       "         \u001b[1m[\u001b[0m\u001b[1;36m-0.09818196\u001b[0m, \u001b[1;36m-0.09818196\u001b[0m, \u001b[1;36m-0.09818196\u001b[0m, \u001b[33m...\u001b[0m, \u001b[1;36m-0.01704192\u001b[0m,\n",
       "          \u001b[1;36m-0.01384091\u001b[0m, \u001b[1;36m-0.03235793\u001b[0m\u001b[1m]\u001b[0m,\n",
       "         \u001b[33m...\u001b[0m,\n",
       "         \u001b[1m[\u001b[0m\u001b[1;36m-0.09818196\u001b[0m, \u001b[1;36m-0.09818196\u001b[0m, \u001b[1;36m-0.09818196\u001b[0m, \u001b[33m...\u001b[0m, \u001b[1;36m-0.09818196\u001b[0m,\n",
       "          \u001b[1;36m-0.06868529\u001b[0m, \u001b[1;36m-0.03634596\u001b[0m\u001b[1m]\u001b[0m,\n",
       "         \u001b[1m[\u001b[0m\u001b[1;36m-0.09818196\u001b[0m, \u001b[1;36m-0.09818196\u001b[0m, \u001b[1;36m-0.09818196\u001b[0m, \u001b[33m...\u001b[0m, \u001b[1;36m-0.09818196\u001b[0m,\n",
       "          \u001b[1;36m-0.09818196\u001b[0m, \u001b[1;36m-0.06868529\u001b[0m\u001b[1m]\u001b[0m,\n",
       "         \u001b[1m[\u001b[0m\u001b[1;36m-0.09818196\u001b[0m, \u001b[1;36m-0.09818196\u001b[0m, \u001b[1;36m-0.09818196\u001b[0m, \u001b[33m...\u001b[0m, \u001b[1;36m-0.09818196\u001b[0m,\n",
       "          \u001b[1;36m-0.09818196\u001b[0m, \u001b[1;36m-0.09818196\u001b[0m\u001b[1m]\u001b[0m\u001b[1m]\u001b[0m\u001b[1m]\u001b[0m,\n",
       "\n",
       "\n",
       "       \u001b[1m[\u001b[0m\u001b[1m[\u001b[0m\u001b[1m[\u001b[0m\u001b[1;36m-0.09818196\u001b[0m, \u001b[1;36m-0.09818196\u001b[0m, \u001b[1;36m-0.09818196\u001b[0m, \u001b[33m...\u001b[0m, \u001b[1;36m-0.01704192\u001b[0m,\n",
       "          \u001b[1;36m-0.01384091\u001b[0m, \u001b[1;36m-0.03235793\u001b[0m\u001b[1m]\u001b[0m,\n",
       "         \u001b[1m[\u001b[0m\u001b[1;36m-0.09818196\u001b[0m, \u001b[1;36m-0.09818196\u001b[0m, \u001b[1;36m-0.09818196\u001b[0m, \u001b[33m...\u001b[0m, \u001b[1;36m-0.03634596\u001b[0m,\n",
       "          \u001b[1;36m-0.01704192\u001b[0m, \u001b[1;36m-0.01384091\u001b[0m\u001b[1m]\u001b[0m,\n",
       "         \u001b[1m[\u001b[0m\u001b[1;36m-0.09818196\u001b[0m, \u001b[1;36m-0.09818196\u001b[0m, \u001b[1;36m-0.09818196\u001b[0m, \u001b[33m...\u001b[0m, \u001b[1;36m-0.06868529\u001b[0m,\n",
       "          \u001b[1;36m-0.03634596\u001b[0m, \u001b[1;36m-0.01704192\u001b[0m\u001b[1m]\u001b[0m,\n",
       "         \u001b[33m...\u001b[0m,\n",
       "         \u001b[1m[\u001b[0m\u001b[1;36m-0.09818196\u001b[0m, \u001b[1;36m-0.09818196\u001b[0m, \u001b[1;36m-0.09818196\u001b[0m, \u001b[33m...\u001b[0m, \u001b[1;36m-0.09818196\u001b[0m,\n",
       "          \u001b[1;36m-0.09818196\u001b[0m, \u001b[1;36m-0.09818196\u001b[0m\u001b[1m]\u001b[0m,\n",
       "         \u001b[1m[\u001b[0m\u001b[1;36m-0.09818196\u001b[0m, \u001b[1;36m-0.09818196\u001b[0m, \u001b[1;36m-0.09818196\u001b[0m, \u001b[33m...\u001b[0m, \u001b[1;36m-0.09818196\u001b[0m,\n",
       "          \u001b[1;36m-0.09818196\u001b[0m, \u001b[1;36m-0.09818196\u001b[0m\u001b[1m]\u001b[0m,\n",
       "         \u001b[1m[\u001b[0m\u001b[1;36m-0.09818196\u001b[0m, \u001b[1;36m-0.09818196\u001b[0m, \u001b[1;36m-0.09818196\u001b[0m, \u001b[33m...\u001b[0m, \u001b[1;36m-0.09818196\u001b[0m,\n",
       "          \u001b[1;36m-0.09818196\u001b[0m, \u001b[1;36m-0.09818196\u001b[0m\u001b[1m]\u001b[0m\u001b[1m]\u001b[0m\u001b[1m]\u001b[0m,\n",
       "\n",
       "\n",
       "       \u001b[1m[\u001b[0m\u001b[1m[\u001b[0m\u001b[1m[\u001b[0m\u001b[1;36m-0.09818196\u001b[0m, \u001b[1;36m-0.09818196\u001b[0m, \u001b[1;36m-0.09818196\u001b[0m, \u001b[33m...\u001b[0m, \u001b[1;36m-0.09818196\u001b[0m,\n",
       "          \u001b[1;36m-0.09818196\u001b[0m, \u001b[1;36m-0.06868529\u001b[0m\u001b[1m]\u001b[0m,\n",
       "         \u001b[1m[\u001b[0m\u001b[1;36m-0.09818196\u001b[0m, \u001b[1;36m-0.09818196\u001b[0m, \u001b[1;36m-0.09818196\u001b[0m, \u001b[33m...\u001b[0m, \u001b[1;36m-0.09818196\u001b[0m,\n",
       "          \u001b[1;36m-0.09818196\u001b[0m, \u001b[1;36m-0.09818196\u001b[0m\u001b[1m]\u001b[0m,\n",
       "         \u001b[1m[\u001b[0m\u001b[1;36m-0.09818196\u001b[0m, \u001b[1;36m-0.09818196\u001b[0m, \u001b[1;36m-0.09818196\u001b[0m, \u001b[33m...\u001b[0m, \u001b[1;36m-0.09818196\u001b[0m,\n",
       "          \u001b[1;36m-0.09818196\u001b[0m, \u001b[1;36m-0.09818196\u001b[0m\u001b[1m]\u001b[0m,\n",
       "         \u001b[33m...\u001b[0m,\n",
       "         \u001b[1m[\u001b[0m\u001b[1;36m-0.09818196\u001b[0m, \u001b[1;36m-0.09818196\u001b[0m, \u001b[1;36m-0.09818196\u001b[0m, \u001b[33m...\u001b[0m, \u001b[1;36m-0.09818196\u001b[0m,\n",
       "          \u001b[1;36m-0.09818196\u001b[0m, \u001b[1;36m-0.09818196\u001b[0m\u001b[1m]\u001b[0m,\n",
       "         \u001b[1m[\u001b[0m\u001b[1;36m-0.09818196\u001b[0m, \u001b[1;36m-0.09818196\u001b[0m, \u001b[1;36m-0.09818196\u001b[0m, \u001b[33m...\u001b[0m, \u001b[1;36m-0.09818196\u001b[0m,\n",
       "          \u001b[1;36m-0.09818196\u001b[0m, \u001b[1;36m-0.09818196\u001b[0m\u001b[1m]\u001b[0m,\n",
       "         \u001b[1m[\u001b[0m\u001b[1;36m-0.09818196\u001b[0m, \u001b[1;36m-0.09818196\u001b[0m, \u001b[1;36m-0.09818196\u001b[0m, \u001b[33m...\u001b[0m, \u001b[1;36m-0.09818196\u001b[0m,\n",
       "          \u001b[1;36m-0.09818196\u001b[0m, \u001b[1;36m-0.09818196\u001b[0m\u001b[1m]\u001b[0m\u001b[1m]\u001b[0m\u001b[1m]\u001b[0m,\n",
       "\n",
       "\n",
       "       \u001b[33m...\u001b[0m,\n",
       "\n",
       "\n",
       "       \u001b[1m[\u001b[0m\u001b[1m[\u001b[0m\u001b[1m[\u001b[0m\u001b[1;36m-0.09818196\u001b[0m, \u001b[1;36m-0.09818196\u001b[0m, \u001b[1;36m-0.09818196\u001b[0m, \u001b[33m...\u001b[0m, \u001b[1;36m-0.09818196\u001b[0m,\n",
       "           \u001b[1;36m4.1107473\u001b[0m ,  \u001b[1;36m3.321349\u001b[0m  \u001b[1m]\u001b[0m,\n",
       "         \u001b[1m[\u001b[0m\u001b[1;36m-0.09818196\u001b[0m, \u001b[1;36m-0.09818196\u001b[0m, \u001b[1;36m-0.09818196\u001b[0m, \u001b[33m...\u001b[0m,  \u001b[1;36m4.1107473\u001b[0m ,\n",
       "           \u001b[1;36m3.321349\u001b[0m  , \u001b[1;36m-2.117766\u001b[0m  \u001b[1m]\u001b[0m,\n",
       "         \u001b[1m[\u001b[0m\u001b[1;36m-0.09818196\u001b[0m, \u001b[1;36m-0.09818196\u001b[0m, \u001b[1;36m-0.09818196\u001b[0m, \u001b[33m...\u001b[0m,  \u001b[1;36m3.321349\u001b[0m  ,\n",
       "          \u001b[1;36m-2.117766\u001b[0m  , \u001b[1;36m-3.3715358\u001b[0m \u001b[1m]\u001b[0m,\n",
       "         \u001b[33m...\u001b[0m,\n",
       "         \u001b[1m[\u001b[0m\u001b[1;36m-0.09818196\u001b[0m,  \u001b[1;36m4.1107473\u001b[0m ,  \u001b[1;36m3.321349\u001b[0m  , \u001b[33m...\u001b[0m, \u001b[1;36m-2.1110668\u001b[0m ,\n",
       "          \u001b[1;36m-0.09818196\u001b[0m, \u001b[1;36m-0.09818196\u001b[0m\u001b[1m]\u001b[0m,\n",
       "         \u001b[1m[\u001b[0m \u001b[1;36m4.1107473\u001b[0m ,  \u001b[1;36m3.321349\u001b[0m  , \u001b[1;36m-2.117766\u001b[0m  , \u001b[33m...\u001b[0m, \u001b[1;36m-0.09818196\u001b[0m,\n",
       "          \u001b[1;36m-0.09818196\u001b[0m, \u001b[1;36m-0.09818196\u001b[0m\u001b[1m]\u001b[0m,\n",
       "         \u001b[1m[\u001b[0m \u001b[1;36m3.321349\u001b[0m  , \u001b[1;36m-2.117766\u001b[0m  , \u001b[1;36m-3.3715358\u001b[0m , \u001b[33m...\u001b[0m, \u001b[1;36m-0.09818196\u001b[0m,\n",
       "          \u001b[1;36m-0.09818196\u001b[0m, \u001b[1;36m-0.09818196\u001b[0m\u001b[1m]\u001b[0m\u001b[1m]\u001b[0m\u001b[1m]\u001b[0m,\n",
       "\n",
       "\n",
       "       \u001b[1m[\u001b[0m\u001b[1m[\u001b[0m\u001b[1m[\u001b[0m\u001b[1;36m-0.09818196\u001b[0m, \u001b[1;36m-0.09818196\u001b[0m, \u001b[1;36m-0.09818196\u001b[0m, \u001b[33m...\u001b[0m, \u001b[1;36m-0.06868529\u001b[0m,\n",
       "          \u001b[1;36m-0.03634596\u001b[0m, \u001b[1;36m-0.01704192\u001b[0m\u001b[1m]\u001b[0m,\n",
       "         \u001b[1m[\u001b[0m\u001b[1;36m-0.09818196\u001b[0m, \u001b[1;36m-0.09818196\u001b[0m, \u001b[1;36m-0.09818196\u001b[0m, \u001b[33m...\u001b[0m, \u001b[1;36m-0.09818196\u001b[0m,\n",
       "          \u001b[1;36m-0.06868529\u001b[0m, \u001b[1;36m-0.03634596\u001b[0m\u001b[1m]\u001b[0m,\n",
       "         \u001b[1m[\u001b[0m\u001b[1;36m-0.09818196\u001b[0m, \u001b[1;36m-0.09818196\u001b[0m, \u001b[1;36m-0.09818196\u001b[0m, \u001b[33m...\u001b[0m, \u001b[1;36m-0.09818196\u001b[0m,\n",
       "          \u001b[1;36m-0.09818196\u001b[0m, \u001b[1;36m-0.06868529\u001b[0m\u001b[1m]\u001b[0m,\n",
       "         \u001b[33m...\u001b[0m,\n",
       "         \u001b[1m[\u001b[0m\u001b[1;36m-0.09818196\u001b[0m, \u001b[1;36m-0.09818196\u001b[0m, \u001b[1;36m-0.09818196\u001b[0m, \u001b[33m...\u001b[0m, \u001b[1;36m-0.09818196\u001b[0m,\n",
       "          \u001b[1;36m-0.09818196\u001b[0m, \u001b[1;36m-0.09818196\u001b[0m\u001b[1m]\u001b[0m,\n",
       "         \u001b[1m[\u001b[0m\u001b[1;36m-0.09818196\u001b[0m, \u001b[1;36m-0.09818196\u001b[0m, \u001b[1;36m-0.09818196\u001b[0m, \u001b[33m...\u001b[0m, \u001b[1;36m-0.09818196\u001b[0m,\n",
       "          \u001b[1;36m-0.09818196\u001b[0m, \u001b[1;36m-0.09818196\u001b[0m\u001b[1m]\u001b[0m,\n",
       "         \u001b[1m[\u001b[0m\u001b[1;36m-0.09818196\u001b[0m, \u001b[1;36m-0.09818196\u001b[0m, \u001b[1;36m-0.09818196\u001b[0m, \u001b[33m...\u001b[0m, \u001b[1;36m-0.09818196\u001b[0m,\n",
       "          \u001b[1;36m-0.09818196\u001b[0m, \u001b[1;36m-0.09818196\u001b[0m\u001b[1m]\u001b[0m\u001b[1m]\u001b[0m\u001b[1m]\u001b[0m,\n",
       "\n",
       "\n",
       "       \u001b[1m[\u001b[0m\u001b[1m[\u001b[0m\u001b[1m[\u001b[0m\u001b[1;36m-0.09818196\u001b[0m, \u001b[1;36m-0.09818196\u001b[0m, \u001b[1;36m-0.09818196\u001b[0m, \u001b[33m...\u001b[0m, \u001b[1;36m-0.09818196\u001b[0m,\n",
       "          \u001b[1;36m-0.09818196\u001b[0m, \u001b[1;36m-0.09818196\u001b[0m\u001b[1m]\u001b[0m,\n",
       "         \u001b[1m[\u001b[0m\u001b[1;36m-0.09818196\u001b[0m, \u001b[1;36m-0.09818196\u001b[0m, \u001b[1;36m-0.09818196\u001b[0m, \u001b[33m...\u001b[0m, \u001b[1;36m-0.09818196\u001b[0m,\n",
       "          \u001b[1;36m-0.09818196\u001b[0m, \u001b[1;36m-0.09818196\u001b[0m\u001b[1m]\u001b[0m,\n",
       "         \u001b[1m[\u001b[0m\u001b[1;36m-0.09818196\u001b[0m, \u001b[1;36m-0.09818196\u001b[0m, \u001b[1;36m-0.09818196\u001b[0m, \u001b[33m...\u001b[0m, \u001b[1;36m-0.09818196\u001b[0m,\n",
       "          \u001b[1;36m-0.09818196\u001b[0m, \u001b[1;36m-0.09818196\u001b[0m\u001b[1m]\u001b[0m,\n",
       "         \u001b[33m...\u001b[0m,\n",
       "         \u001b[1m[\u001b[0m \u001b[1;36m6.0771103\u001b[0m ,  \u001b[1;36m6.0771103\u001b[0m ,  \u001b[1;36m6.0771103\u001b[0m , \u001b[33m...\u001b[0m,  \u001b[1;36m6.0771103\u001b[0m ,\n",
       "           \u001b[1;36m6.0771103\u001b[0m ,  \u001b[1;36m6.0771103\u001b[0m \u001b[1m]\u001b[0m,\n",
       "         \u001b[1m[\u001b[0m\u001b[1;36m-2.5102928\u001b[0m , \u001b[1;36m-2.5102928\u001b[0m , \u001b[1;36m-2.5102928\u001b[0m , \u001b[33m...\u001b[0m, \u001b[1;36m-2.5102928\u001b[0m ,\n",
       "          \u001b[1;36m-2.5102928\u001b[0m , \u001b[1;36m-2.5102928\u001b[0m \u001b[1m]\u001b[0m,\n",
       "         \u001b[1m[\u001b[0m\u001b[1;36m-3.538726\u001b[0m  , \u001b[1;36m-3.538726\u001b[0m  , \u001b[1;36m-3.538726\u001b[0m  , \u001b[33m...\u001b[0m, \u001b[1;36m-3.538726\u001b[0m  ,\n",
       "          \u001b[1;36m-3.538726\u001b[0m  , \u001b[1;36m-3.538726\u001b[0m  \u001b[1m]\u001b[0m\u001b[1m]\u001b[0m\u001b[1m]\u001b[0m\u001b[1m]\u001b[0m, \u001b[33mdtype\u001b[0m=\u001b[35mfloat32\u001b[0m\u001b[1m)\u001b[0m,\n",
       "    \u001b[32m'relu1'\u001b[0m: \u001b[1;35marray\u001b[0m\u001b[1m(\u001b[0m\u001b[1m[\u001b[0m\u001b[1m[\u001b[0m\u001b[1m[\u001b[0m\u001b[1m[\u001b[0m\u001b[1;36m0\u001b[0m.       , \u001b[1;36m0\u001b[0m.       , \u001b[1;36m0\u001b[0m.       , \u001b[33m...\u001b[0m, \u001b[1;36m0\u001b[0m.       , \u001b[1;36m0\u001b[0m.       ,\n",
       "          \u001b[1;36m0\u001b[0m.       \u001b[1m]\u001b[0m,\n",
       "         \u001b[1m[\u001b[0m\u001b[1;36m0\u001b[0m.       , \u001b[1;36m0\u001b[0m.       , \u001b[1;36m0\u001b[0m.       , \u001b[33m...\u001b[0m, \u001b[1;36m0\u001b[0m.       , \u001b[1;36m0\u001b[0m.       ,\n",
       "          \u001b[1;36m0\u001b[0m.       \u001b[1m]\u001b[0m,\n",
       "         \u001b[1m[\u001b[0m\u001b[1;36m0\u001b[0m.       , \u001b[1;36m0\u001b[0m.       , \u001b[1;36m0\u001b[0m.       , \u001b[33m...\u001b[0m, \u001b[1;36m0\u001b[0m.       , \u001b[1;36m0\u001b[0m.       ,\n",
       "          \u001b[1;36m0\u001b[0m.       \u001b[1m]\u001b[0m,\n",
       "         \u001b[33m...\u001b[0m,\n",
       "         \u001b[1m[\u001b[0m\u001b[1;36m0\u001b[0m.       , \u001b[1;36m0\u001b[0m.       , \u001b[1;36m0\u001b[0m.       , \u001b[33m...\u001b[0m, \u001b[1;36m0\u001b[0m.       , \u001b[1;36m0\u001b[0m.       ,\n",
       "          \u001b[1;36m0\u001b[0m.       \u001b[1m]\u001b[0m,\n",
       "         \u001b[1m[\u001b[0m\u001b[1;36m0\u001b[0m.       , \u001b[1;36m0\u001b[0m.       , \u001b[1;36m0\u001b[0m.       , \u001b[33m...\u001b[0m, \u001b[1;36m0\u001b[0m.       , \u001b[1;36m0\u001b[0m.       ,\n",
       "          \u001b[1;36m0\u001b[0m.       \u001b[1m]\u001b[0m,\n",
       "         \u001b[1m[\u001b[0m\u001b[1;36m0\u001b[0m.       , \u001b[1;36m0\u001b[0m.       , \u001b[1;36m0\u001b[0m.       , \u001b[33m...\u001b[0m, \u001b[1;36m0\u001b[0m.       , \u001b[1;36m0\u001b[0m.       ,\n",
       "          \u001b[1;36m0\u001b[0m.       \u001b[1m]\u001b[0m\u001b[1m]\u001b[0m\u001b[1m]\u001b[0m,\n",
       "\n",
       "\n",
       "       \u001b[1m[\u001b[0m\u001b[1m[\u001b[0m\u001b[1m[\u001b[0m\u001b[1;36m0\u001b[0m.       , \u001b[1;36m0\u001b[0m.       , \u001b[1;36m0\u001b[0m.       , \u001b[33m...\u001b[0m, \u001b[1;36m0\u001b[0m.       , \u001b[1;36m0\u001b[0m.       ,\n",
       "          \u001b[1;36m0\u001b[0m.       \u001b[1m]\u001b[0m,\n",
       "         \u001b[1m[\u001b[0m\u001b[1;36m0\u001b[0m.       , \u001b[1;36m0\u001b[0m.       , \u001b[1;36m0\u001b[0m.       , \u001b[33m...\u001b[0m, \u001b[1;36m0\u001b[0m.       , \u001b[1;36m0\u001b[0m.       ,\n",
       "          \u001b[1;36m0\u001b[0m.       \u001b[1m]\u001b[0m,\n",
       "         \u001b[1m[\u001b[0m\u001b[1;36m0\u001b[0m.       , \u001b[1;36m0\u001b[0m.       , \u001b[1;36m0\u001b[0m.       , \u001b[33m...\u001b[0m, \u001b[1;36m0\u001b[0m.       , \u001b[1;36m0\u001b[0m.       ,\n",
       "          \u001b[1;36m0\u001b[0m.       \u001b[1m]\u001b[0m,\n",
       "         \u001b[33m...\u001b[0m,\n",
       "         \u001b[1m[\u001b[0m\u001b[1;36m0\u001b[0m.       , \u001b[1;36m0\u001b[0m.       , \u001b[1;36m0\u001b[0m.       , \u001b[33m...\u001b[0m, \u001b[1;36m0\u001b[0m.       , \u001b[1;36m0\u001b[0m.       ,\n",
       "          \u001b[1;36m0\u001b[0m.       \u001b[1m]\u001b[0m,\n",
       "         \u001b[1m[\u001b[0m\u001b[1;36m0\u001b[0m.       , \u001b[1;36m0\u001b[0m.       , \u001b[1;36m0\u001b[0m.       , \u001b[33m...\u001b[0m, \u001b[1;36m0\u001b[0m.       , \u001b[1;36m0\u001b[0m.       ,\n",
       "          \u001b[1;36m0\u001b[0m.       \u001b[1m]\u001b[0m,\n",
       "         \u001b[1m[\u001b[0m\u001b[1;36m0\u001b[0m.       , \u001b[1;36m0\u001b[0m.       , \u001b[1;36m0\u001b[0m.       , \u001b[33m...\u001b[0m, \u001b[1;36m0\u001b[0m.       , \u001b[1;36m0\u001b[0m.       ,\n",
       "          \u001b[1;36m0\u001b[0m.       \u001b[1m]\u001b[0m\u001b[1m]\u001b[0m\u001b[1m]\u001b[0m,\n",
       "\n",
       "\n",
       "       \u001b[1m[\u001b[0m\u001b[1m[\u001b[0m\u001b[1m[\u001b[0m\u001b[1;36m0\u001b[0m.       , \u001b[1;36m0\u001b[0m.       , \u001b[1;36m0\u001b[0m.       , \u001b[33m...\u001b[0m, \u001b[1;36m0\u001b[0m.       , \u001b[1;36m0\u001b[0m.       ,\n",
       "          \u001b[1;36m0\u001b[0m.       \u001b[1m]\u001b[0m,\n",
       "         \u001b[1m[\u001b[0m\u001b[1;36m0\u001b[0m.       , \u001b[1;36m0\u001b[0m.       , \u001b[1;36m0\u001b[0m.       , \u001b[33m...\u001b[0m, \u001b[1;36m0\u001b[0m.       , \u001b[1;36m0\u001b[0m.       ,\n",
       "          \u001b[1;36m0\u001b[0m.       \u001b[1m]\u001b[0m,\n",
       "         \u001b[1m[\u001b[0m\u001b[1;36m0\u001b[0m.       , \u001b[1;36m0\u001b[0m.       , \u001b[1;36m0\u001b[0m.       , \u001b[33m...\u001b[0m, \u001b[1;36m0\u001b[0m.       , \u001b[1;36m0\u001b[0m.       ,\n",
       "          \u001b[1;36m0\u001b[0m.       \u001b[1m]\u001b[0m,\n",
       "         \u001b[33m...\u001b[0m,\n",
       "         \u001b[1m[\u001b[0m\u001b[1;36m0\u001b[0m.       , \u001b[1;36m0\u001b[0m.       , \u001b[1;36m0\u001b[0m.       , \u001b[33m...\u001b[0m, \u001b[1;36m0\u001b[0m.       , \u001b[1;36m0\u001b[0m.       ,\n",
       "          \u001b[1;36m0\u001b[0m.       \u001b[1m]\u001b[0m,\n",
       "         \u001b[1m[\u001b[0m\u001b[1;36m0\u001b[0m.       , \u001b[1;36m0\u001b[0m.       , \u001b[1;36m0\u001b[0m.       , \u001b[33m...\u001b[0m, \u001b[1;36m0\u001b[0m.       , \u001b[1;36m0\u001b[0m.       ,\n",
       "          \u001b[1;36m0\u001b[0m.       \u001b[1m]\u001b[0m,\n",
       "         \u001b[1m[\u001b[0m\u001b[1;36m0\u001b[0m.       , \u001b[1;36m0\u001b[0m.       , \u001b[1;36m0\u001b[0m.       , \u001b[33m...\u001b[0m, \u001b[1;36m0\u001b[0m.       , \u001b[1;36m0\u001b[0m.       ,\n",
       "          \u001b[1;36m0\u001b[0m.       \u001b[1m]\u001b[0m\u001b[1m]\u001b[0m\u001b[1m]\u001b[0m,\n",
       "\n",
       "\n",
       "       \u001b[33m...\u001b[0m,\n",
       "\n",
       "\n",
       "       \u001b[1m[\u001b[0m\u001b[1m[\u001b[0m\u001b[1m[\u001b[0m\u001b[1;36m0\u001b[0m.       , \u001b[1;36m0\u001b[0m.       , \u001b[1;36m0\u001b[0m.       , \u001b[33m...\u001b[0m, \u001b[1;36m0\u001b[0m.       , \u001b[1;36m4.1107473\u001b[0m,\n",
       "          \u001b[1;36m3.321349\u001b[0m \u001b[1m]\u001b[0m,\n",
       "         \u001b[1m[\u001b[0m\u001b[1;36m0\u001b[0m.       , \u001b[1;36m0\u001b[0m.       , \u001b[1;36m0\u001b[0m.       , \u001b[33m...\u001b[0m, \u001b[1;36m4.1107473\u001b[0m, \u001b[1;36m3.321349\u001b[0m ,\n",
       "          \u001b[1;36m0\u001b[0m.       \u001b[1m]\u001b[0m,\n",
       "         \u001b[1m[\u001b[0m\u001b[1;36m0\u001b[0m.       , \u001b[1;36m0\u001b[0m.       , \u001b[1;36m0\u001b[0m.       , \u001b[33m...\u001b[0m, \u001b[1;36m3.321349\u001b[0m , \u001b[1;36m0\u001b[0m.       ,\n",
       "          \u001b[1;36m0\u001b[0m.       \u001b[1m]\u001b[0m,\n",
       "         \u001b[33m...\u001b[0m,\n",
       "         \u001b[1m[\u001b[0m\u001b[1;36m0\u001b[0m.       , \u001b[1;36m4.1107473\u001b[0m, \u001b[1;36m3.321349\u001b[0m , \u001b[33m...\u001b[0m, \u001b[1;36m0\u001b[0m.       , \u001b[1;36m0\u001b[0m.       ,\n",
       "          \u001b[1;36m0\u001b[0m.       \u001b[1m]\u001b[0m,\n",
       "         \u001b[1m[\u001b[0m\u001b[1;36m4.1107473\u001b[0m, \u001b[1;36m3.321349\u001b[0m , \u001b[1;36m0\u001b[0m.       , \u001b[33m...\u001b[0m, \u001b[1;36m0\u001b[0m.       , \u001b[1;36m0\u001b[0m.       ,\n",
       "          \u001b[1;36m0\u001b[0m.       \u001b[1m]\u001b[0m,\n",
       "         \u001b[1m[\u001b[0m\u001b[1;36m3.321349\u001b[0m , \u001b[1;36m0\u001b[0m.       , \u001b[1;36m0\u001b[0m.       , \u001b[33m...\u001b[0m, \u001b[1;36m0\u001b[0m.       , \u001b[1;36m0\u001b[0m.       ,\n",
       "          \u001b[1;36m0\u001b[0m.       \u001b[1m]\u001b[0m\u001b[1m]\u001b[0m\u001b[1m]\u001b[0m,\n",
       "\n",
       "\n",
       "       \u001b[1m[\u001b[0m\u001b[1m[\u001b[0m\u001b[1m[\u001b[0m\u001b[1;36m0\u001b[0m.       , \u001b[1;36m0\u001b[0m.       , \u001b[1;36m0\u001b[0m.       , \u001b[33m...\u001b[0m, \u001b[1;36m0\u001b[0m.       , \u001b[1;36m0\u001b[0m.       ,\n",
       "          \u001b[1;36m0\u001b[0m.       \u001b[1m]\u001b[0m,\n",
       "         \u001b[1m[\u001b[0m\u001b[1;36m0\u001b[0m.       , \u001b[1;36m0\u001b[0m.       , \u001b[1;36m0\u001b[0m.       , \u001b[33m...\u001b[0m, \u001b[1;36m0\u001b[0m.       , \u001b[1;36m0\u001b[0m.       ,\n",
       "          \u001b[1;36m0\u001b[0m.       \u001b[1m]\u001b[0m,\n",
       "         \u001b[1m[\u001b[0m\u001b[1;36m0\u001b[0m.       , \u001b[1;36m0\u001b[0m.       , \u001b[1;36m0\u001b[0m.       , \u001b[33m...\u001b[0m, \u001b[1;36m0\u001b[0m.       , \u001b[1;36m0\u001b[0m.       ,\n",
       "          \u001b[1;36m0\u001b[0m.       \u001b[1m]\u001b[0m,\n",
       "         \u001b[33m...\u001b[0m,\n",
       "         \u001b[1m[\u001b[0m\u001b[1;36m0\u001b[0m.       , \u001b[1;36m0\u001b[0m.       , \u001b[1;36m0\u001b[0m.       , \u001b[33m...\u001b[0m, \u001b[1;36m0\u001b[0m.       , \u001b[1;36m0\u001b[0m.       ,\n",
       "          \u001b[1;36m0\u001b[0m.       \u001b[1m]\u001b[0m,\n",
       "         \u001b[1m[\u001b[0m\u001b[1;36m0\u001b[0m.       , \u001b[1;36m0\u001b[0m.       , \u001b[1;36m0\u001b[0m.       , \u001b[33m...\u001b[0m, \u001b[1;36m0\u001b[0m.       , \u001b[1;36m0\u001b[0m.       ,\n",
       "          \u001b[1;36m0\u001b[0m.       \u001b[1m]\u001b[0m,\n",
       "         \u001b[1m[\u001b[0m\u001b[1;36m0\u001b[0m.       , \u001b[1;36m0\u001b[0m.       , \u001b[1;36m0\u001b[0m.       , \u001b[33m...\u001b[0m, \u001b[1;36m0\u001b[0m.       , \u001b[1;36m0\u001b[0m.       ,\n",
       "          \u001b[1;36m0\u001b[0m.       \u001b[1m]\u001b[0m\u001b[1m]\u001b[0m\u001b[1m]\u001b[0m,\n",
       "\n",
       "\n",
       "       \u001b[1m[\u001b[0m\u001b[1m[\u001b[0m\u001b[1m[\u001b[0m\u001b[1;36m0\u001b[0m.       , \u001b[1;36m0\u001b[0m.       , \u001b[1;36m0\u001b[0m.       , \u001b[33m...\u001b[0m, \u001b[1;36m0\u001b[0m.       , \u001b[1;36m0\u001b[0m.       ,\n",
       "          \u001b[1;36m0\u001b[0m.       \u001b[1m]\u001b[0m,\n",
       "         \u001b[1m[\u001b[0m\u001b[1;36m0\u001b[0m.       , \u001b[1;36m0\u001b[0m.       , \u001b[1;36m0\u001b[0m.       , \u001b[33m...\u001b[0m, \u001b[1;36m0\u001b[0m.       , \u001b[1;36m0\u001b[0m.       ,\n",
       "          \u001b[1;36m0\u001b[0m.       \u001b[1m]\u001b[0m,\n",
       "         \u001b[1m[\u001b[0m\u001b[1;36m0\u001b[0m.       , \u001b[1;36m0\u001b[0m.       , \u001b[1;36m0\u001b[0m.       , \u001b[33m...\u001b[0m, \u001b[1;36m0\u001b[0m.       , \u001b[1;36m0\u001b[0m.       ,\n",
       "          \u001b[1;36m0\u001b[0m.       \u001b[1m]\u001b[0m,\n",
       "         \u001b[33m...\u001b[0m,\n",
       "         \u001b[1m[\u001b[0m\u001b[1;36m6.0771103\u001b[0m, \u001b[1;36m6.0771103\u001b[0m, \u001b[1;36m6.0771103\u001b[0m, \u001b[33m...\u001b[0m, \u001b[1;36m6.0771103\u001b[0m, \u001b[1;36m6.0771103\u001b[0m,\n",
       "          \u001b[1;36m6.0771103\u001b[0m\u001b[1m]\u001b[0m,\n",
       "         \u001b[1m[\u001b[0m\u001b[1;36m0\u001b[0m.       , \u001b[1;36m0\u001b[0m.       , \u001b[1;36m0\u001b[0m.       , \u001b[33m...\u001b[0m, \u001b[1;36m0\u001b[0m.       , \u001b[1;36m0\u001b[0m.       ,\n",
       "          \u001b[1;36m0\u001b[0m.       \u001b[1m]\u001b[0m,\n",
       "         \u001b[1m[\u001b[0m\u001b[1;36m0\u001b[0m.       , \u001b[1;36m0\u001b[0m.       , \u001b[1;36m0\u001b[0m.       , \u001b[33m...\u001b[0m, \u001b[1;36m0\u001b[0m.       , \u001b[1;36m0\u001b[0m.       ,\n",
       "          \u001b[1;36m0\u001b[0m.       \u001b[1m]\u001b[0m\u001b[1m]\u001b[0m\u001b[1m]\u001b[0m\u001b[1m]\u001b[0m, \u001b[33mdtype\u001b[0m=\u001b[35mfloat32\u001b[0m\u001b[1m)\u001b[0m,\n",
       "    \u001b[32m'maxp1'\u001b[0m: \u001b[1;35marray\u001b[0m\u001b[1m(\u001b[0m\u001b[1m[\u001b[0m\u001b[1m[\u001b[0m\u001b[1m[\u001b[0m\u001b[1m[\u001b[0m\u001b[1;36m0\u001b[0m.       , \u001b[1;36m0\u001b[0m.       , \u001b[1;36m0\u001b[0m.       , \u001b[1;36m0\u001b[0m.       \u001b[1m]\u001b[0m,\n",
       "         \u001b[1m[\u001b[0m\u001b[1;36m0\u001b[0m.       , \u001b[1;36m0\u001b[0m.       , \u001b[1;36m0\u001b[0m.       , \u001b[1;36m0\u001b[0m.       \u001b[1m]\u001b[0m,\n",
       "         \u001b[1m[\u001b[0m\u001b[1;36m0\u001b[0m.       , \u001b[1;36m0\u001b[0m.       , \u001b[1;36m0\u001b[0m.       , \u001b[1;36m0\u001b[0m.       \u001b[1m]\u001b[0m,\n",
       "         \u001b[1m[\u001b[0m\u001b[1;36m0\u001b[0m.       , \u001b[1;36m0\u001b[0m.       , \u001b[1;36m0\u001b[0m.       , \u001b[1;36m0\u001b[0m.       \u001b[1m]\u001b[0m\u001b[1m]\u001b[0m\u001b[1m]\u001b[0m,\n",
       "\n",
       "\n",
       "       \u001b[1m[\u001b[0m\u001b[1m[\u001b[0m\u001b[1m[\u001b[0m\u001b[1;36m0\u001b[0m.       , \u001b[1;36m0\u001b[0m.       , \u001b[1;36m0\u001b[0m.       , \u001b[1;36m0\u001b[0m.       \u001b[1m]\u001b[0m,\n",
       "         \u001b[1m[\u001b[0m\u001b[1;36m0\u001b[0m.       , \u001b[1;36m0\u001b[0m.       , \u001b[1;36m0\u001b[0m.       , \u001b[1;36m0\u001b[0m.       \u001b[1m]\u001b[0m,\n",
       "         \u001b[1m[\u001b[0m\u001b[1;36m0\u001b[0m.       , \u001b[1;36m0\u001b[0m.       , \u001b[1;36m0\u001b[0m.       , \u001b[1;36m0\u001b[0m.       \u001b[1m]\u001b[0m,\n",
       "         \u001b[1m[\u001b[0m\u001b[1;36m0\u001b[0m.       , \u001b[1;36m0\u001b[0m.       , \u001b[1;36m0\u001b[0m.       , \u001b[1;36m0\u001b[0m.       \u001b[1m]\u001b[0m\u001b[1m]\u001b[0m\u001b[1m]\u001b[0m,\n",
       "\n",
       "\n",
       "       \u001b[1m[\u001b[0m\u001b[1m[\u001b[0m\u001b[1m[\u001b[0m\u001b[1;36m0\u001b[0m.       , \u001b[1;36m0\u001b[0m.       , \u001b[1;36m0\u001b[0m.       , \u001b[1;36m0\u001b[0m.       \u001b[1m]\u001b[0m,\n",
       "         \u001b[1m[\u001b[0m\u001b[1;36m0\u001b[0m.       , \u001b[1;36m0\u001b[0m.       , \u001b[1;36m0\u001b[0m.       , \u001b[1;36m0\u001b[0m.       \u001b[1m]\u001b[0m,\n",
       "         \u001b[1m[\u001b[0m\u001b[1;36m0\u001b[0m.       , \u001b[1;36m0\u001b[0m.       , \u001b[1;36m0\u001b[0m.       , \u001b[1;36m0\u001b[0m.       \u001b[1m]\u001b[0m,\n",
       "         \u001b[1m[\u001b[0m\u001b[1;36m0\u001b[0m.       , \u001b[1;36m0\u001b[0m.       , \u001b[1;36m0\u001b[0m.       , \u001b[1;36m0\u001b[0m.       \u001b[1m]\u001b[0m\u001b[1m]\u001b[0m\u001b[1m]\u001b[0m,\n",
       "\n",
       "\n",
       "       \u001b[1m[\u001b[0m\u001b[1m[\u001b[0m\u001b[1m[\u001b[0m\u001b[1;36m0\u001b[0m.       , \u001b[1;36m5.659236\u001b[0m , \u001b[1;36m0\u001b[0m.       , \u001b[1;36m0\u001b[0m.       \u001b[1m]\u001b[0m,\n",
       "         \u001b[1m[\u001b[0m\u001b[1;36m0\u001b[0m.       , \u001b[1;36m5.659236\u001b[0m , \u001b[1;36m0\u001b[0m.       , \u001b[1;36m0\u001b[0m.       \u001b[1m]\u001b[0m,\n",
       "         \u001b[1m[\u001b[0m\u001b[1;36m0\u001b[0m.       , \u001b[1;36m5.659236\u001b[0m , \u001b[1;36m0\u001b[0m.       , \u001b[1;36m0\u001b[0m.       \u001b[1m]\u001b[0m,\n",
       "         \u001b[1m[\u001b[0m\u001b[1;36m0\u001b[0m.       , \u001b[1;36m5.659236\u001b[0m , \u001b[1;36m0\u001b[0m.       , \u001b[1;36m0\u001b[0m.       \u001b[1m]\u001b[0m\u001b[1m]\u001b[0m\u001b[1m]\u001b[0m,\n",
       "\n",
       "\n",
       "       \u001b[1m[\u001b[0m\u001b[1m[\u001b[0m\u001b[1m[\u001b[0m\u001b[1;36m0\u001b[0m.       , \u001b[1;36m0\u001b[0m.       , \u001b[1;36m5.659236\u001b[0m , \u001b[1;36m0\u001b[0m.       \u001b[1m]\u001b[0m,\n",
       "         \u001b[1m[\u001b[0m\u001b[1;36m0\u001b[0m.       , \u001b[1;36m0\u001b[0m.       , \u001b[1;36m5.659236\u001b[0m , \u001b[1;36m0\u001b[0m.       \u001b[1m]\u001b[0m,\n",
       "         \u001b[1m[\u001b[0m\u001b[1;36m0\u001b[0m.       , \u001b[1;36m0\u001b[0m.       , \u001b[1;36m5.659236\u001b[0m , \u001b[1;36m0\u001b[0m.       \u001b[1m]\u001b[0m,\n",
       "         \u001b[1m[\u001b[0m\u001b[1;36m0\u001b[0m.       , \u001b[1;36m0\u001b[0m.       , \u001b[1;36m5.659236\u001b[0m , \u001b[1;36m0\u001b[0m.       \u001b[1m]\u001b[0m\u001b[1m]\u001b[0m\u001b[1m]\u001b[0m,\n",
       "\n",
       "\n",
       "       \u001b[1m[\u001b[0m\u001b[1m[\u001b[0m\u001b[1m[\u001b[0m\u001b[1;36m0\u001b[0m.       , \u001b[1;36m5.659236\u001b[0m , \u001b[1;36m0\u001b[0m.       , \u001b[1;36m0\u001b[0m.       \u001b[1m]\u001b[0m,\n",
       "         \u001b[1m[\u001b[0m\u001b[1;36m0\u001b[0m.       , \u001b[1;36m5.659236\u001b[0m , \u001b[1;36m0\u001b[0m.       , \u001b[1;36m0\u001b[0m.       \u001b[1m]\u001b[0m,\n",
       "         \u001b[1m[\u001b[0m\u001b[1;36m0\u001b[0m.       , \u001b[1;36m5.659236\u001b[0m , \u001b[1;36m0\u001b[0m.       , \u001b[1;36m0\u001b[0m.       \u001b[1m]\u001b[0m,\n",
       "         \u001b[1m[\u001b[0m\u001b[1;36m0\u001b[0m.       , \u001b[1;36m5.659236\u001b[0m , \u001b[1;36m0\u001b[0m.       , \u001b[1;36m0\u001b[0m.       \u001b[1m]\u001b[0m\u001b[1m]\u001b[0m\u001b[1m]\u001b[0m,\n",
       "\n",
       "\n",
       "       \u001b[1m[\u001b[0m\u001b[1m[\u001b[0m\u001b[1m[\u001b[0m\u001b[1;36m0\u001b[0m.       , \u001b[1;36m0\u001b[0m.       , \u001b[1;36m0\u001b[0m.       , \u001b[1;36m0\u001b[0m.       \u001b[1m]\u001b[0m,\n",
       "         \u001b[1m[\u001b[0m\u001b[1;36m0\u001b[0m.       , \u001b[1;36m0\u001b[0m.       , \u001b[1;36m0\u001b[0m.       , \u001b[1;36m0\u001b[0m.       \u001b[1m]\u001b[0m,\n",
       "         \u001b[1m[\u001b[0m\u001b[1;36m0\u001b[0m.       , \u001b[1;36m0\u001b[0m.       , \u001b[1;36m0\u001b[0m.       , \u001b[1;36m0\u001b[0m.       \u001b[1m]\u001b[0m,\n",
       "         \u001b[1m[\u001b[0m\u001b[1;36m0\u001b[0m.       , \u001b[1;36m0\u001b[0m.       , \u001b[1;36m0\u001b[0m.       , \u001b[1;36m0\u001b[0m.       \u001b[1m]\u001b[0m\u001b[1m]\u001b[0m\u001b[1m]\u001b[0m,\n",
       "\n",
       "\n",
       "       \u001b[1m[\u001b[0m\u001b[1m[\u001b[0m\u001b[1m[\u001b[0m\u001b[1;36m0\u001b[0m.       , \u001b[1;36m0\u001b[0m.       , \u001b[1;36m0\u001b[0m.       , \u001b[1;36m0\u001b[0m.       \u001b[1m]\u001b[0m,\n",
       "         \u001b[1m[\u001b[0m\u001b[1;36m0\u001b[0m.       , \u001b[1;36m0\u001b[0m.       , \u001b[1;36m0\u001b[0m.       , \u001b[1;36m0\u001b[0m.       \u001b[1m]\u001b[0m,\n",
       "         \u001b[1m[\u001b[0m\u001b[1;36m0\u001b[0m.       , \u001b[1;36m0\u001b[0m.       , \u001b[1;36m0\u001b[0m.       , \u001b[1;36m0\u001b[0m.       \u001b[1m]\u001b[0m,\n",
       "         \u001b[1m[\u001b[0m\u001b[1;36m0\u001b[0m.       , \u001b[1;36m0\u001b[0m.       , \u001b[1;36m0\u001b[0m.       , \u001b[1;36m0\u001b[0m.       \u001b[1m]\u001b[0m\u001b[1m]\u001b[0m\u001b[1m]\u001b[0m,\n",
       "\n",
       "\n",
       "       \u001b[1m[\u001b[0m\u001b[1m[\u001b[0m\u001b[1m[\u001b[0m\u001b[1;36m0\u001b[0m.       , \u001b[1;36m0\u001b[0m.       , \u001b[1;36m0\u001b[0m.       , \u001b[1;36m0\u001b[0m.       \u001b[1m]\u001b[0m,\n",
       "         \u001b[1m[\u001b[0m\u001b[1;36m0\u001b[0m.       , \u001b[1;36m0\u001b[0m.       , \u001b[1;36m0\u001b[0m.       , \u001b[1;36m0\u001b[0m.       \u001b[1m]\u001b[0m,\n",
       "         \u001b[1m[\u001b[0m\u001b[1;36m0\u001b[0m.       , \u001b[1;36m0\u001b[0m.       , \u001b[1;36m0\u001b[0m.       , \u001b[1;36m0\u001b[0m.       \u001b[1m]\u001b[0m,\n",
       "         \u001b[1m[\u001b[0m\u001b[1;36m0\u001b[0m.       , \u001b[1;36m0\u001b[0m.       , \u001b[1;36m0\u001b[0m.       , \u001b[1;36m0\u001b[0m.       \u001b[1m]\u001b[0m\u001b[1m]\u001b[0m\u001b[1m]\u001b[0m,\n",
       "\n",
       "\n",
       "       \u001b[1m[\u001b[0m\u001b[1m[\u001b[0m\u001b[1m[\u001b[0m\u001b[1;36m4.1107473\u001b[0m, \u001b[1;36m4.1107473\u001b[0m, \u001b[1;36m0\u001b[0m.       , \u001b[1;36m0\u001b[0m.       \u001b[1m]\u001b[0m,\n",
       "         \u001b[1m[\u001b[0m\u001b[1;36m4.1107473\u001b[0m, \u001b[1;36m0\u001b[0m.       , \u001b[1;36m0\u001b[0m.       , \u001b[1;36m0\u001b[0m.       \u001b[1m]\u001b[0m,\n",
       "         \u001b[1m[\u001b[0m\u001b[1;36m0\u001b[0m.       , \u001b[1;36m0\u001b[0m.       , \u001b[1;36m0\u001b[0m.       , \u001b[1;36m0\u001b[0m.       \u001b[1m]\u001b[0m,\n",
       "         \u001b[1m[\u001b[0m\u001b[1;36m0\u001b[0m.       , \u001b[1;36m0\u001b[0m.       , \u001b[1;36m0\u001b[0m.       , \u001b[1;36m0\u001b[0m.       \u001b[1m]\u001b[0m\u001b[1m]\u001b[0m\u001b[1m]\u001b[0m,\n",
       "\n",
       "\n",
       "       \u001b[1m[\u001b[0m\u001b[1m[\u001b[0m\u001b[1m[\u001b[0m\u001b[1;36m0\u001b[0m.       , \u001b[1;36m0\u001b[0m.       , \u001b[1;36m0\u001b[0m.       , \u001b[1;36m0\u001b[0m.       \u001b[1m]\u001b[0m,\n",
       "         \u001b[1m[\u001b[0m\u001b[1;36m0\u001b[0m.       , \u001b[1;36m0\u001b[0m.       , \u001b[1;36m0\u001b[0m.       , \u001b[1;36m0\u001b[0m.       \u001b[1m]\u001b[0m,\n",
       "         \u001b[1m[\u001b[0m\u001b[1;36m0\u001b[0m.       , \u001b[1;36m0\u001b[0m.       , \u001b[1;36m0\u001b[0m.       , \u001b[1;36m0\u001b[0m.       \u001b[1m]\u001b[0m,\n",
       "         \u001b[1m[\u001b[0m\u001b[1;36m6.0771103\u001b[0m, \u001b[1;36m6.0771103\u001b[0m, \u001b[1;36m6.0771103\u001b[0m, \u001b[1;36m6.0771103\u001b[0m\u001b[1m]\u001b[0m\u001b[1m]\u001b[0m\u001b[1m]\u001b[0m,\n",
       "\n",
       "\n",
       "       \u001b[1m[\u001b[0m\u001b[1m[\u001b[0m\u001b[1m[\u001b[0m\u001b[1;36m4.1107473\u001b[0m, \u001b[1;36m0\u001b[0m.       , \u001b[1;36m0\u001b[0m.       , \u001b[1;36m0\u001b[0m.       \u001b[1m]\u001b[0m,\n",
       "         \u001b[1m[\u001b[0m\u001b[1;36m0\u001b[0m.       , \u001b[1;36m0\u001b[0m.       , \u001b[1;36m0\u001b[0m.       , \u001b[1;36m0\u001b[0m.       \u001b[1m]\u001b[0m,\n",
       "         \u001b[1m[\u001b[0m\u001b[1;36m0\u001b[0m.       , \u001b[1;36m0\u001b[0m.       , \u001b[1;36m0\u001b[0m.       , \u001b[1;36m0\u001b[0m.       \u001b[1m]\u001b[0m,\n",
       "         \u001b[1m[\u001b[0m\u001b[1;36m0\u001b[0m.       , \u001b[1;36m0\u001b[0m.       , \u001b[1;36m0\u001b[0m.       , \u001b[1;36m0\u001b[0m.       \u001b[1m]\u001b[0m\u001b[1m]\u001b[0m\u001b[1m]\u001b[0m,\n",
       "\n",
       "\n",
       "       \u001b[1m[\u001b[0m\u001b[1m[\u001b[0m\u001b[1m[\u001b[0m\u001b[1;36m0\u001b[0m.       , \u001b[1;36m0\u001b[0m.       , \u001b[1;36m0\u001b[0m.       , \u001b[1;36m0\u001b[0m.       \u001b[1m]\u001b[0m,\n",
       "         \u001b[1m[\u001b[0m\u001b[1;36m0\u001b[0m.       , \u001b[1;36m0\u001b[0m.       , \u001b[1;36m0\u001b[0m.       , \u001b[1;36m0\u001b[0m.       \u001b[1m]\u001b[0m,\n",
       "         \u001b[1m[\u001b[0m\u001b[1;36m0\u001b[0m.       , \u001b[1;36m0\u001b[0m.       , \u001b[1;36m0\u001b[0m.       , \u001b[1;36m0\u001b[0m.       \u001b[1m]\u001b[0m,\n",
       "         \u001b[1m[\u001b[0m\u001b[1;36m0\u001b[0m.       , \u001b[1;36m0\u001b[0m.       , \u001b[1;36m0\u001b[0m.       , \u001b[1;36m0\u001b[0m.       \u001b[1m]\u001b[0m\u001b[1m]\u001b[0m\u001b[1m]\u001b[0m,\n",
       "\n",
       "\n",
       "       \u001b[1m[\u001b[0m\u001b[1m[\u001b[0m\u001b[1m[\u001b[0m\u001b[1;36m0\u001b[0m.       , \u001b[1;36m0\u001b[0m.       , \u001b[1;36m4.1107473\u001b[0m, \u001b[1;36m4.1107473\u001b[0m\u001b[1m]\u001b[0m,\n",
       "         \u001b[1m[\u001b[0m\u001b[1;36m0\u001b[0m.       , \u001b[1;36m4.1107473\u001b[0m, \u001b[1;36m4.1107473\u001b[0m, \u001b[1;36m0\u001b[0m.       \u001b[1m]\u001b[0m,\n",
       "         \u001b[1m[\u001b[0m\u001b[1;36m4.1107473\u001b[0m, \u001b[1;36m4.1107473\u001b[0m, \u001b[1;36m0\u001b[0m.       , \u001b[1;36m0\u001b[0m.       \u001b[1m]\u001b[0m,\n",
       "         \u001b[1m[\u001b[0m\u001b[1;36m4.1107473\u001b[0m, \u001b[1;36m0\u001b[0m.       , \u001b[1;36m0\u001b[0m.       , \u001b[1;36m0\u001b[0m.       \u001b[1m]\u001b[0m\u001b[1m]\u001b[0m\u001b[1m]\u001b[0m,\n",
       "\n",
       "\n",
       "       \u001b[1m[\u001b[0m\u001b[1m[\u001b[0m\u001b[1m[\u001b[0m\u001b[1;36m0\u001b[0m.       , \u001b[1;36m0\u001b[0m.       , \u001b[1;36m0\u001b[0m.       , \u001b[1;36m0\u001b[0m.       \u001b[1m]\u001b[0m,\n",
       "         \u001b[1m[\u001b[0m\u001b[1;36m0\u001b[0m.       , \u001b[1;36m0\u001b[0m.       , \u001b[1;36m0\u001b[0m.       , \u001b[1;36m0\u001b[0m.       \u001b[1m]\u001b[0m,\n",
       "         \u001b[1m[\u001b[0m\u001b[1;36m0\u001b[0m.       , \u001b[1;36m0\u001b[0m.       , \u001b[1;36m0\u001b[0m.       , \u001b[1;36m0\u001b[0m.       \u001b[1m]\u001b[0m,\n",
       "         \u001b[1m[\u001b[0m\u001b[1;36m0\u001b[0m.       , \u001b[1;36m0\u001b[0m.       , \u001b[1;36m0\u001b[0m.       , \u001b[1;36m0\u001b[0m.       \u001b[1m]\u001b[0m\u001b[1m]\u001b[0m\u001b[1m]\u001b[0m,\n",
       "\n",
       "\n",
       "       \u001b[1m[\u001b[0m\u001b[1m[\u001b[0m\u001b[1m[\u001b[0m\u001b[1;36m0\u001b[0m.       , \u001b[1;36m0\u001b[0m.       , \u001b[1;36m0\u001b[0m.       , \u001b[1;36m0\u001b[0m.       \u001b[1m]\u001b[0m,\n",
       "         \u001b[1m[\u001b[0m\u001b[1;36m0\u001b[0m.       , \u001b[1;36m0\u001b[0m.       , \u001b[1;36m0\u001b[0m.       , \u001b[1;36m0\u001b[0m.       \u001b[1m]\u001b[0m,\n",
       "         \u001b[1m[\u001b[0m\u001b[1;36m6.0771103\u001b[0m, \u001b[1;36m6.0771103\u001b[0m, \u001b[1;36m6.0771103\u001b[0m, \u001b[1;36m6.0771103\u001b[0m\u001b[1m]\u001b[0m,\n",
       "         \u001b[1m[\u001b[0m\u001b[1;36m0\u001b[0m.       , \u001b[1;36m0\u001b[0m.       , \u001b[1;36m0\u001b[0m.       , \u001b[1;36m0\u001b[0m.       \u001b[1m]\u001b[0m\u001b[1m]\u001b[0m\u001b[1m]\u001b[0m\u001b[1m]\u001b[0m, \u001b[33mdtype\u001b[0m=\u001b[35mfloat32\u001b[0m\u001b[1m)\u001b[0m,\n",
       "    \u001b[32m'flatten'\u001b[0m: \u001b[1;35marray\u001b[0m\u001b[1m(\u001b[0m\u001b[1m[\u001b[0m\u001b[1m[\u001b[0m\u001b[1;36m0\u001b[0m.       , \u001b[1;36m0\u001b[0m.       , \u001b[1;36m0\u001b[0m.       , \u001b[1;36m0\u001b[0m.       , \u001b[1;36m0\u001b[0m.       , \u001b[1;36m0\u001b[0m.       ,\n",
       "        \u001b[1;36m0\u001b[0m.       , \u001b[1;36m0\u001b[0m.       , \u001b[1;36m0\u001b[0m.       , \u001b[1;36m0\u001b[0m.       , \u001b[1;36m0\u001b[0m.       , \u001b[1;36m0\u001b[0m.       ,\n",
       "        \u001b[1;36m0\u001b[0m.       , \u001b[1;36m0\u001b[0m.       , \u001b[1;36m0\u001b[0m.       , \u001b[1;36m0\u001b[0m.       \u001b[1m]\u001b[0m,\n",
       "       \u001b[1m[\u001b[0m\u001b[1;36m0\u001b[0m.       , \u001b[1;36m0\u001b[0m.       , \u001b[1;36m0\u001b[0m.       , \u001b[1;36m0\u001b[0m.       , \u001b[1;36m0\u001b[0m.       , \u001b[1;36m0\u001b[0m.       ,\n",
       "        \u001b[1;36m0\u001b[0m.       , \u001b[1;36m0\u001b[0m.       , \u001b[1;36m0\u001b[0m.       , \u001b[1;36m0\u001b[0m.       , \u001b[1;36m0\u001b[0m.       , \u001b[1;36m0\u001b[0m.       ,\n",
       "        \u001b[1;36m0\u001b[0m.       , \u001b[1;36m0\u001b[0m.       , \u001b[1;36m0\u001b[0m.       , \u001b[1;36m0\u001b[0m.       \u001b[1m]\u001b[0m,\n",
       "       \u001b[1m[\u001b[0m\u001b[1;36m0\u001b[0m.       , \u001b[1;36m0\u001b[0m.       , \u001b[1;36m0\u001b[0m.       , \u001b[1;36m0\u001b[0m.       , \u001b[1;36m0\u001b[0m.       , \u001b[1;36m0\u001b[0m.       ,\n",
       "        \u001b[1;36m0\u001b[0m.       , \u001b[1;36m0\u001b[0m.       , \u001b[1;36m0\u001b[0m.       , \u001b[1;36m0\u001b[0m.       , \u001b[1;36m0\u001b[0m.       , \u001b[1;36m0\u001b[0m.       ,\n",
       "        \u001b[1;36m0\u001b[0m.       , \u001b[1;36m0\u001b[0m.       , \u001b[1;36m0\u001b[0m.       , \u001b[1;36m0\u001b[0m.       \u001b[1m]\u001b[0m,\n",
       "       \u001b[1m[\u001b[0m\u001b[1;36m0\u001b[0m.       , \u001b[1;36m5.659236\u001b[0m , \u001b[1;36m0\u001b[0m.       , \u001b[1;36m0\u001b[0m.       , \u001b[1;36m0\u001b[0m.       , \u001b[1;36m5.659236\u001b[0m ,\n",
       "        \u001b[1;36m0\u001b[0m.       , \u001b[1;36m0\u001b[0m.       , \u001b[1;36m0\u001b[0m.       , \u001b[1;36m5.659236\u001b[0m , \u001b[1;36m0\u001b[0m.       , \u001b[1;36m0\u001b[0m.       ,\n",
       "        \u001b[1;36m0\u001b[0m.       , \u001b[1;36m5.659236\u001b[0m , \u001b[1;36m0\u001b[0m.       , \u001b[1;36m0\u001b[0m.       \u001b[1m]\u001b[0m,\n",
       "       \u001b[1m[\u001b[0m\u001b[1;36m0\u001b[0m.       , \u001b[1;36m0\u001b[0m.       , \u001b[1;36m5.659236\u001b[0m , \u001b[1;36m0\u001b[0m.       , \u001b[1;36m0\u001b[0m.       , \u001b[1;36m0\u001b[0m.       ,\n",
       "        \u001b[1;36m5.659236\u001b[0m , \u001b[1;36m0\u001b[0m.       , \u001b[1;36m0\u001b[0m.       , \u001b[1;36m0\u001b[0m.       , \u001b[1;36m5.659236\u001b[0m , \u001b[1;36m0\u001b[0m.       ,\n",
       "        \u001b[1;36m0\u001b[0m.       , \u001b[1;36m0\u001b[0m.       , \u001b[1;36m5.659236\u001b[0m , \u001b[1;36m0\u001b[0m.       \u001b[1m]\u001b[0m,\n",
       "       \u001b[1m[\u001b[0m\u001b[1;36m0\u001b[0m.       , \u001b[1;36m5.659236\u001b[0m , \u001b[1;36m0\u001b[0m.       , \u001b[1;36m0\u001b[0m.       , \u001b[1;36m0\u001b[0m.       , \u001b[1;36m5.659236\u001b[0m ,\n",
       "        \u001b[1;36m0\u001b[0m.       , \u001b[1;36m0\u001b[0m.       , \u001b[1;36m0\u001b[0m.       , \u001b[1;36m5.659236\u001b[0m , \u001b[1;36m0\u001b[0m.       , \u001b[1;36m0\u001b[0m.       ,\n",
       "        \u001b[1;36m0\u001b[0m.       , \u001b[1;36m5.659236\u001b[0m , \u001b[1;36m0\u001b[0m.       , \u001b[1;36m0\u001b[0m.       \u001b[1m]\u001b[0m,\n",
       "       \u001b[1m[\u001b[0m\u001b[1;36m0\u001b[0m.       , \u001b[1;36m0\u001b[0m.       , \u001b[1;36m0\u001b[0m.       , \u001b[1;36m0\u001b[0m.       , \u001b[1;36m0\u001b[0m.       , \u001b[1;36m0\u001b[0m.       ,\n",
       "        \u001b[1;36m0\u001b[0m.       , \u001b[1;36m0\u001b[0m.       , \u001b[1;36m0\u001b[0m.       , \u001b[1;36m0\u001b[0m.       , \u001b[1;36m0\u001b[0m.       , \u001b[1;36m0\u001b[0m.       ,\n",
       "        \u001b[1;36m0\u001b[0m.       , \u001b[1;36m0\u001b[0m.       , \u001b[1;36m0\u001b[0m.       , \u001b[1;36m0\u001b[0m.       \u001b[1m]\u001b[0m,\n",
       "       \u001b[1m[\u001b[0m\u001b[1;36m0\u001b[0m.       , \u001b[1;36m0\u001b[0m.       , \u001b[1;36m0\u001b[0m.       , \u001b[1;36m0\u001b[0m.       , \u001b[1;36m0\u001b[0m.       , \u001b[1;36m0\u001b[0m.       ,\n",
       "        \u001b[1;36m0\u001b[0m.       , \u001b[1;36m0\u001b[0m.       , \u001b[1;36m0\u001b[0m.       , \u001b[1;36m0\u001b[0m.       , \u001b[1;36m0\u001b[0m.       , \u001b[1;36m0\u001b[0m.       ,\n",
       "        \u001b[1;36m0\u001b[0m.       , \u001b[1;36m0\u001b[0m.       , \u001b[1;36m0\u001b[0m.       , \u001b[1;36m0\u001b[0m.       \u001b[1m]\u001b[0m,\n",
       "       \u001b[1m[\u001b[0m\u001b[1;36m0\u001b[0m.       , \u001b[1;36m0\u001b[0m.       , \u001b[1;36m0\u001b[0m.       , \u001b[1;36m0\u001b[0m.       , \u001b[1;36m0\u001b[0m.       , \u001b[1;36m0\u001b[0m.       ,\n",
       "        \u001b[1;36m0\u001b[0m.       , \u001b[1;36m0\u001b[0m.       , \u001b[1;36m0\u001b[0m.       , \u001b[1;36m0\u001b[0m.       , \u001b[1;36m0\u001b[0m.       , \u001b[1;36m0\u001b[0m.       ,\n",
       "        \u001b[1;36m0\u001b[0m.       , \u001b[1;36m0\u001b[0m.       , \u001b[1;36m0\u001b[0m.       , \u001b[1;36m0\u001b[0m.       \u001b[1m]\u001b[0m,\n",
       "       \u001b[1m[\u001b[0m\u001b[1;36m4.1107473\u001b[0m, \u001b[1;36m4.1107473\u001b[0m, \u001b[1;36m0\u001b[0m.       , \u001b[1;36m0\u001b[0m.       , \u001b[1;36m4.1107473\u001b[0m, \u001b[1;36m0\u001b[0m.       ,\n",
       "        \u001b[1;36m0\u001b[0m.       , \u001b[1;36m0\u001b[0m.       , \u001b[1;36m0\u001b[0m.       , \u001b[1;36m0\u001b[0m.       , \u001b[1;36m0\u001b[0m.       , \u001b[1;36m0\u001b[0m.       ,\n",
       "        \u001b[1;36m0\u001b[0m.       , \u001b[1;36m0\u001b[0m.       , \u001b[1;36m0\u001b[0m.       , \u001b[1;36m0\u001b[0m.       \u001b[1m]\u001b[0m,\n",
       "       \u001b[1m[\u001b[0m\u001b[1;36m0\u001b[0m.       , \u001b[1;36m0\u001b[0m.       , \u001b[1;36m0\u001b[0m.       , \u001b[1;36m0\u001b[0m.       , \u001b[1;36m0\u001b[0m.       , \u001b[1;36m0\u001b[0m.       ,\n",
       "        \u001b[1;36m0\u001b[0m.       , \u001b[1;36m0\u001b[0m.       , \u001b[1;36m0\u001b[0m.       , \u001b[1;36m0\u001b[0m.       , \u001b[1;36m0\u001b[0m.       , \u001b[1;36m0\u001b[0m.       ,\n",
       "        \u001b[1;36m6.0771103\u001b[0m, \u001b[1;36m6.0771103\u001b[0m, \u001b[1;36m6.0771103\u001b[0m, \u001b[1;36m6.0771103\u001b[0m\u001b[1m]\u001b[0m,\n",
       "       \u001b[1m[\u001b[0m\u001b[1;36m4.1107473\u001b[0m, \u001b[1;36m0\u001b[0m.       , \u001b[1;36m0\u001b[0m.       , \u001b[1;36m0\u001b[0m.       , \u001b[1;36m0\u001b[0m.       , \u001b[1;36m0\u001b[0m.       ,\n",
       "        \u001b[1;36m0\u001b[0m.       , \u001b[1;36m0\u001b[0m.       , \u001b[1;36m0\u001b[0m.       , \u001b[1;36m0\u001b[0m.       , \u001b[1;36m0\u001b[0m.       , \u001b[1;36m0\u001b[0m.       ,\n",
       "        \u001b[1;36m0\u001b[0m.       , \u001b[1;36m0\u001b[0m.       , \u001b[1;36m0\u001b[0m.       , \u001b[1;36m0\u001b[0m.       \u001b[1m]\u001b[0m,\n",
       "       \u001b[1m[\u001b[0m\u001b[1;36m0\u001b[0m.       , \u001b[1;36m0\u001b[0m.       , \u001b[1;36m0\u001b[0m.       , \u001b[1;36m0\u001b[0m.       , \u001b[1;36m0\u001b[0m.       , \u001b[1;36m0\u001b[0m.       ,\n",
       "        \u001b[1;36m0\u001b[0m.       , \u001b[1;36m0\u001b[0m.       , \u001b[1;36m0\u001b[0m.       , \u001b[1;36m0\u001b[0m.       , \u001b[1;36m0\u001b[0m.       , \u001b[1;36m0\u001b[0m.       ,\n",
       "        \u001b[1;36m0\u001b[0m.       , \u001b[1;36m0\u001b[0m.       , \u001b[1;36m0\u001b[0m.       , \u001b[1;36m0\u001b[0m.       \u001b[1m]\u001b[0m,\n",
       "       \u001b[1m[\u001b[0m\u001b[1;36m0\u001b[0m.       , \u001b[1;36m0\u001b[0m.       , \u001b[1;36m4.1107473\u001b[0m, \u001b[1;36m4.1107473\u001b[0m, \u001b[1;36m0\u001b[0m.       , \u001b[1;36m4.1107473\u001b[0m,\n",
       "        \u001b[1;36m4.1107473\u001b[0m, \u001b[1;36m0\u001b[0m.       , \u001b[1;36m4.1107473\u001b[0m, \u001b[1;36m4.1107473\u001b[0m, \u001b[1;36m0\u001b[0m.       , \u001b[1;36m0\u001b[0m.       ,\n",
       "        \u001b[1;36m4.1107473\u001b[0m, \u001b[1;36m0\u001b[0m.       , \u001b[1;36m0\u001b[0m.       , \u001b[1;36m0\u001b[0m.       \u001b[1m]\u001b[0m,\n",
       "       \u001b[1m[\u001b[0m\u001b[1;36m0\u001b[0m.       , \u001b[1;36m0\u001b[0m.       , \u001b[1;36m0\u001b[0m.       , \u001b[1;36m0\u001b[0m.       , \u001b[1;36m0\u001b[0m.       , \u001b[1;36m0\u001b[0m.       ,\n",
       "        \u001b[1;36m0\u001b[0m.       , \u001b[1;36m0\u001b[0m.       , \u001b[1;36m0\u001b[0m.       , \u001b[1;36m0\u001b[0m.       , \u001b[1;36m0\u001b[0m.       , \u001b[1;36m0\u001b[0m.       ,\n",
       "        \u001b[1;36m0\u001b[0m.       , \u001b[1;36m0\u001b[0m.       , \u001b[1;36m0\u001b[0m.       , \u001b[1;36m0\u001b[0m.       \u001b[1m]\u001b[0m,\n",
       "       \u001b[1m[\u001b[0m\u001b[1;36m0\u001b[0m.       , \u001b[1;36m0\u001b[0m.       , \u001b[1;36m0\u001b[0m.       , \u001b[1;36m0\u001b[0m.       , \u001b[1;36m0\u001b[0m.       , \u001b[1;36m0\u001b[0m.       ,\n",
       "        \u001b[1;36m0\u001b[0m.       , \u001b[1;36m0\u001b[0m.       , \u001b[1;36m6.0771103\u001b[0m, \u001b[1;36m6.0771103\u001b[0m, \u001b[1;36m6.0771103\u001b[0m, \u001b[1;36m6.0771103\u001b[0m,\n",
       "        \u001b[1;36m0\u001b[0m.       , \u001b[1;36m0\u001b[0m.       , \u001b[1;36m0\u001b[0m.       , \u001b[1;36m0\u001b[0m.       \u001b[1m]\u001b[0m\u001b[1m]\u001b[0m, \u001b[33mdtype\u001b[0m=\u001b[35mfloat32\u001b[0m\u001b[1m)\u001b[0m,\n",
       "    \u001b[32m'fc1'\u001b[0m: \u001b[1;35marray\u001b[0m\u001b[1m(\u001b[0m\u001b[1m[\u001b[0m\u001b[1m[\u001b[0m \u001b[1;36m9.6244439e-02\u001b[0m, \u001b[1;36m-2.5688073e-01\u001b[0m, \u001b[1;36m-5.2451029e-02\u001b[0m,  \u001b[1;36m2.8408942e-01\u001b[0m,\n",
       "        \u001b[1;36m-3.7490632e-02\u001b[0m,  \u001b[1;36m2.7037218e-01\u001b[0m,  \u001b[1;36m3.7306648e-01\u001b[0m,  \u001b[1;36m3.6741266e-01\u001b[0m,\n",
       "        \u001b[1;36m-3.1490374e-02\u001b[0m, \u001b[1;36m-1.2003372e-01\u001b[0m\u001b[1m]\u001b[0m,\n",
       "       \u001b[1m[\u001b[0m \u001b[1;36m9.6244439e-02\u001b[0m, \u001b[1;36m-2.5688073e-01\u001b[0m, \u001b[1;36m-5.2451029e-02\u001b[0m,  \u001b[1;36m2.8408942e-01\u001b[0m,\n",
       "        \u001b[1;36m-3.7490632e-02\u001b[0m,  \u001b[1;36m2.7037218e-01\u001b[0m,  \u001b[1;36m3.7306648e-01\u001b[0m,  \u001b[1;36m3.6741266e-01\u001b[0m,\n",
       "        \u001b[1;36m-3.1490374e-02\u001b[0m, \u001b[1;36m-1.2003372e-01\u001b[0m\u001b[1m]\u001b[0m,\n",
       "       \u001b[1m[\u001b[0m \u001b[1;36m9.6244439e-02\u001b[0m, \u001b[1;36m-2.5688073e-01\u001b[0m, \u001b[1;36m-5.2451029e-02\u001b[0m,  \u001b[1;36m2.8408942e-01\u001b[0m,\n",
       "        \u001b[1;36m-3.7490632e-02\u001b[0m,  \u001b[1;36m2.7037218e-01\u001b[0m,  \u001b[1;36m3.7306648e-01\u001b[0m,  \u001b[1;36m3.6741266e-01\u001b[0m,\n",
       "        \u001b[1;36m-3.1490374e-02\u001b[0m, \u001b[1;36m-1.2003372e-01\u001b[0m\u001b[1m]\u001b[0m,\n",
       "       \u001b[1m[\u001b[0m \u001b[1;36m1.2440182e-02\u001b[0m, \u001b[1;36m-6.0062041e+00\u001b[0m,  \u001b[1;36m1.5530553e+00\u001b[0m,  \u001b[1;36m2.1701269e+00\u001b[0m,\n",
       "         \u001b[1;36m6.0134315e+00\u001b[0m, \u001b[1;36m-8.6461840e+00\u001b[0m,  \u001b[1;36m2.4217749e+00\u001b[0m,  \u001b[1;36m2.9213591e+00\u001b[0m,\n",
       "         \u001b[1;36m1.7772987e-04\u001b[0m,  \u001b[1;36m5.6695910e+00\u001b[0m\u001b[1m]\u001b[0m,\n",
       "       \u001b[1m[\u001b[0m \u001b[1;36m6.1295753e+00\u001b[0m,  \u001b[1;36m4.9273791e+00\u001b[0m,  \u001b[1;36m3.7223897e+00\u001b[0m, \u001b[1;36m-2.5266140e+00\u001b[0m,\n",
       "         \u001b[1;36m1.8922640e+00\u001b[0m,  \u001b[1;36m6.1164088e+00\u001b[0m,  \u001b[1;36m9.5280975e-02\u001b[0m,  \u001b[1;36m9.0911722e-01\u001b[0m,\n",
       "         \u001b[1;36m2.4393989e-01\u001b[0m, \u001b[1;36m-4.0644784e+00\u001b[0m\u001b[1m]\u001b[0m,\n",
       "       \u001b[1m[\u001b[0m \u001b[1;36m1.2440182e-02\u001b[0m, \u001b[1;36m-6.0062041e+00\u001b[0m,  \u001b[1;36m1.5530553e+00\u001b[0m,  \u001b[1;36m2.1701269e+00\u001b[0m,\n",
       "         \u001b[1;36m6.0134315e+00\u001b[0m, \u001b[1;36m-8.6461840e+00\u001b[0m,  \u001b[1;36m2.4217749e+00\u001b[0m,  \u001b[1;36m2.9213591e+00\u001b[0m,\n",
       "         \u001b[1;36m1.7772987e-04\u001b[0m,  \u001b[1;36m5.6695910e+00\u001b[0m\u001b[1m]\u001b[0m,\n",
       "       \u001b[1m[\u001b[0m \u001b[1;36m9.6244439e-02\u001b[0m, \u001b[1;36m-2.5688073e-01\u001b[0m, \u001b[1;36m-5.2451029e-02\u001b[0m,  \u001b[1;36m2.8408942e-01\u001b[0m,\n",
       "        \u001b[1;36m-3.7490632e-02\u001b[0m,  \u001b[1;36m2.7037218e-01\u001b[0m,  \u001b[1;36m3.7306648e-01\u001b[0m,  \u001b[1;36m3.6741266e-01\u001b[0m,\n",
       "        \u001b[1;36m-3.1490374e-02\u001b[0m, \u001b[1;36m-1.2003372e-01\u001b[0m\u001b[1m]\u001b[0m,\n",
       "       \u001b[1m[\u001b[0m \u001b[1;36m9.6244439e-02\u001b[0m, \u001b[1;36m-2.5688073e-01\u001b[0m, \u001b[1;36m-5.2451029e-02\u001b[0m,  \u001b[1;36m2.8408942e-01\u001b[0m,\n",
       "        \u001b[1;36m-3.7490632e-02\u001b[0m,  \u001b[1;36m2.7037218e-01\u001b[0m,  \u001b[1;36m3.7306648e-01\u001b[0m,  \u001b[1;36m3.6741266e-01\u001b[0m,\n",
       "        \u001b[1;36m-3.1490374e-02\u001b[0m, \u001b[1;36m-1.2003372e-01\u001b[0m\u001b[1m]\u001b[0m,\n",
       "       \u001b[1m[\u001b[0m \u001b[1;36m9.6244439e-02\u001b[0m, \u001b[1;36m-2.5688073e-01\u001b[0m, \u001b[1;36m-5.2451029e-02\u001b[0m,  \u001b[1;36m2.8408942e-01\u001b[0m,\n",
       "        \u001b[1;36m-3.7490632e-02\u001b[0m,  \u001b[1;36m2.7037218e-01\u001b[0m,  \u001b[1;36m3.7306648e-01\u001b[0m,  \u001b[1;36m3.6741266e-01\u001b[0m,\n",
       "        \u001b[1;36m-3.1490374e-02\u001b[0m, \u001b[1;36m-1.2003372e-01\u001b[0m\u001b[1m]\u001b[0m,\n",
       "       \u001b[1m[\u001b[0m\u001b[1;36m-2.3874142e+00\u001b[0m, \u001b[1;36m-9.1933012e-03\u001b[0m,  \u001b[1;36m3.5612309e+00\u001b[0m, \u001b[1;36m-4.1453424e-01\u001b[0m,\n",
       "        \u001b[1;36m-6.7492509e-01\u001b[0m,  \u001b[1;36m5.2001727e-01\u001b[0m,  \u001b[1;36m2.5279522e-03\u001b[0m,  \u001b[1;36m2.1350920e-01\u001b[0m,\n",
       "         \u001b[1;36m3.3249693e+00\u001b[0m,  \u001b[1;36m3.4519219e+00\u001b[0m\u001b[1m]\u001b[0m,\n",
       "       \u001b[1m[\u001b[0m \u001b[1;36m2.2164495e+00\u001b[0m,  \u001b[1;36m4.1319213e+00\u001b[0m,  \u001b[1;36m3.1334374e+00\u001b[0m, \u001b[1;36m-3.4483898e+00\u001b[0m,\n",
       "         \u001b[1;36m4.3939085e+00\u001b[0m, \u001b[1;36m-1.5860100e+00\u001b[0m, \u001b[1;36m-4.5105386e+00\u001b[0m, \u001b[1;36m-2.1365464e-02\u001b[0m,\n",
       "        \u001b[1;36m-4.1571721e-02\u001b[0m,  \u001b[1;36m6.9522099e+00\u001b[0m\u001b[1m]\u001b[0m,\n",
       "       \u001b[1m[\u001b[0m\u001b[1;36m-1.5683868e+00\u001b[0m,  \u001b[1;36m3.5256091e-01\u001b[0m,  \u001b[1;36m2.2435791e+00\u001b[0m, \u001b[1;36m-4.8885927e-01\u001b[0m,\n",
       "        \u001b[1;36m-6.0932875e-01\u001b[0m, \u001b[1;36m-4.4898421e-02\u001b[0m, \u001b[1;36m-9.6976548e-02\u001b[0m,  \u001b[1;36m5.8187628e-01\u001b[0m,\n",
       "         \u001b[1;36m2.9139361e+00\u001b[0m,  \u001b[1;36m1.5347085e+00\u001b[0m\u001b[1m]\u001b[0m,\n",
       "       \u001b[1m[\u001b[0m \u001b[1;36m9.6244439e-02\u001b[0m, \u001b[1;36m-2.5688073e-01\u001b[0m, \u001b[1;36m-5.2451029e-02\u001b[0m,  \u001b[1;36m2.8408942e-01\u001b[0m,\n",
       "        \u001b[1;36m-3.7490632e-02\u001b[0m,  \u001b[1;36m2.7037218e-01\u001b[0m,  \u001b[1;36m3.7306648e-01\u001b[0m,  \u001b[1;36m3.6741266e-01\u001b[0m,\n",
       "        \u001b[1;36m-3.1490374e-02\u001b[0m, \u001b[1;36m-1.2003372e-01\u001b[0m\u001b[1m]\u001b[0m,\n",
       "       \u001b[1m[\u001b[0m \u001b[1;36m4.0997920e+00\u001b[0m,  \u001b[1;36m1.1897198e+00\u001b[0m,  \u001b[1;36m5.1537952e+00\u001b[0m, \u001b[1;36m-4.4702411e-02\u001b[0m,\n",
       "         \u001b[1;36m2.6712220e+00\u001b[0m,  \u001b[1;36m9.1243684e-03\u001b[0m, \u001b[1;36m-4.4110417e-03\u001b[0m,  \u001b[1;36m1.9618098e+00\u001b[0m,\n",
       "         \u001b[1;36m1.2559272e+00\u001b[0m,  \u001b[1;36m2.6158414e+00\u001b[0m\u001b[1m]\u001b[0m,\n",
       "       \u001b[1m[\u001b[0m \u001b[1;36m9.6244439e-02\u001b[0m, \u001b[1;36m-2.5688073e-01\u001b[0m, \u001b[1;36m-5.2451029e-02\u001b[0m,  \u001b[1;36m2.8408942e-01\u001b[0m,\n",
       "        \u001b[1;36m-3.7490632e-02\u001b[0m,  \u001b[1;36m2.7037218e-01\u001b[0m,  \u001b[1;36m3.7306648e-01\u001b[0m,  \u001b[1;36m3.6741266e-01\u001b[0m,\n",
       "        \u001b[1;36m-3.1490374e-02\u001b[0m, \u001b[1;36m-1.2003372e-01\u001b[0m\u001b[1m]\u001b[0m,\n",
       "       \u001b[1m[\u001b[0m \u001b[1;36m4.1014943e+00\u001b[0m,  \u001b[1;36m2.2517197e+00\u001b[0m,  \u001b[1;36m5.4396267e+00\u001b[0m,  \u001b[1;36m7.6003218e+00\u001b[0m,\n",
       "         \u001b[1;36m3.4545212e+00\u001b[0m, \u001b[1;36m-3.3757129e+00\u001b[0m,  \u001b[1;36m2.7477636e+00\u001b[0m,  \u001b[1;36m2.2964749e+00\u001b[0m,\n",
       "        \u001b[1;36m-3.8823482e-01\u001b[0m, \u001b[1;36m-4.0768623e+00\u001b[0m\u001b[1m]\u001b[0m\u001b[1m]\u001b[0m, \u001b[33mdtype\u001b[0m=\u001b[35mfloat32\u001b[0m\u001b[1m)\u001b[0m,\n",
       "    \u001b[32m'relu2'\u001b[0m: \u001b[1;35marray\u001b[0m\u001b[1m(\u001b[0m\u001b[1m[\u001b[0m\u001b[1m[\u001b[0m\u001b[1;36m9.6244439e-02\u001b[0m, \u001b[1;36m0.0000000e+00\u001b[0m, \u001b[1;36m0.0000000e+00\u001b[0m, \u001b[1;36m2.8408942e-01\u001b[0m,\n",
       "        \u001b[1;36m0.0000000e+00\u001b[0m, \u001b[1;36m2.7037218e-01\u001b[0m, \u001b[1;36m3.7306648e-01\u001b[0m, \u001b[1;36m3.6741266e-01\u001b[0m,\n",
       "        \u001b[1;36m0.0000000e+00\u001b[0m, \u001b[1;36m0.0000000e+00\u001b[0m\u001b[1m]\u001b[0m,\n",
       "       \u001b[1m[\u001b[0m\u001b[1;36m9.6244439e-02\u001b[0m, \u001b[1;36m0.0000000e+00\u001b[0m, \u001b[1;36m0.0000000e+00\u001b[0m, \u001b[1;36m2.8408942e-01\u001b[0m,\n",
       "        \u001b[1;36m0.0000000e+00\u001b[0m, \u001b[1;36m2.7037218e-01\u001b[0m, \u001b[1;36m3.7306648e-01\u001b[0m, \u001b[1;36m3.6741266e-01\u001b[0m,\n",
       "        \u001b[1;36m0.0000000e+00\u001b[0m, \u001b[1;36m0.0000000e+00\u001b[0m\u001b[1m]\u001b[0m,\n",
       "       \u001b[1m[\u001b[0m\u001b[1;36m9.6244439e-02\u001b[0m, \u001b[1;36m0.0000000e+00\u001b[0m, \u001b[1;36m0.0000000e+00\u001b[0m, \u001b[1;36m2.8408942e-01\u001b[0m,\n",
       "        \u001b[1;36m0.0000000e+00\u001b[0m, \u001b[1;36m2.7037218e-01\u001b[0m, \u001b[1;36m3.7306648e-01\u001b[0m, \u001b[1;36m3.6741266e-01\u001b[0m,\n",
       "        \u001b[1;36m0.0000000e+00\u001b[0m, \u001b[1;36m0.0000000e+00\u001b[0m\u001b[1m]\u001b[0m,\n",
       "       \u001b[1m[\u001b[0m\u001b[1;36m1.2440182e-02\u001b[0m, \u001b[1;36m0.0000000e+00\u001b[0m, \u001b[1;36m1.5530553e+00\u001b[0m, \u001b[1;36m2.1701269e+00\u001b[0m,\n",
       "        \u001b[1;36m6.0134315e+00\u001b[0m, \u001b[1;36m0.0000000e+00\u001b[0m, \u001b[1;36m2.4217749e+00\u001b[0m, \u001b[1;36m2.9213591e+00\u001b[0m,\n",
       "        \u001b[1;36m1.7772987e-04\u001b[0m, \u001b[1;36m5.6695910e+00\u001b[0m\u001b[1m]\u001b[0m,\n",
       "       \u001b[1m[\u001b[0m\u001b[1;36m6.1295753e+00\u001b[0m, \u001b[1;36m4.9273791e+00\u001b[0m, \u001b[1;36m3.7223897e+00\u001b[0m, \u001b[1;36m0.0000000e+00\u001b[0m,\n",
       "        \u001b[1;36m1.8922640e+00\u001b[0m, \u001b[1;36m6.1164088e+00\u001b[0m, \u001b[1;36m9.5280975e-02\u001b[0m, \u001b[1;36m9.0911722e-01\u001b[0m,\n",
       "        \u001b[1;36m2.4393989e-01\u001b[0m, \u001b[1;36m0.0000000e+00\u001b[0m\u001b[1m]\u001b[0m,\n",
       "       \u001b[1m[\u001b[0m\u001b[1;36m1.2440182e-02\u001b[0m, \u001b[1;36m0.0000000e+00\u001b[0m, \u001b[1;36m1.5530553e+00\u001b[0m, \u001b[1;36m2.1701269e+00\u001b[0m,\n",
       "        \u001b[1;36m6.0134315e+00\u001b[0m, \u001b[1;36m0.0000000e+00\u001b[0m, \u001b[1;36m2.4217749e+00\u001b[0m, \u001b[1;36m2.9213591e+00\u001b[0m,\n",
       "        \u001b[1;36m1.7772987e-04\u001b[0m, \u001b[1;36m5.6695910e+00\u001b[0m\u001b[1m]\u001b[0m,\n",
       "       \u001b[1m[\u001b[0m\u001b[1;36m9.6244439e-02\u001b[0m, \u001b[1;36m0.0000000e+00\u001b[0m, \u001b[1;36m0.0000000e+00\u001b[0m, \u001b[1;36m2.8408942e-01\u001b[0m,\n",
       "        \u001b[1;36m0.0000000e+00\u001b[0m, \u001b[1;36m2.7037218e-01\u001b[0m, \u001b[1;36m3.7306648e-01\u001b[0m, \u001b[1;36m3.6741266e-01\u001b[0m,\n",
       "        \u001b[1;36m0.0000000e+00\u001b[0m, \u001b[1;36m0.0000000e+00\u001b[0m\u001b[1m]\u001b[0m,\n",
       "       \u001b[1m[\u001b[0m\u001b[1;36m9.6244439e-02\u001b[0m, \u001b[1;36m0.0000000e+00\u001b[0m, \u001b[1;36m0.0000000e+00\u001b[0m, \u001b[1;36m2.8408942e-01\u001b[0m,\n",
       "        \u001b[1;36m0.0000000e+00\u001b[0m, \u001b[1;36m2.7037218e-01\u001b[0m, \u001b[1;36m3.7306648e-01\u001b[0m, \u001b[1;36m3.6741266e-01\u001b[0m,\n",
       "        \u001b[1;36m0.0000000e+00\u001b[0m, \u001b[1;36m0.0000000e+00\u001b[0m\u001b[1m]\u001b[0m,\n",
       "       \u001b[1m[\u001b[0m\u001b[1;36m9.6244439e-02\u001b[0m, \u001b[1;36m0.0000000e+00\u001b[0m, \u001b[1;36m0.0000000e+00\u001b[0m, \u001b[1;36m2.8408942e-01\u001b[0m,\n",
       "        \u001b[1;36m0.0000000e+00\u001b[0m, \u001b[1;36m2.7037218e-01\u001b[0m, \u001b[1;36m3.7306648e-01\u001b[0m, \u001b[1;36m3.6741266e-01\u001b[0m,\n",
       "        \u001b[1;36m0.0000000e+00\u001b[0m, \u001b[1;36m0.0000000e+00\u001b[0m\u001b[1m]\u001b[0m,\n",
       "       \u001b[1m[\u001b[0m\u001b[1;36m0.0000000e+00\u001b[0m, \u001b[1;36m0.0000000e+00\u001b[0m, \u001b[1;36m3.5612309e+00\u001b[0m, \u001b[1;36m0.0000000e+00\u001b[0m,\n",
       "        \u001b[1;36m0.0000000e+00\u001b[0m, \u001b[1;36m5.2001727e-01\u001b[0m, \u001b[1;36m2.5279522e-03\u001b[0m, \u001b[1;36m2.1350920e-01\u001b[0m,\n",
       "        \u001b[1;36m3.3249693e+00\u001b[0m, \u001b[1;36m3.4519219e+00\u001b[0m\u001b[1m]\u001b[0m,\n",
       "       \u001b[1m[\u001b[0m\u001b[1;36m2.2164495e+00\u001b[0m, \u001b[1;36m4.1319213e+00\u001b[0m, \u001b[1;36m3.1334374e+00\u001b[0m, \u001b[1;36m0.0000000e+00\u001b[0m,\n",
       "        \u001b[1;36m4.3939085e+00\u001b[0m, \u001b[1;36m0.0000000e+00\u001b[0m, \u001b[1;36m0.0000000e+00\u001b[0m, \u001b[1;36m0.0000000e+00\u001b[0m,\n",
       "        \u001b[1;36m0.0000000e+00\u001b[0m, \u001b[1;36m6.9522099e+00\u001b[0m\u001b[1m]\u001b[0m,\n",
       "       \u001b[1m[\u001b[0m\u001b[1;36m0.0000000e+00\u001b[0m, \u001b[1;36m3.5256091e-01\u001b[0m, \u001b[1;36m2.2435791e+00\u001b[0m, \u001b[1;36m0.0000000e+00\u001b[0m,\n",
       "        \u001b[1;36m0.0000000e+00\u001b[0m, \u001b[1;36m0.0000000e+00\u001b[0m, \u001b[1;36m0.0000000e+00\u001b[0m, \u001b[1;36m5.8187628e-01\u001b[0m,\n",
       "        \u001b[1;36m2.9139361e+00\u001b[0m, \u001b[1;36m1.5347085e+00\u001b[0m\u001b[1m]\u001b[0m,\n",
       "       \u001b[1m[\u001b[0m\u001b[1;36m9.6244439e-02\u001b[0m, \u001b[1;36m0.0000000e+00\u001b[0m, \u001b[1;36m0.0000000e+00\u001b[0m, \u001b[1;36m2.8408942e-01\u001b[0m,\n",
       "        \u001b[1;36m0.0000000e+00\u001b[0m, \u001b[1;36m2.7037218e-01\u001b[0m, \u001b[1;36m3.7306648e-01\u001b[0m, \u001b[1;36m3.6741266e-01\u001b[0m,\n",
       "        \u001b[1;36m0.0000000e+00\u001b[0m, \u001b[1;36m0.0000000e+00\u001b[0m\u001b[1m]\u001b[0m,\n",
       "       \u001b[1m[\u001b[0m\u001b[1;36m4.0997920e+00\u001b[0m, \u001b[1;36m1.1897198e+00\u001b[0m, \u001b[1;36m5.1537952e+00\u001b[0m, \u001b[1;36m0.0000000e+00\u001b[0m,\n",
       "        \u001b[1;36m2.6712220e+00\u001b[0m, \u001b[1;36m9.1243684e-03\u001b[0m, \u001b[1;36m0.0000000e+00\u001b[0m, \u001b[1;36m1.9618098e+00\u001b[0m,\n",
       "        \u001b[1;36m1.2559272e+00\u001b[0m, \u001b[1;36m2.6158414e+00\u001b[0m\u001b[1m]\u001b[0m,\n",
       "       \u001b[1m[\u001b[0m\u001b[1;36m9.6244439e-02\u001b[0m, \u001b[1;36m0.0000000e+00\u001b[0m, \u001b[1;36m0.0000000e+00\u001b[0m, \u001b[1;36m2.8408942e-01\u001b[0m,\n",
       "        \u001b[1;36m0.0000000e+00\u001b[0m, \u001b[1;36m2.7037218e-01\u001b[0m, \u001b[1;36m3.7306648e-01\u001b[0m, \u001b[1;36m3.6741266e-01\u001b[0m,\n",
       "        \u001b[1;36m0.0000000e+00\u001b[0m, \u001b[1;36m0.0000000e+00\u001b[0m\u001b[1m]\u001b[0m,\n",
       "       \u001b[1m[\u001b[0m\u001b[1;36m4.1014943e+00\u001b[0m, \u001b[1;36m2.2517197e+00\u001b[0m, \u001b[1;36m5.4396267e+00\u001b[0m, \u001b[1;36m7.6003218e+00\u001b[0m,\n",
       "        \u001b[1;36m3.4545212e+00\u001b[0m, \u001b[1;36m0.0000000e+00\u001b[0m, \u001b[1;36m2.7477636e+00\u001b[0m, \u001b[1;36m2.2964749e+00\u001b[0m,\n",
       "        \u001b[1;36m0.0000000e+00\u001b[0m, \u001b[1;36m0.0000000e+00\u001b[0m\u001b[1m]\u001b[0m\u001b[1m]\u001b[0m, \u001b[33mdtype\u001b[0m=\u001b[35mfloat32\u001b[0m\u001b[1m)\u001b[0m,\n",
       "    \u001b[32m'fc2'\u001b[0m: \u001b[1;35marray\u001b[0m\u001b[1m(\u001b[0m\u001b[1m[\u001b[0m\u001b[1m[\u001b[0m \u001b[1;36m-0.4887945\u001b[0m ,  \u001b[1;36m-0.74049234\u001b[0m,   \u001b[1;36m1.4700941\u001b[0m \u001b[1m]\u001b[0m,\n",
       "       \u001b[1m[\u001b[0m \u001b[1;36m-0.4887945\u001b[0m ,  \u001b[1;36m-0.74049234\u001b[0m,   \u001b[1;36m1.4700941\u001b[0m \u001b[1m]\u001b[0m,\n",
       "       \u001b[1m[\u001b[0m \u001b[1;36m-0.4887945\u001b[0m ,  \u001b[1;36m-0.74049234\u001b[0m,   \u001b[1;36m1.4700941\u001b[0m \u001b[1m]\u001b[0m,\n",
       "       \u001b[1m[\u001b[0m  \u001b[1;36m8.702699\u001b[0m  ,   \u001b[1;36m1.7882531\u001b[0m ,  \u001b[1;36m-5.467761\u001b[0m  \u001b[1m]\u001b[0m,\n",
       "       \u001b[1m[\u001b[0m  \u001b[1;36m6.4708967\u001b[0m ,  \u001b[1;36m-1.2642086\u001b[0m ,  \u001b[1;36m-2.8014874\u001b[0m \u001b[1m]\u001b[0m,\n",
       "       \u001b[1m[\u001b[0m  \u001b[1;36m8.702699\u001b[0m  ,   \u001b[1;36m1.7882531\u001b[0m ,  \u001b[1;36m-5.467761\u001b[0m  \u001b[1m]\u001b[0m,\n",
       "       \u001b[1m[\u001b[0m \u001b[1;36m-0.4887945\u001b[0m ,  \u001b[1;36m-0.74049234\u001b[0m,   \u001b[1;36m1.4700941\u001b[0m \u001b[1m]\u001b[0m,\n",
       "       \u001b[1m[\u001b[0m \u001b[1;36m-0.4887945\u001b[0m ,  \u001b[1;36m-0.74049234\u001b[0m,   \u001b[1;36m1.4700941\u001b[0m \u001b[1m]\u001b[0m,\n",
       "       \u001b[1m[\u001b[0m \u001b[1;36m-0.4887945\u001b[0m ,  \u001b[1;36m-0.74049234\u001b[0m,   \u001b[1;36m1.4700941\u001b[0m \u001b[1m]\u001b[0m,\n",
       "       \u001b[1m[\u001b[0m  \u001b[1;36m0.8632395\u001b[0m ,   \u001b[1;36m6.231264\u001b[0m  ,  \u001b[1;36m-5.2358418\u001b[0m \u001b[1m]\u001b[0m,\n",
       "       \u001b[1m[\u001b[0m \u001b[1;36m10.006319\u001b[0m  ,   \u001b[1;36m2.7432716\u001b[0m , \u001b[1;36m-10.843271\u001b[0m  \u001b[1m]\u001b[0m,\n",
       "       \u001b[1m[\u001b[0m \u001b[1;36m-0.85742044\u001b[0m,   \u001b[1;36m5.024785\u001b[0m  ,  \u001b[1;36m-2.7073312\u001b[0m \u001b[1m]\u001b[0m,\n",
       "       \u001b[1m[\u001b[0m \u001b[1;36m-0.4887945\u001b[0m ,  \u001b[1;36m-0.74049234\u001b[0m,   \u001b[1;36m1.4700941\u001b[0m \u001b[1m]\u001b[0m,\n",
       "       \u001b[1m[\u001b[0m  \u001b[1;36m1.2477831\u001b[0m ,   \u001b[1;36m7.5827565\u001b[0m ,  \u001b[1;36m-5.870911\u001b[0m  \u001b[1m]\u001b[0m,\n",
       "       \u001b[1m[\u001b[0m \u001b[1;36m-0.4887945\u001b[0m ,  \u001b[1;36m-0.74049234\u001b[0m,   \u001b[1;36m1.4700941\u001b[0m \u001b[1m]\u001b[0m,\n",
       "       \u001b[1m[\u001b[0m  \u001b[1;36m7.320399\u001b[0m  ,  \u001b[1;36m-0.02116445\u001b[0m,  \u001b[1;36m-2.120936\u001b[0m  \u001b[1m]\u001b[0m\u001b[1m]\u001b[0m, \u001b[33mdtype\u001b[0m=\u001b[35mfloat32\u001b[0m\u001b[1m)\u001b[0m\n",
       "\u001b[1m}\u001b[0m\n"
      ]
     },
     "metadata": {},
     "output_type": "display_data"
    }
   ],
   "source": [
    "print(visualization)"
   ]
  },
  {
   "cell_type": "code",
   "execution_count": 92,
   "metadata": {},
   "outputs": [
    {
     "data": {
      "text/plain": [
       "(16, 1, 8, 8)"
      ]
     },
     "execution_count": 92,
     "metadata": {},
     "output_type": "execute_result"
    }
   ],
   "source": [
    "visualization[\"conv1\"].shape"
   ]
  },
  {
   "cell_type": "code",
   "execution_count": 93,
   "metadata": {},
   "outputs": [
    {
     "data": {
      "text/plain": [
       "(16, 1, 8, 8)"
      ]
     },
     "execution_count": 93,
     "metadata": {},
     "output_type": "execute_result"
    }
   ],
   "source": [
    "visualization[\"relu1\"].shape"
   ]
  },
  {
   "cell_type": "code",
   "execution_count": 94,
   "metadata": {},
   "outputs": [
    {
     "data": {
      "text/plain": [
       "(16, 1, 4, 4)"
      ]
     },
     "execution_count": 94,
     "metadata": {},
     "output_type": "execute_result"
    }
   ],
   "source": [
    "visualization[\"maxp1\"].shape"
   ]
  },
  {
   "cell_type": "code",
   "execution_count": 97,
   "metadata": {},
   "outputs": [
    {
     "data": {
      "text/plain": [
       "(16, 16)"
      ]
     },
     "execution_count": 97,
     "metadata": {},
     "output_type": "execute_result"
    }
   ],
   "source": [
    "visualization[\"flatten\"].shape"
   ]
  },
  {
   "cell_type": "code",
   "execution_count": 98,
   "metadata": {},
   "outputs": [
    {
     "data": {
      "text/plain": [
       "(16, 10)"
      ]
     },
     "execution_count": 98,
     "metadata": {},
     "output_type": "execute_result"
    }
   ],
   "source": [
    "visualization[\"fc1\"].shape"
   ]
  },
  {
   "cell_type": "code",
   "execution_count": 99,
   "metadata": {},
   "outputs": [
    {
     "data": {
      "text/plain": [
       "(16, 3)"
      ]
     },
     "execution_count": 99,
     "metadata": {},
     "output_type": "execute_result"
    }
   ],
   "source": [
    "visualization[\"fc2\"].shape"
   ]
  },
  {
   "cell_type": "code",
   "execution_count": 100,
   "metadata": {},
   "outputs": [],
   "source": [
    "for handle in handles.values():\n",
    "    handle.remove()\n",
    "handles = {}"
   ]
  },
  {
   "cell_type": "code",
   "execution_count": 101,
   "metadata": {},
   "outputs": [],
   "source": [
    "setattr(StepByStep, 'visualization', {})\n",
    "setattr(StepByStep, 'handles', {})\n",
    "\n",
    "def attach_hooks(self, layers_to_hook, hook_fn=None):\n",
    "    # Clear any previous values\n",
    "    self.visualization = {}\n",
    "    # Creates the dictionary to map layer objects to their names\n",
    "    modules = list(self.model.named_modules())\n",
    "    layer_names = {layer: name for name, layer in modules[1:]}\n",
    "\n",
    "    if hook_fn is None:\n",
    "        # Hook function to be attached to the forward pass\n",
    "        def hook_fn(layer, inputs, outputs):\n",
    "            # Gets the layer name\n",
    "            name = layer_names[layer]\n",
    "            # Detaches outputs\n",
    "            values = outputs.detach().cpu().numpy()\n",
    "            # Since the hook function may be called multiple times\n",
    "            # for example, if we make predictions for multiple mini-batches\n",
    "            # it concatenates the results\n",
    "            if self.visualization[name] is None:\n",
    "                self.visualization[name] = values\n",
    "            else:\n",
    "                self.visualization[name] = np.concatenate([self.visualization[name], values])\n",
    "\n",
    "    for name, layer in modules:\n",
    "        # If the layer is in our list\n",
    "        if name in layers_to_hook:\n",
    "            # Initializes the corresponding key in the dictionary\n",
    "            self.visualization[name] = None\n",
    "            # Register the forward hook and keep the handle in another dict\n",
    "            self.handles[name] = layer.register_forward_hook(hook_fn)\n",
    "\n",
    "def remove_hooks(self):\n",
    "    # Loops through all hooks and removes them\n",
    "    for handle in self.handles.values():\n",
    "        handle.remove()\n",
    "    # Clear the dict, as all hooks have been removed\n",
    "    self.handles = {}\n",
    "    \n",
    "setattr(StepByStep, 'attach_hooks', attach_hooks)\n",
    "setattr(StepByStep, 'remove_hooks', remove_hooks)"
   ]
  },
  {
   "cell_type": "code",
   "execution_count": 102,
   "metadata": {},
   "outputs": [],
   "source": [
    "sbs_cnn1.attach_hooks(layers_to_hook=['conv1', 'relu1', 'maxp1', 'flatten', 'fc1', 'relu2', 'fc2'])"
   ]
  },
  {
   "cell_type": "code",
   "execution_count": 103,
   "metadata": {},
   "outputs": [],
   "source": [
    "images_batch, labels_batch = next(iter(val_loader))\n",
    "logits = sbs_cnn1.predict(images_batch)"
   ]
  },
  {
   "cell_type": "code",
   "execution_count": 104,
   "metadata": {},
   "outputs": [],
   "source": [
    "sbs_cnn1.remove_hooks()"
   ]
  },
  {
   "cell_type": "code",
   "execution_count": 106,
   "metadata": {},
   "outputs": [
    {
     "data": {
      "text/plain": [
       "array([[ -0.4887945 ,  -0.74049234,   1.4700941 ],\n",
       "       [ -0.4887945 ,  -0.74049234,   1.4700941 ],\n",
       "       [ -0.4887945 ,  -0.74049234,   1.4700941 ],\n",
       "       [  8.702699  ,   1.7882531 ,  -5.467761  ],\n",
       "       [  6.4708967 ,  -1.2642086 ,  -2.8014874 ],\n",
       "       [  8.702699  ,   1.7882531 ,  -5.467761  ],\n",
       "       [ -0.4887945 ,  -0.74049234,   1.4700941 ],\n",
       "       [ -0.4887945 ,  -0.74049234,   1.4700941 ],\n",
       "       [ -0.4887945 ,  -0.74049234,   1.4700941 ],\n",
       "       [  0.8632395 ,   6.231264  ,  -5.2358418 ],\n",
       "       [ 10.006319  ,   2.7432716 , -10.843271  ],\n",
       "       [ -0.85742044,   5.024785  ,  -2.7073312 ],\n",
       "       [ -0.4887945 ,  -0.74049234,   1.4700941 ],\n",
       "       [  1.2477831 ,   7.5827565 ,  -5.870911  ],\n",
       "       [ -0.4887945 ,  -0.74049234,   1.4700941 ],\n",
       "       [  7.320399  ,  -0.02116445,  -2.120936  ]], dtype=float32)"
      ]
     },
     "execution_count": 106,
     "metadata": {},
     "output_type": "execute_result"
    }
   ],
   "source": [
    "logits"
   ]
  },
  {
   "cell_type": "code",
   "execution_count": 105,
   "metadata": {},
   "outputs": [
    {
     "data": {
      "text/plain": [
       "array([2, 2, 2, 0, 0, 0, 2, 2, 2, 1, 0, 1, 2, 1, 2, 0])"
      ]
     },
     "execution_count": 105,
     "metadata": {},
     "output_type": "execute_result"
    }
   ],
   "source": [
    "predicted = np.argmax(logits, 1)\n",
    "predicted"
   ]
  },
  {
   "cell_type": "markdown",
   "metadata": {},
   "source": [
    "### Visualizing Feature Maps"
   ]
  },
  {
   "cell_type": "code",
   "execution_count": 107,
   "metadata": {},
   "outputs": [
    {
     "data": {
      "image/png": "[encoded data removed]",
      "text/plain": [
       "<Figure size 1500x150 with 10 Axes>"
      ]
     },
     "metadata": {},
     "output_type": "display_data"
    }
   ],
   "source": [
    "fig = plot_images(images_batch.squeeze(), labels_batch.squeeze(), n_plot=10)"
   ]
  },
  {
   "cell_type": "code",
   "execution_count": 108,
   "metadata": {},
   "outputs": [],
   "source": [
    "def visualize_outputs(self, layers, n_images=10, y=None, yhat=None):\n",
    "    layers = filter(lambda l: l in self.visualization.keys(), layers)\n",
    "    layers = list(layers)\n",
    "    shapes = [self.visualization[layer].shape for layer in layers]\n",
    "    n_rows = [shape[1] if len(shape) == 4 else 1 \n",
    "              for shape in shapes]\n",
    "    total_rows = np.sum(n_rows)\n",
    "\n",
    "    fig, axes = plt.subplots(total_rows, n_images, \n",
    "                             figsize=(1.5*n_images, 1.5*total_rows))\n",
    "    axes = np.atleast_2d(axes).reshape(total_rows, n_images)\n",
    "    \n",
    "    # Loops through the layers, one layer per row of subplots\n",
    "    row = 0\n",
    "    for i, layer in enumerate(layers):\n",
    "        start_row = row\n",
    "        # Takes the produced feature maps for that layer\n",
    "        output = self.visualization[layer]\n",
    "            \n",
    "        is_vector = len(output.shape) == 2\n",
    "        \n",
    "        for j in range(n_rows[i]):\n",
    "            StepByStep._visualize_tensors(\n",
    "                axes[row, :],\n",
    "                output if is_vector else output[:, j].squeeze(),\n",
    "                y, \n",
    "                yhat, \n",
    "                layer_name=layers[i] \\\n",
    "                           if is_vector \\\n",
    "                           else f'{layers[i]}\\nfil#{row-start_row}',\n",
    "                title='Image' if (row == 0) else None\n",
    "            )\n",
    "            row += 1\n",
    "            \n",
    "    for ax in axes.flat:\n",
    "        ax.label_outer()\n",
    "\n",
    "    plt.tight_layout()\n",
    "    return fig\n",
    "\n",
    "setattr(StepByStep, 'visualize_outputs', visualize_outputs)"
   ]
  },
  {
   "cell_type": "code",
   "execution_count": 141,
   "metadata": {},
   "outputs": [
    {
     "data": {
      "text/plain": [
       "['Solarize_Light2',\n",
       " '_classic_test_patch',\n",
       " '_mpl-gallery',\n",
       " '_mpl-gallery-nogrid',\n",
       " 'bmh',\n",
       " 'classic',\n",
       " 'dark_background',\n",
       " 'fast',\n",
       " 'fivethirtyeight',\n",
       " 'ggplot',\n",
       " 'grayscale',\n",
       " 'seaborn-v0_8',\n",
       " 'seaborn-v0_8-bright',\n",
       " 'seaborn-v0_8-colorblind',\n",
       " 'seaborn-v0_8-dark',\n",
       " 'seaborn-v0_8-dark-palette',\n",
       " 'seaborn-v0_8-darkgrid',\n",
       " 'seaborn-v0_8-deep',\n",
       " 'seaborn-v0_8-muted',\n",
       " 'seaborn-v0_8-notebook',\n",
       " 'seaborn-v0_8-paper',\n",
       " 'seaborn-v0_8-pastel',\n",
       " 'seaborn-v0_8-poster',\n",
       " 'seaborn-v0_8-talk',\n",
       " 'seaborn-v0_8-ticks',\n",
       " 'seaborn-v0_8-white',\n",
       " 'seaborn-v0_8-whitegrid',\n",
       " 'tableau-colorblind10']"
      ]
     },
     "execution_count": 141,
     "metadata": {},
     "output_type": "execute_result"
    }
   ],
   "source": [
    "plt.style.available"
   ]
  },
  {
   "cell_type": "code",
   "execution_count": 111,
   "metadata": {},
   "outputs": [
    {
     "data": {
      "image/png": "[encoded data removed]",
      "text/plain": [
       "<Figure size 1500x1050 with 70 Axes>"
      ]
     },
     "metadata": {},
     "output_type": "display_data"
    }
   ],
   "source": [
    "featurizer_layers = ['conv1', 'relu1', 'maxp1', 'flatten', 'fc1', 'relu2', 'fc2']\n",
    "\n",
    "with plt.style.context('fivethirtyeight'):\n",
    "    fig = sbs_cnn1.visualize_outputs(featurizer_layers)"
   ]
  },
  {
   "cell_type": "markdown",
   "metadata": {},
   "source": [
    "### Visualizing Classifier Layers"
   ]
  },
  {
   "cell_type": "code",
   "execution_count": 110,
   "metadata": {},
   "outputs": [
    {
     "data": {
      "image/png": "[encoded data removed]",
      "text/plain": [
       "<Figure size 1500x450 with 30 Axes>"
      ]
     },
     "metadata": {},
     "output_type": "display_data"
    }
   ],
   "source": [
    "classifier_layers = ['fc1', 'relu2', 'fc2']\n",
    "\n",
    "with plt.style.context('fivethirtyeight'):\n",
    "    fig = sbs_cnn1.visualize_outputs(classifier_layers, y=labels_batch, yhat=predicted)"
   ]
  },
  {
   "cell_type": "markdown",
   "metadata": {},
   "source": [
    "### Accuracy"
   ]
  },
  {
   "cell_type": "code",
   "execution_count": 112,
   "metadata": {},
   "outputs": [],
   "source": [
    "def correct(self, x, y, threshold=.5):\n",
    "    self.model.eval()\n",
    "    yhat = self.model(x.to(self.device))\n",
    "    y = y.to(self.device)\n",
    "    self.model.train()\n",
    "    \n",
    "    # We get the size of the batch and the number of classes \n",
    "    # (only 1, if it is binary)\n",
    "    n_samples, n_dims = yhat.shape\n",
    "    if n_dims > 1:        \n",
    "        # In a multiclass classification, the biggest logit\n",
    "        # always wins, so we don't bother getting probabilities\n",
    "        \n",
    "        # This is PyTorch's version of argmax, \n",
    "        # but it returns a tuple: (max value, index of max value)\n",
    "        _, predicted = torch.max(yhat, 1)\n",
    "    else:\n",
    "        n_dims += 1\n",
    "        # In binary classification, we NEED to check if the\n",
    "        # last layer is a sigmoid (and then it produces probs)\n",
    "        if isinstance(self.model, nn.Sequential) and \\\n",
    "           isinstance(self.model[-1], nn.Sigmoid):\n",
    "            predicted = (yhat > threshold).long()\n",
    "        # or something else (logits), which we need to convert\n",
    "        # using a sigmoid\n",
    "        else:\n",
    "            predicted = (F.sigmoid(yhat) > threshold).long()\n",
    "    \n",
    "    # How many samples got classified correctly for each class\n",
    "    result = []\n",
    "    for c in range(n_dims):\n",
    "        n_class = (y == c).sum().item()\n",
    "        n_correct = (predicted[y == c] == c).sum().item()\n",
    "        result.append((n_correct, n_class))\n",
    "    return torch.tensor(result)\n",
    "\n",
    "setattr(StepByStep, 'correct', correct)"
   ]
  },
  {
   "cell_type": "code",
   "execution_count": 113,
   "metadata": {},
   "outputs": [
    {
     "data": {
      "text/plain": [
       "tensor([[5, 7],\n",
       "        [3, 3],\n",
       "        [6, 6]])"
      ]
     },
     "execution_count": 113,
     "metadata": {},
     "output_type": "execute_result"
    }
   ],
   "source": [
    "sbs_cnn1.correct(images_batch, labels_batch)"
   ]
  },
  {
   "cell_type": "markdown",
   "metadata": {},
   "source": [
    "### Loader Apply"
   ]
  },
  {
   "cell_type": "code",
   "execution_count": 115,
   "metadata": {},
   "outputs": [],
   "source": [
    "@staticmethod\n",
    "def loader_apply(loader, func, reduce='sum'):\n",
    "    results = [func(x, y) for i, (x, y) in enumerate(loader)]\n",
    "    results = torch.stack(results, axis=0)\n",
    "\n",
    "    if reduce == 'sum':\n",
    "        results = results.sum(axis=0)\n",
    "    elif reduce == 'mean':\n",
    "        results = results.float().mean(axis=0)\n",
    "    \n",
    "    return results\n",
    "\n",
    "setattr(StepByStep, 'loader_apply', loader_apply)"
   ]
  },
  {
   "cell_type": "code",
   "execution_count": 116,
   "metadata": {},
   "outputs": [
    {
     "data": {
      "text/plain": [
       "tensor([[59, 67],\n",
       "        [55, 62],\n",
       "        [71, 71]])"
      ]
     },
     "execution_count": 116,
     "metadata": {},
     "output_type": "execute_result"
    }
   ],
   "source": [
    "StepByStep.loader_apply(sbs_cnn1.val_loader, sbs_cnn1.correct)"
   ]
  },
  {
   "cell_type": "markdown",
   "metadata": {},
   "source": [
    "## Putting It All Together"
   ]
  },
  {
   "cell_type": "markdown",
   "metadata": {},
   "source": [
    "### Data Preparation"
   ]
  },
  {
   "cell_type": "code",
   "execution_count": 118,
   "metadata": {},
   "outputs": [],
   "source": [
    "# Builds tensors from numpy arrays BEFORE split\n",
    "# Modifies the scale of pixel values from [0, 255] to [0, 1]\n",
    "x_tensor = torch.as_tensor(images / 255).float()\n",
    "y_tensor = torch.as_tensor(labels).long()\n",
    "\n",
    "# Uses index_splitter to generate indices for training and\n",
    "# validation sets\n",
    "train_idx, val_idx = index_splitter(len(x_tensor), [80, 20])\n",
    "# Uses indices to perform the split\n",
    "x_train_tensor = x_tensor[train_idx]\n",
    "y_train_tensor = y_tensor[train_idx]\n",
    "x_val_tensor = x_tensor[val_idx]\n",
    "y_val_tensor = y_tensor[val_idx]\n",
    "\n",
    "# We're not doing any data augmentation now\n",
    "train_composer = Compose([Normalize(mean=(.5,), std=(.5,))])\n",
    "val_composer = Compose([Normalize(mean=(.5,), std=(.5,))])\n",
    "\n",
    "# Uses custom dataset to apply composed transforms to each set\n",
    "train_dataset = TransformedTensorDataset(x_train_tensor, y_train_tensor, transform=train_composer)\n",
    "val_dataset = TransformedTensorDataset(x_val_tensor, y_val_tensor, transform=val_composer)\n",
    "\n",
    "# Builds a weighted random sampler to handle imbalanced classes\n",
    "sampler = make_balanced_sampler(y_train_tensor)\n",
    "\n",
    "# Uses sampler in the training set to get a balanced data loader\n",
    "train_loader = DataLoader(dataset=train_dataset, batch_size=16, sampler=sampler)\n",
    "val_loader = DataLoader(dataset=val_dataset, batch_size=16)"
   ]
  },
  {
   "cell_type": "markdown",
   "metadata": {},
   "source": [
    "### Model Configuration"
   ]
  },
  {
   "cell_type": "code",
   "execution_count": 119,
   "metadata": {},
   "outputs": [],
   "source": [
    "torch.manual_seed(13)\n",
    "model_cnn1 = nn.Sequential()\n",
    "\n",
    "# Featurizer\n",
    "# Block 1: 1@10x10 -> n_channels@8x8 -> n_channels@4x4\n",
    "n_channels = 1\n",
    "model_cnn1.add_module('conv1', nn.Conv2d(in_channels=1, out_channels=n_channels, kernel_size=3))\n",
    "model_cnn1.add_module('relu1', nn.ReLU())\n",
    "model_cnn1.add_module('maxp1', nn.MaxPool2d(kernel_size=2))\n",
    "# Flattening: n_channels * 4 * 4\n",
    "model_cnn1.add_module('flatten', nn.Flatten())\n",
    "\n",
    "# Classification\n",
    "# Hidden Layer\n",
    "model_cnn1.add_module('fc1', nn.Linear(in_features=n_channels*4*4, out_features=10))\n",
    "model_cnn1.add_module('relu2', nn.ReLU())\n",
    "# Output Layer\n",
    "model_cnn1.add_module('fc2', nn.Linear(in_features=10, out_features=3))\n",
    "\n",
    "lr = 0.1\n",
    "multi_loss_fn = nn.CrossEntropyLoss(reduction='mean')\n",
    "optimizer_cnn1 = optim.SGD(model_cnn1.parameters(), lr=lr)"
   ]
  },
  {
   "cell_type": "markdown",
   "metadata": {},
   "source": [
    "### Model Training"
   ]
  },
  {
   "cell_type": "code",
   "execution_count": 120,
   "metadata": {},
   "outputs": [],
   "source": [
    "sbs_cnn1 = StepByStep(model_cnn1, multi_loss_fn, optimizer_cnn1)\n",
    "sbs_cnn1.set_loaders(train_loader, val_loader)\n",
    "sbs_cnn1.train(20)"
   ]
  },
  {
   "cell_type": "markdown",
   "metadata": {},
   "source": [
    "### Visualizing Filters"
   ]
  },
  {
   "cell_type": "code",
   "execution_count": 121,
   "metadata": {},
   "outputs": [
    {
     "data": {
      "image/png": "[encoded data removed]",
      "text/plain": [
       "<Figure size 400x200 with 1 Axes>"
      ]
     },
     "metadata": {},
     "output_type": "display_data"
    }
   ],
   "source": [
    "fig_filters = sbs_cnn1.visualize_filters('conv1', cmap='gray')"
   ]
  },
  {
   "cell_type": "markdown",
   "metadata": {},
   "source": [
    "### Capturing Outputs"
   ]
  },
  {
   "cell_type": "code",
   "execution_count": 122,
   "metadata": {},
   "outputs": [],
   "source": [
    "featurizer_layers = ['conv1', 'relu1', 'maxp1', 'flatten']\n",
    "classifier_layers = ['fc1', 'relu2', 'fc2']\n",
    "\n",
    "sbs_cnn1.attach_hooks(layers_to_hook=featurizer_layers + classifier_layers)\n",
    "\n",
    "images_batch, labels_batch = next(iter(val_loader))\n",
    "logits = sbs_cnn1.predict(images_batch)\n",
    "predicted = np.argmax(logits, 1)\n",
    "\n",
    "sbs_cnn1.remove_hooks()"
   ]
  },
  {
   "cell_type": "markdown",
   "metadata": {},
   "source": [
    "### Visualizing Feature Maps"
   ]
  },
  {
   "cell_type": "code",
   "execution_count": 123,
   "metadata": {
    "scrolled": false
   },
   "outputs": [
    {
     "data": {
      "image/png": "[encoded data removed]",
      "text/plain": [
       "<Figure size 1500x600 with 40 Axes>"
      ]
     },
     "metadata": {},
     "output_type": "display_data"
    },
    {
     "data": {
      "image/png": "[encoded data removed]",
      "text/plain": [
       "<Figure size 1500x450 with 30 Axes>"
      ]
     },
     "metadata": {},
     "output_type": "display_data"
    }
   ],
   "source": [
    "with plt.style.context('fivethirtyeight'):\n",
    "    fig_maps1 = sbs_cnn1.visualize_outputs(featurizer_layers)\n",
    "    fig_maps2 = sbs_cnn1.visualize_outputs(classifier_layers, y=labels_batch, yhat=predicted)    "
   ]
  },
  {
   "cell_type": "markdown",
   "metadata": {},
   "source": [
    "### Accuracy"
   ]
  },
  {
   "cell_type": "code",
   "execution_count": 124,
   "metadata": {},
   "outputs": [
    {
     "data": {
      "text/plain": [
       "tensor([[59, 67],\n",
       "        [55, 62],\n",
       "        [71, 71]])"
      ]
     },
     "execution_count": 124,
     "metadata": {},
     "output_type": "execute_result"
    }
   ],
   "source": [
    "StepByStep.loader_apply(sbs_cnn1.val_loader, sbs_cnn1.correct)"
   ]
  },
  {
   "cell_type": "code",
   "execution_count": null,
   "metadata": {},
   "outputs": [],
   "source": []
  }
 ],
 "metadata": {
  "kernelspec": {
   "display_name": "venv",
   "language": "python",
   "name": "python3"
  },
  "language_info": {
   "codemirror_mode": {
    "name": "ipython",
    "version": 3
   },
   "file_extension": ".py",
   "mimetype": "text/x-python",
   "name": "python",
   "nbconvert_exporter": "python",
   "pygments_lexer": "ipython3",
   "version": "3.11.9"
  }
 },
 "nbformat": 4,
 "nbformat_minor": 2
}
